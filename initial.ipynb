{
 "cells": [
  {
   "cell_type": "code",
   "execution_count": 14,
   "id": "73ea5733",
   "metadata": {},
   "outputs": [
    {
     "name": "stderr",
     "output_type": "stream",
     "text": [
      "C:\\Users\\jcars\\AppData\\Local\\Temp\\ipykernel_12848\\36539360.py:3: DtypeWarning: Columns (3,4,20) have mixed types. Specify dtype option on import or set low_memory=False.\n",
      "  jobs = pd.read_csv('C:\\\\Users\\\\jcars\\\\OneDrive\\\\HII_internshipProject\\\\Fleet-Sustainment-HVAC-Project\\\\Data\\\\cvn-hvac-jobs-data.csv')\n",
      "C:\\Users\\jcars\\AppData\\Local\\Temp\\ipykernel_12848\\36539360.py:5: DtypeWarning: Columns (13) have mixed types. Specify dtype option on import or set low_memory=False.\n",
      "  dat = pd.read_csv(\"C:\\\\Users\\\\jcars\\\\OneDrive\\\\HII_internshipProject\\\\Fleet-Sustainment-HVAC-Project\\\\Data\\\\hvac_merged.csv\")\n"
     ]
    }
   ],
   "source": [
    "import pandas as pd\n",
    "\n",
    "jobs = pd.read_csv('C:\\\\Users\\\\jcars\\\\OneDrive\\\\HII_internshipProject\\\\Fleet-Sustainment-HVAC-Project\\\\Data\\\\cvn-hvac-jobs-data.csv')\n",
    "supply = pd.read_csv('C:\\\\Users\\\\jcars\\\\OneDrive\\\\HII_internshipProject\\\\Fleet-Sustainment-HVAC-Project\\\\Data\\\\cvn-hvac-supply-data.csv')\n",
    "dat = pd.read_csv(\"C:\\\\Users\\\\jcars\\\\OneDrive\\\\HII_internshipProject\\\\Fleet-Sustainment-HVAC-Project\\\\Data\\\\hvac_merged.csv\")\n"
   ]
  }
 ],
 "metadata": {
  "kernelspec": {
   "display_name": "Python 3",
   "language": "python",
   "name": "python3"
  },
  "language_info": {
   "codemirror_mode": {
    "name": "ipython",
    "version": 3
   },
   "file_extension": ".py",
   "mimetype": "text/x-python",
   "name": "python",
   "nbconvert_exporter": "python",
   "pygments_lexer": "ipython3",
   "version": "3.11.9"
  }
 },
 "nbformat": 4,
 "nbformat_minor": 5
}
