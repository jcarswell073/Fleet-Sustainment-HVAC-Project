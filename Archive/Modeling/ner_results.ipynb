{
 "cells": [
  {
   "cell_type": "code",
   "execution_count": null,
   "id": "73ea5733",
   "metadata": {},
   "outputs": [],
   "source": [
    "import pandas as pd\n",
    "\n",
    "jobs = pd.read_csv('C:\\\\Users\\\\jcars\\\\OneDrive\\\\HII_internshipProject\\\\Fleet-Sustainment-HVAC-Project\\\\Data\\\\cvn-hvac-jobs-data.csv')\n",
    "supply = pd.read_csv('C:\\\\Users\\\\jcars\\\\OneDrive\\\\HII_internshipProject\\\\Fleet-Sustainment-HVAC-Project\\\\Data\\\\cvn-hvac-supply-data.csv')\n",
    "dat = pd.read_csv(\"C:\\\\Users\\\\jcars\\\\OneDrive\\\\HII_internshipProject\\\\Fleet-Sustainment-HVAC-Project\\\\Data\\\\hvac_merged.csv\")"
   ]
  },
  {
   "cell_type": "code",
   "execution_count": 3,
   "id": "32f6a9cb",
   "metadata": {},
   "outputs": [
    {
     "name": "stderr",
     "output_type": "stream",
     "text": [
      "C:\\Users\\jcars\\AppData\\Local\\Temp\\ipykernel_5268\\2699926427.py:1: DtypeWarning: Columns (14) have mixed types. Specify dtype option on import or set low_memory=False.\n",
      "  csmp = pd.read_csv('C:\\\\Users\\\\jcars\\\\OneDrive\\\\HII_internshipProject\\\\Fleet-Sustainment-HVAC-Project\\\\Notebooks\\\\Modeling\\\\csmp_result.csv')\n"
     ]
    }
   ],
   "source": [
    "csmp = pd.read_csv('C:\\\\Users\\\\jcars\\\\OneDrive\\\\HII_internshipProject\\\\Fleet-Sustainment-HVAC-Project\\\\Notebooks\\\\Modeling\\\\csmp_result.csv')\n",
    "result = csmp[['PART','CONDITION']]\n",
    "result.to_csv('ner_output.csv', index = False)"
   ]
  },
  {
   "cell_type": "code",
   "execution_count": null,
   "id": "2f298673",
   "metadata": {},
   "outputs": [],
   "source": [
    "result #These columns were created using NER"
   ]
  }
 ],
 "metadata": {
  "kernelspec": {
   "display_name": "Python 3",
   "language": "python",
   "name": "python3"
  },
  "language_info": {
   "codemirror_mode": {
    "name": "ipython",
    "version": 3
   },
   "file_extension": ".py",
   "mimetype": "text/x-python",
   "name": "python",
   "nbconvert_exporter": "python",
   "pygments_lexer": "ipython3",
   "version": "3.11.9"
  }
 },
 "nbformat": 4,
 "nbformat_minor": 5
}
