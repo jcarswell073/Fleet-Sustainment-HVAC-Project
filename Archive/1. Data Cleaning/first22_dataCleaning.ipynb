{
 "cells": [
  {
   "cell_type": "code",
   "execution_count": 2,
   "metadata": {},
   "outputs": [],
   "source": [
    "#first 22 data cleaning\n",
    "#Hold the original, unedited first 22: first_subset \n",
    "#first_sub: perform data cleaning on each variable as necessary. Modify as you go\n"
   ]
  },
  {
   "cell_type": "code",
   "execution_count": 1,
   "metadata": {},
   "outputs": [],
   "source": [
    "import pandas as pd\n",
    "#low_memory = False resolves Error: \n",
    "#DtypeWarning: Columns (3,4,20) have mixed types. Specify dtype option on import or set low_memory=False\n",
    "jobs_data = pd.read_csv('cvn-hvac-jobs-data.csv', low_memory = False) \n",
    "supply_data = pd.read_csv('cvn-hvac-supply-data.csv')"
   ]
  },
  {
   "cell_type": "code",
   "execution_count": 4,
   "metadata": {},
   "outputs": [],
   "source": [
    "empty_columns = []\n",
    "for col in jobs_data:\n",
    "    if jobs_data[col].isnull().sum() == len(jobs_data):\n",
    "        empty_columns.append(col)\n",
    "jobs_subset = pd.DataFrame() #subsets to ignore columns with no values\n",
    "for col in jobs_data:\n",
    "    if col not in empty_columns:\n",
    "        jobs_subset[col] = jobs_data[col]"
   ]
  },
  {
   "cell_type": "code",
   "execution_count": 5,
   "metadata": {},
   "outputs": [],
   "source": [
    "first_sub = jobs_subset.iloc[:,:22]\n",
    "\n",
    "#"
   ]
  },
  {
   "cell_type": "code",
   "execution_count": 6,
   "metadata": {},
   "outputs": [
    {
     "name": "stdout",
     "output_type": "stream",
     "text": [
      "uic object Unique Values: 11 Proportion not Na: 1.0\n",
      "job_seq int64 Unique Values: 47350 Proportion not Na: 1.0\n",
      "action_taken_code object Unique Values: 44 Proportion not Na: 0.763\n",
      "alt_closing object Unique Values: 1 Proportion not Na: 0.0\n",
      "alt_opening object Unique Values: 2 Proportion not Na: 0.0\n",
      "apl object Unique Values: 2763 Proportion not Na: 0.998\n",
      "cause_code int64 Unique Values: 9 Proportion not Na: 1.0\n",
      "cdm_rin object Unique Values: 20679 Proportion not Na: 0.98\n",
      "csmp_narrative_summary object Unique Values: 20367 Proportion not Na: 1.0\n",
      "date_closing object Unique Values: 1676 Proportion not Na: 0.763\n",
      "date_maintenance_action object Unique Values: 1659 Proportion not Na: 1.0\n",
      "deferral_reason_code float64 Unique Values: 10 Proportion not Na: 0.999\n",
      "due_date object Unique Values: 855 Proportion not Na: 0.425\n",
      "eic object Unique Values: 178 Proportion not Na: 1.0\n",
      "equipment_nomenclature object Unique Values: 2142 Proportion not Na: 1.0\n",
      "eswbs_closing object Unique Values: 25 Proportion not Na: 0.753\n",
      "eswbs_opening object Unique Values: 21 Proportion not Na: 1.0\n",
      "identification_number_closing object Unique Values: 6160 Proportion not Na: 0.58\n",
      "insurv_number object Unique Values: 448 Proportion not Na: 0.011\n",
      "insurv_suffix float64 Unique Values: 1 Proportion not Na: 0.011\n",
      "integrated_priority object Unique Values: 6 Proportion not Na: 0.14\n",
      "iuc_screening_code object Unique Values: 9 Proportion not Na: 0.564\n"
     ]
    }
   ],
   "source": [
    "for col in first_sub:\n",
    "    print(col, first_sub[col].dtype, \"Unique Values:\" , first_sub[col].nunique(), \"Proportion not Na:\", round((len(first_sub) - first_sub[col].isnull().sum()) / len(first_sub),3))"
   ]
  },
  {
   "cell_type": "markdown",
   "metadata": {},
   "source": [
    "Columns Yet to Be Cleaned:\n",
    "apl,\n",
    "cdm_rin,\n",
    "date_closing,\n",
    "due_date,"
   ]
  },
  {
   "cell_type": "markdown",
   "metadata": {},
   "source": [
    "Columns Cleaned:\n",
    "csmp_narrative_summary: 14 NAs. Replaced NA with 'Unknown'\n",
    "deferral_reason_code: 24 NAs. Replaced with mode = 2.0\n",
    "eic: 10 NAs, replaced with most common value (>27000 occurances)\n",
    "equipment_nomenclature: 1 NA, Replaced with 'Unknown'\n",
    "iuc_screening_code: 20663 NAs, replaced with 0 to represent its own category\n",
    "identification_number_closing: 19883 NAs, replaced with 'UNKNOWN' because there were already values = 'UNKNOWN' for this variable "
   ]
  },
  {
   "cell_type": "markdown",
   "metadata": {},
   "source": [
    "Columns Deleted:\n",
    "action_taken_code\n",
    "alt_closing\n",
    "alt_opening\n",
    "eswbs_closing\n",
    "insuv_suffix\n",
    "insurv_number\n",
    "integrated_priority"
   ]
  },
  {
   "cell_type": "code",
   "execution_count": 7,
   "metadata": {},
   "outputs": [],
   "source": [
    "first_sub['csmp_narrative_summary'].isnull().sum() #14 \n",
    "first_sub['csmp_narrative_summary'] = first_sub['csmp_narrative_summary'].fillna('Unknown') #narrative variable - replaced every NA with 'Unknown'\n"
   ]
  },
  {
   "cell_type": "code",
   "execution_count": 8,
   "metadata": {},
   "outputs": [],
   "source": [
    "####deferral_reason_code. 24 NAs\n",
    "first_sub['deferral_reason_code'] = first_sub['deferral_reason_code'].fillna(2.0)      #deferral_reason_code changed to be the mode\n"
   ]
  },
  {
   "cell_type": "code",
   "execution_count": 9,
   "metadata": {},
   "outputs": [],
   "source": [
    "###iuc_screening_code\n",
    "first_sub['iuc_screening_code'] = first_sub['iuc_screening_code'].fillna('0') #each code represents the iuc's reccomedation. Replace NA with 0, creating a new category\n"
   ]
  },
  {
   "cell_type": "code",
   "execution_count": 10,
   "metadata": {},
   "outputs": [],
   "source": [
    "first_sub['identification_number_closing'] = first_sub['identification_number_closing'].fillna('UNKNOWN') #There is an Unknown category already established in this column "
   ]
  },
  {
   "cell_type": "code",
   "execution_count": 11,
   "metadata": {},
   "outputs": [],
   "source": [
    "first_sub['equipment_nomenclature'] = first_sub['equipment_nomenclature'].fillna('Unknown')"
   ]
  },
  {
   "cell_type": "code",
   "execution_count": 12,
   "metadata": {},
   "outputs": [],
   "source": [
    "first_sub['eic'] = first_sub['eic'].fillna('T200000') #10 NAs in eic, replace with most common value (>27000 occurances)"
   ]
  },
  {
   "cell_type": "code",
   "execution_count": 13,
   "metadata": {},
   "outputs": [],
   "source": [
    "first_sub = first_sub.drop(columns= ['action_taken_code','alt_closing', 'alt_opening', 'insurv_suffix', 'insurv_number', 'eswbs_closing','integrated_priority']) #drop unwanted columns"
   ]
  },
  {
   "cell_type": "code",
   "execution_count": 14,
   "metadata": {},
   "outputs": [],
   "source": [
    "first_clean = first_sub.to_csv('first_clean.csv') \n",
    "#saves cleaned first 22. Note: apl, cdm_rin, date_closing, and due_date still contain NAs\n",
    "#due_date: Want to be able to calculate distances from date maintenance originated to due_date. "
   ]
  },
  {
   "cell_type": "markdown",
   "metadata": {},
   "source": [
    "for col in first_sub:\n",
    "    print(col, first_subset[col].dtype, \"Unique Values:\" , first_subset[col].nunique(), \"Proportion not Na:\", round((len(first_subset) - first_subset[col].isnull().sum()) / len(first_subset),3))"
   ]
  }
 ],
 "metadata": {
  "kernelspec": {
   "display_name": "Python 3",
   "language": "python",
   "name": "python3"
  },
  "language_info": {
   "codemirror_mode": {
    "name": "ipython",
    "version": 3
   },
   "file_extension": ".py",
   "mimetype": "text/x-python",
   "name": "python",
   "nbconvert_exporter": "python",
   "pygments_lexer": "ipython3",
   "version": "3.11.7"
  }
 },
 "nbformat": 4,
 "nbformat_minor": 2
}
