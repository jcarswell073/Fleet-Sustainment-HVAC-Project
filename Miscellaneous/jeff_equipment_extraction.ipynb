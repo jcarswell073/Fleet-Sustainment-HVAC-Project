{
 "cells": [
  {
   "cell_type": "code",
   "execution_count": 51,
   "id": "8f5d99fb",
   "metadata": {},
   "outputs": [],
   "source": [
    "import pandas as pd\n",
    "import matplotlib.pyplot as plt \n",
    "import seaborn as sns\n",
    "\n",
    "jobs = pd.read_pickle(r'Notebooks/jeff-jobs-cleaned-2025.pkl')\n",
    "supply = pd.read_pickle(r'Notebooks/jeff-supply-cleaned-2025.pkl')\n",
    "#stages = pd.read_pickle(r'Notebooks/work_breakdown.pkl')"
   ]
  },
  {
   "cell_type": "code",
   "execution_count": 52,
   "id": "1bc3264d",
   "metadata": {},
   "outputs": [],
   "source": [
    "#Each of these categories is similar to 'Lack of facilities/capabilities'\n",
    "to_group = [ \"No formal training on this equipment\",\"Not authorized for ship's force accomplishment\",\"Inadequate school practical training\",\n",
    "       \"Formal training inadequate for this equipment\", \"Lack of technical documentation\"]\n",
    "jobs['deferral_reason_reduced'] = jobs['deferral_reason'].apply(lambda x: 'Lack of facilities/capabilities' if x in to_group else x)"
   ]
  },
  {
   "cell_type": "markdown",
   "id": "b732e50b",
   "metadata": {},
   "source": [
    "# Goal: Identify The Equipment System Being Worked On"
   ]
  },
  {
   "cell_type": "markdown",
   "id": "4ca46465",
   "metadata": {},
   "source": [
    "# System Frequencies [~ 50 Manually Tagged as Early Trial, still ~ 10k records of unidentified entries]\n",
    "<pre>\n",
    "Ventilation System: 10\n",
    "AC System: 18\n",
    "MC System: 10\n",
    "Heating System: 2\n",
    "Chilled Water System: 5\n",
    "Unknown: 3\n"
   ]
  },
  {
   "cell_type": "code",
   "execution_count": 53,
   "id": "d6fc2583",
   "metadata": {},
   "outputs": [],
   "source": [
    "equipment_map = { #35502 records accounted for\n",
    "    'VENT NONMCH PRP': 'Ventilation System',\n",
    "    'VENTILATION SYST': 'Ventilation System',\n",
    "    'VENT MACH SPCS F': 'Ventilation System',\n",
    "    'AIR CONDITIONING': 'AC System',\n",
    "    'NON-MACHINERY SP': 'Unknown',\n",
    "    'ANNOUNCING SYSTE': 'MC System',\n",
    "    'SVCE STM POTW HT': 'Heating System',\n",
    "    'IC CKT 1MC LOUDS': 'MC System',\n",
    "    'VENTILATION ACCE' : 'Ventilation System',\n",
    "    'IC CKT 1MC/3MC A': 'MC System',\n",
    "    'PLENUM, VENTILAT': 'Ventilation System',\n",
    "    'IC CKT 5MC LOUDS': 'MC System',\n",
    "    'HEATING SYS CONV': 'Heating System',\n",
    "    'IC CKT 1MC/3MC C': 'MC System',\n",
    "    'VENT MACH SPCS S' : 'Ventilation System',\n",
    "    'CHW SYS DRINKING': 'Chilled Water System',\n",
    "    'CHW SYS DUCT TYP': 'Chilled Water System',\n",
    "    'SEE CDM FOR INFO': 'Unknown',\n",
    "    'IM-239/WDQ FC3 R': 'Unknown',\n",
    "    'ANCG SYS LOUDSPE': 'MC System',\n",
    "    '800 TON AC NO 5' : 'AC System',\n",
    "    'VENT MACH SPCS O': 'Ventilation System',\n",
    "    '800 TON AC PLANT': 'AC System',\n",
    "    '800 TON AC NO 2': 'AC System',\n",
    "    'VENT MACH SPCS I': 'Ventilation System',\n",
    "    '800 TON AC NO 1' : 'AC System',\n",
    "    'IC CKT 1MC MICRO': 'MC System',\n",
    "    'Condenser': 'AC System',\n",
    "    '800 TON AC NO 6': 'AC System',\n",
    "    'CHW SYS AC PLT N' : 'Chilled Water System',\n",
    "    '800 TON AC NO 3': 'AC System',\n",
    "    '800 TON AC NO 4': 'AC System',\n",
    "    'AC PLANT 4 SW CI': 'AC System',\n",
    "    'AC PLANT 3 SW CI': 'AC System',\n",
    "    'AC PLANT 6 SW CI': 'AC System',\n",
    "    'CHW SYS MONITORI': 'Chilled Water System',\n",
    "    'CHILLED WTR CLG': 'Chilled Water System',\n",
    "    'AC PLANT 2 SW CI': 'AC System',\n",
    "    'VENT MACH SPCS C': 'Ventilation System',\n",
    "    'IC CKT 11VS AFS': 'MC System',\n",
    "    'AC PLANT 5 SW CI': 'AC System',\n",
    "    'AC PLANT 8 SW CI': 'AC System',\n",
    "    'IC CKT 2MC AMPLI': 'MC System',\n",
    "    'AC PLANT 7 SW CI': 'AC System',\n",
    "    'AC PLANT 1 SW CI': 'AC System',\n",
    "    'AC PLANT 3 COMPR': 'AC System',\n",
    "    'VENT MACH SPCS U': 'Ventilation System',\n",
    "    'IC CKT 17HF AIRF': 'MC System'  \n",
    "}\n",
    "\n",
    "jobs['equipment_type'] = jobs['equipment_nomenclature'].map(equipment_map)"
   ]
  },
  {
   "cell_type": "code",
   "execution_count": 62,
   "id": "082371f0",
   "metadata": {},
   "outputs": [],
   "source": [
    "# Only considering records with equipment_nomenclature in equipment_map\n",
    "jobs_sub = jobs[(jobs['equipment_type'].notna()) & (jobs['equipment_type'] != 'Unknown')]\n",
    "#jobs_sub['equipment_type'].value_counts().round(2). ~80% are Ventilation System"
   ]
  },
  {
   "cell_type": "code",
   "execution_count": null,
   "id": "e5f1c0bc",
   "metadata": {},
   "outputs": [],
   "source": [
    "#Ventilation, AC, MC, Heating, Chilled Water\n",
    "#Variables to Consider: Deferral reason, component status, when discovered, action taken\n",
    "#Binary: Supplies ordered\n",
    "#Numeric: Total hours worked, days elapsed"
   ]
  },
  {
   "cell_type": "markdown",
   "id": "dc3beb64",
   "metadata": {},
   "source": [
    "# Probabilities of Requiring A Supply Order for Each Job Type"
   ]
  },
  {
   "cell_type": "code",
   "execution_count": 56,
   "id": "bb38653d",
   "metadata": {},
   "outputs": [
    {
     "data": {
      "text/plain": [
       "['General Population : 0.3',\n",
       " 'Ventilation System : 0.29',\n",
       " 'AC System : 0.37',\n",
       " 'MC System : 0.27',\n",
       " 'Heating System : 0.49',\n",
       " 'Chilled Water System : 0.21']"
      ]
     },
     "execution_count": 56,
     "metadata": {},
     "output_type": "execute_result"
    }
   ],
   "source": [
    "supply_prob = []\n",
    "supply_prob.append(f\"General Population : {jobs['supplies_ordered'].mean().round(2)}\")\n",
    "\n",
    "types = ['Ventilation System','AC System','MC System','Heating System', 'Chilled Water System']\n",
    "for type in types:\n",
    "    dat = jobs_sub[jobs_sub['equipment_type'] == type]\n",
    "    supply_prob.append(f\"{type} : {dat['supplies_ordered'].mean().round(2)}\")\n",
    "supply_prob\n",
    "\n"
   ]
  },
  {
   "cell_type": "markdown",
   "id": "15e71616",
   "metadata": {},
   "source": [
    "# Deferral Reason Breakdown For Each Equipment Type"
   ]
  },
  {
   "cell_type": "code",
   "execution_count": 58,
   "id": "403e403e",
   "metadata": {},
   "outputs": [],
   "source": [
    "#Each of these categories is similar to 'Lack of facilities/capabilities'\n",
    "to_group = [ \"No formal training on this equipment\",\"Not authorized for ship's force accomplishment\",\"Inadequate school practical training\",\n",
    "       \"Formal training inadequate for this equipment\", \"Lack of technical documentation\"]\n",
    "jobs['deferral_reason_reduced'] = jobs['deferral_reason'].apply(lambda x: 'Lack of facilities/capabilities' if x in to_group else x)"
   ]
  },
  {
   "cell_type": "code",
   "execution_count": null,
   "id": "acdfdd7b",
   "metadata": {},
   "outputs": [],
   "source": [
    "def_reason_proportions = []\n",
    "def_reason_proportions.append(f\"General Population : {jobs['deferral_reason_reduced'].value_counts(normalize = True).round(2)}\")\n",
    "\n",
    "types = ['Ventilation System','AC System','MC System','Heating System', 'Chilled Water System']\n",
    "for type in types:\n",
    "    dat = jobs_sub[jobs_sub['equipment_type'] == type]\n",
    "    def_reason_proportions.append(f\"{type} : {dat['deferral_reason_reduced'].value_counts(normalize = True).round(2)}\")\n",
    "def_reason_proportions"
   ]
  },
  {
   "cell_type": "markdown",
   "id": "2515675c",
   "metadata": {},
   "source": [
    "<pre>\n",
    "General Population : \n",
    "Lack of material                                         0.35\n",
    "Due to ship's force work backlog/operational priority    0.24\n",
    "Lack of facilities/capabilities                          0.17\n",
    "Other - or not applicable                                0.14\n",
    "For ship's force overhaul or availability work list      0.10\n",
    "\n",
    "\n",
    "Ventilation System : \n",
    "Lack of material                                         0.34\n",
    "Due to ship's force work backlog/operational priority    0.25\n",
    "Other - or not applicable                                0.15\n",
    "Lack of facilities/capabilities                          0.15\n",
    "For ship's force overhaul or availability work list      0.11\n",
    "\n",
    "AC System :\n",
    "Lack of material                                         0.46\n",
    "Lack of facilities/capabilities                          0.23\n",
    "Due to ship's force work backlog/operational priority    0.14\n",
    "Other - or not applicable                                0.10\n",
    "For ship's force overhaul or availability work list      0.07\n",
    "\n",
    "\n",
    "MC System : \n",
    "Lack of material                                         0.42\n",
    "Due to ship's force work backlog/operational priority    0.31\n",
    "For ship's force overhaul or availability work list      0.16\n",
    "Lack of facilities/capabilities                          0.07\n",
    "Other - or not applicable                                0.04\n",
    "\n",
    "\n",
    "Heating System : \n",
    "Lack of material                                         0.49\n",
    "Lack of facilities/capabilities                          0.16\n",
    "Due to ship's force work backlog/operational priority    0.15\n",
    "For ship's force overhaul or availability work list      0.12\n",
    "Other - or not applicable                                0.07\n",
    "\n",
    "\n",
    "Chilled Water System :\n",
    "Lack of facilities/capabilities                          0.37\n",
    "Lack of material                                         0.29\n",
    "Due to ship's force work backlog/operational priority    0.19\n",
    "Other - or not applicable                                0.09\n",
    "For ship's force overhaul or availability work list      0.06\n",
    "\n"
   ]
  }
 ],
 "metadata": {
  "kernelspec": {
   "display_name": "base",
   "language": "python",
   "name": "python3"
  },
  "language_info": {
   "codemirror_mode": {
    "name": "ipython",
    "version": 3
   },
   "file_extension": ".py",
   "mimetype": "text/x-python",
   "name": "python",
   "nbconvert_exporter": "python",
   "pygments_lexer": "ipython3",
   "version": "3.12.7"
  }
 },
 "nbformat": 4,
 "nbformat_minor": 5
}
