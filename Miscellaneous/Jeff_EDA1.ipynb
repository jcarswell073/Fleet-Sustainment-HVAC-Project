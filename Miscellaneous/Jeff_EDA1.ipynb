{
 "cells": [
  {
   "cell_type": "code",
   "execution_count": 1,
   "id": "175a5e4d",
   "metadata": {},
   "outputs": [],
   "source": [
    "import pandas as pd\n",
    "dat = pd.read_excel(r'C:\\Users\\jcars\\Downloads\\EQOL 5YR DATA.xlsx') #27609 x 78"
   ]
  },
  {
   "cell_type": "code",
   "execution_count": 10,
   "id": "a78d9769",
   "metadata": {},
   "outputs": [
    {
     "data": {
      "text/plain": [
       "24855"
      ]
     },
     "execution_count": 10,
     "metadata": {},
     "output_type": "execute_result"
    }
   ],
   "source": [
    "dat['problem_description'].nunique()\n",
    "#24855/27609 90% are unique"
   ]
  },
  {
   "cell_type": "markdown",
   "id": "9b2912ac",
   "metadata": {},
   "source": [
    "# Questions\n",
    "What does a row represent?\n",
    "    A job. But what types of jobs? \n",
    "    Are there short maintenances like cleaning? How often?\n",
    "    Are subparts of a job logged seperately or all encapsulated in one entry? Iow, what is the criteria for being logged in the dataset\n",
    "\n",
    "When in the process are jobs logged, i.e date_maintenance_action. When the need for maintenance is discovered, when work begins, etc. ?\n",
    "\n",
    "What do apl and eic actually represent? Are they useful?\n",
    "\n",
    "Does Supply data cover all parts used or only those that need to be ordered from an external location?\n",
    "\n",
    "\n",
    "\n",
    "Possible Idea to mention:\n",
    "Would it make sense to focus more on certain types of jobs?\n",
    "For instance, there are likely some standard jobs like cleaning filters with less information to derive.\n",
    "In comparison, jobs that are more labor-intensive or require more part orders could help us highlight painpoints/ areas for real growth."
   ]
  },
  {
   "cell_type": "markdown",
   "id": "fb7395ed",
   "metadata": {},
   "source": [
    "# Variable By Variable Analysis: Noting Early Findings/ Questions Below"
   ]
  },
  {
   "cell_type": "markdown",
   "id": "1f3e039b",
   "metadata": {},
   "source": [
    "<pre>\n",
    "action_taken_code: \n",
    "96% are 0 through 4.\n",
    "    76% of jobs are completed\n",
    "    18% are canceled (could explore types of jobs being canceled, reasons why, etc.)"
   ]
  },
  {
   "cell_type": "markdown",
   "id": "6abdd2cb",
   "metadata": {},
   "source": [
    "-----------------------------------------------------------------\n",
    "<pre>\n",
    "cause_code:\n",
    "Most are 0 or 7 - No malfunction/ normal wear and tear"
   ]
  },
  {
   "cell_type": "markdown",
   "id": "3533302b",
   "metadata": {},
   "source": [
    "-----------------------------------------------------------------\n",
    "<pre>\n",
    "csmp_narrative_summary\n",
    "Unstrucutred: INOPERABLE VENT DAMPNER and DAMPER INOP have similar intepretations, but are written differently\n",
    "\n",
    "Generally describes the reason for maintenance\n",
    "\n",
    "Seems to be more types of jobs than HVAC data (was a lot of filter cleaning)\n",
    "Fans, fridges, vents, general cleaning ('dirt buildup'), ovens, power, thermostasts, washer/dryer, garbage grinder, heating elements,\n",
    "ice machine, solenoid (?), dishwasher, etc.\n",
    "\n",
    "Range in how specific they are. Some simply say 'Worn parts', 'modernization EQOL', etc."
   ]
  },
  {
   "cell_type": "markdown",
   "id": "2321782f",
   "metadata": {},
   "source": [
    "-----------------------------------------------------------------\n",
    "<pre>\n",
    "Dates:\n",
    "Range from 7/1/2020 to 7/14/2025\n",
    "\n",
    "7849 NA date_closing\n",
    "7849 missing action_taken_code: Likely means the job was not complete (left unfinished) at the time the data stopped being recorded"
   ]
  },
  {
   "cell_type": "markdown",
   "id": "8f13d835",
   "metadata": {},
   "source": [
    "-----------------------------------------------------------------\n",
    "<pre>\n",
    "Note: 884 records present in this dataset are also in hvac dataset.\n",
    "Could have some additional info for these rows\n",
    "Could also be useful to cross refernece rows that exist in both datasets for matching up codes, etc. "
   ]
  },
  {
   "cell_type": "markdown",
   "id": "bdede9cc",
   "metadata": {},
   "source": [
    "-----------------------------------------------------------------\n",
    "<pre>\n",
    "deferral_reason_code:\n",
    "Lack of material (2) most common, still less than 1/2 of records"
   ]
  },
  {
   "cell_type": "markdown",
   "id": "8d86ebd8",
   "metadata": {},
   "source": [
    "--------------------------------------------------\n",
    "<pre>\n",
    "Only 754 distinct equipment nomenclature. \n",
    "Quick look at most common equipment nomenclature, csmp narrative summary pairs:\n",
    "\n",
    "equipment_nomenclature                               csmp_narrative_summary                               job_seq_count\n",
    "\n",
    "VENTILATION SYST                                       EXHAUST AIRFLOW.                                        298\n",
    "VENT NONMCH PRP                                    VENTILATION INLET PLENUMS                                   292\n",
    "FAN AND MOTOR AS                                   FAN AND MOTOR ASSESSMENT                                    237\n",
    "VENT NONMCH PRP                                  VENTILATION OUTLET PLENUMS                                    235\n",
    "VENT NONMCH PRP                                        DIRTY VENT                                              222\n",
    "VENT NONMCH PRP                                  FUKUSHIMA VENT CLEANING                                       183\n",
    "VENT NONMCH PRP                                VENTILATION INLET PLENUMS (OUT                                  183\n",
    "VENT NONMCH PRP                               VENTILATION OUTLET PLENUMS (OU                                   142\n",
    "VENT NONMCH PRP                                 COOLING COIL DRIP PAN                                          135\n",
    "VENT NONMCH PRP                                VENTILATION INLET PLENUM (OUTS                                  130"
   ]
  },
  {
   "cell_type": "markdown",
   "id": "b52edb73",
   "metadata": {},
   "source": [
    "----------------------------------\n",
    "<pre>\n",
    "eswbs_opening = eswbs_closing 71% of the time.\n",
    "Could create binary feature telling whether these variables are equal for a given row (if useful)"
   ]
  },
  {
   "cell_type": "markdown",
   "id": "fb8daf5d",
   "metadata": {},
   "source": [
    "---------------------------\n",
    "<pre>\n",
    "Each row can be uniquely identified by job_seq"
   ]
  },
  {
   "cell_type": "markdown",
   "id": "9465aff9",
   "metadata": {},
   "source": [
    "------------------------\n",
    "<pre>\n",
    "Total Price, Supply data seem likely to be manually created based on the nature of their entries and the fact that they do not follow the traditional \n",
    "style of the other columns (all lower case, words sepereated by underscore)"
   ]
  },
  {
   "cell_type": "markdown",
   "id": "9bb520d5",
   "metadata": {},
   "source": [
    "-------------\n",
    "<pre>\n",
    "Note on equipment_nomenclature and Supply data:\n",
    "\n",
    "My interpretation is that equipment_nomenclature describes the equipment being maintenanced and Supply data describes the part(s) used to fix this equipment. \n",
    "One thought- When the maintenance action is a replacement, the part to perform the maintenance will be that equipment itself.\n",
    "\n",
    "Want to find a way to identify 'Replacement' jobs and look into this further. I would think that for these 'Replacement' jobs, the equipment_nomenclature will be present in Supply data (unless the part being replaced is not logged in Supply data)\n",
    "\n",
    "Leads me to another quesiton:\n",
    "Does Supply data cover all parts used or only those that need to be ordered from an external location?"
   ]
  }
 ],
 "metadata": {
  "kernelspec": {
   "display_name": "Python 3",
   "language": "python",
   "name": "python3"
  },
  "language_info": {
   "codemirror_mode": {
    "name": "ipython",
    "version": 3
   },
   "file_extension": ".py",
   "mimetype": "text/x-python",
   "name": "python",
   "nbconvert_exporter": "python",
   "pygments_lexer": "ipython3",
   "version": "3.13.5"
  }
 },
 "nbformat": 4,
 "nbformat_minor": 5
}
