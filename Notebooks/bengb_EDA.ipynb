{
 "cells": [
  {
   "cell_type": "markdown",
   "id": "7efec372",
   "metadata": {},
   "source": [
    "\n",
    "# Fleet Sustainment HVAC Project - Exploratory Data Analysis\n",
    "## By: bengb\n",
    "### Date: July 11, 2025\n",
    "\n",
    "This notebook contains exploratory data analysis of the HVAC maintenance jobs and supply data for the Fleet Sustainment project. This analysis builds upon the initial work done by Jeff and extends it with my own insights and analysis."
   ]
  },
  {
   "cell_type": "code",
   "execution_count": 2,
   "id": "40f6c31d",
   "metadata": {},
   "outputs": [],
   "source": [
    "import pandas as pd\n",
    "import numpy as np\n",
    "import seaborn as sns\n",
    "import matplotlib.pyplot as plt\n",
    "import statsmodels.api as sm\n",
    "from statsmodels.formula.api import ols\n",
    "\n",
    "jobs = pd.read_pickle(r'Notebooks/jeff-jobs-cleaned-2025.pkl')\n",
    "supply = pd.read_pickle(r'Notebooks/jeff-supply-cleaned-2025.pkl')"
   ]
  },
  {
   "cell_type": "code",
   "execution_count": 4,
   "id": "c592ac1e",
   "metadata": {},
   "outputs": [
    {
     "data": {
      "application/vnd.microsoft.datawrangler.viewer.v0+json": {
       "columns": [
        {
         "name": "index",
         "rawType": "int64",
         "type": "integer"
        },
        {
         "name": "uic",
         "rawType": "category",
         "type": "unknown"
        },
        {
         "name": "job_seq",
         "rawType": "string",
         "type": "string"
        },
        {
         "name": "action_taken_code",
         "rawType": "category",
         "type": "unknown"
        },
        {
         "name": "apl",
         "rawType": "string",
         "type": "string"
        },
        {
         "name": "cause_code",
         "rawType": "category",
         "type": "unknown"
        },
        {
         "name": "cdm_rin",
         "rawType": "string",
         "type": "string"
        },
        {
         "name": "csmp_narrative_summary",
         "rawType": "string",
         "type": "string"
        },
        {
         "name": "date_closing",
         "rawType": "datetime64[ns]",
         "type": "datetime"
        },
        {
         "name": "date_maintenance_action",
         "rawType": "datetime64[ns]",
         "type": "datetime"
        },
        {
         "name": "deferral_reason_code",
         "rawType": "category",
         "type": "unknown"
        },
        {
         "name": "due_date",
         "rawType": "datetime64[ns]",
         "type": "datetime"
        },
        {
         "name": "eic",
         "rawType": "string",
         "type": "string"
        },
        {
         "name": "equipment_nomenclature",
         "rawType": "string",
         "type": "string"
        },
        {
         "name": "eswbs_opening",
         "rawType": "category",
         "type": "unknown"
        },
        {
         "name": "iuc_screening_code",
         "rawType": "category",
         "type": "unknown"
        },
        {
         "name": "jcn",
         "rawType": "string",
         "type": "string"
        },
        {
         "name": "location",
         "rawType": "string",
         "type": "string"
        },
        {
         "name": "mhc",
         "rawType": "int64",
         "type": "integer"
        },
        {
         "name": "mho",
         "rawType": "int64",
         "type": "integer"
        },
        {
         "name": "mhr",
         "rawType": "float64",
         "type": "float"
        },
        {
         "name": "priority_code",
         "rawType": "category",
         "type": "unknown"
        },
        {
         "name": "safety_code",
         "rawType": "category",
         "type": "unknown"
        },
        {
         "name": "status_code",
         "rawType": "category",
         "type": "unknown"
        },
        {
         "name": "tycom_screening_code",
         "rawType": "category",
         "type": "unknown"
        },
        {
         "name": "type_availability_code",
         "rawType": "category",
         "type": "unknown"
        },
        {
         "name": "type_of_maintenance_action",
         "rawType": "category",
         "type": "unknown"
        },
        {
         "name": "when_discovered_code",
         "rawType": "category",
         "type": "unknown"
        },
        {
         "name": "work_center",
         "rawType": "string",
         "type": "string"
        },
        {
         "name": "total_ima_man_hours",
         "rawType": "float64",
         "type": "float"
        },
        {
         "name": "total_replacement_cost",
         "rawType": "float64",
         "type": "float"
        },
        {
         "name": "total_repair_replacement_cost",
         "rawType": "float64",
         "type": "float"
        },
        {
         "name": "def_narrative",
         "rawType": "string",
         "type": "string"
        },
        {
         "name": "nondef_narrative",
         "rawType": "string",
         "type": "string"
        },
        {
         "name": "closing_narrative",
         "rawType": "string",
         "type": "string"
        },
        {
         "name": "ima_narrative",
         "rawType": "string",
         "type": "string"
        },
        {
         "name": "opening_ship_system",
         "rawType": "string",
         "type": "string"
        },
        {
         "name": "job_status",
         "rawType": "category",
         "type": "unknown"
        },
        {
         "name": "action_taken",
         "rawType": "string",
         "type": "string"
        },
        {
         "name": "intermediate_unit_commander_screening",
         "rawType": "string",
         "type": "string"
        },
        {
         "name": "priority",
         "rawType": "string",
         "type": "string"
        },
        {
         "name": "component_status",
         "rawType": "string",
         "type": "string"
        },
        {
         "name": "type_of_availability_needed",
         "rawType": "string",
         "type": "string"
        },
        {
         "name": "tycom_screening",
         "rawType": "string",
         "type": "string"
        },
        {
         "name": "when_discovered",
         "rawType": "string",
         "type": "string"
        },
        {
         "name": "cause",
         "rawType": "string",
         "type": "string"
        },
        {
         "name": "deferral_reason",
         "rawType": "string",
         "type": "string"
        },
        {
         "name": "feasible_with_ship_inventory",
         "rawType": "bool",
         "type": "boolean"
        },
        {
         "name": "feasible_with_additional_dla_inventory",
         "rawType": "bool",
         "type": "boolean"
        },
        {
         "name": "ship",
         "rawType": "string",
         "type": "string"
        },
        {
         "name": "shipname",
         "rawType": "string",
         "type": "string"
        },
        {
         "name": "mho_outlier",
         "rawType": "bool",
         "type": "boolean"
        },
        {
         "name": "mhc_outlier",
         "rawType": "bool",
         "type": "boolean"
        },
        {
         "name": "ima_outlier",
         "rawType": "bool",
         "type": "boolean"
        },
        {
         "name": "hours_worked_flag",
         "rawType": "bool",
         "type": "boolean"
        },
        {
         "name": "replacement_cost_outlier",
         "rawType": "bool",
         "type": "boolean"
        },
        {
         "name": "total_hours_worked",
         "rawType": "float64",
         "type": "float"
        },
        {
         "name": "days_elapsed",
         "rawType": "float64",
         "type": "float"
        },
        {
         "name": "level",
         "rawType": "string",
         "type": "string"
        },
        {
         "name": "frame_number",
         "rawType": "string",
         "type": "string"
        },
        {
         "name": "compartment_distance_from_center",
         "rawType": "string",
         "type": "string"
        },
        {
         "name": "location_purpose",
         "rawType": "string",
         "type": "string"
        },
        {
         "name": "days_elapsed_outlier",
         "rawType": "bool",
         "type": "boolean"
        },
        {
         "name": "supplies_ordered",
         "rawType": "bool",
         "type": "boolean"
        }
       ],
       "ref": "42afd6c4-4b34-4092-9324-97f7b5782030",
       "rows": [
        [
         "0",
         "R03369",
         "36493414",
         "1",
         "43A030026",
         "7",
         "86KYW",
         "PARTS MISSING",
         "2018-05-08 00:00:00",
         "2018-07-16 00:00:00",
         "2.0",
         null,
         "T301000",
         "HOOD VENT  NA-24",
         "51211",
         "0",
         "03369EE04H475",
         "2-200-01-Q",
         "12",
         "0",
         "0.0",
         "4.0",
         "0",
         "1.0",
         "0",
         "4.0",
         "D",
         "3",
         "EE04",
         "12.0",
         "51.0",
         "51.0",
         "Unknown",
         "Unknown",
         "Unknown",
         "Unknown",
         "R0336951211",
         "Closed",
         "Maintenance action completed; parts drawn from supply",
         "Unknown",
         "Desirable",
         "Operational",
         "Ship's force",
         "Unknown",
         "During operability tests",
         "Normal wear and tear",
         "Lack of material",
         "False",
         "False",
         "CVN69",
         "USS DWIGHT D. EISENHOWER",
         "False",
         "False",
         "True",
         "True",
         "True",
         "24.0",
         "-69.0",
         "2",
         "200",
         "01",
         "Q",
         "False",
         "True"
        ],
        [
         "1",
         "R03369",
         "36493441",
         "1",
         "611330020",
         "7",
         "0KYWX",
         "PARTS MISSING",
         "2018-05-10 00:00:00",
         "2018-07-16 00:00:00",
         "2.0",
         null,
         "T301000",
         "CONTROL DE-SMOKE",
         "51211",
         "0",
         "03369EE04H510",
         "2-180-0-L",
         "12",
         "0",
         "0.0",
         "4.0",
         "0",
         "1.0",
         "0",
         "4.0",
         "D",
         "3",
         "EE04",
         "12.0",
         "10.0",
         "10.0",
         "Unknown",
         "Unknown",
         "Unknown",
         "Unknown",
         "R0336951211",
         "Closed",
         "Maintenance action completed; parts drawn from supply",
         "Unknown",
         "Desirable",
         "Operational",
         "Ship's force",
         "Unknown",
         "During operability tests",
         "Normal wear and tear",
         "Lack of material",
         "False",
         "False",
         "CVN69",
         "USS DWIGHT D. EISENHOWER",
         "False",
         "False",
         "True",
         "True",
         "False",
         "24.0",
         "-67.0",
         "2",
         "180",
         "0",
         "L",
         "False",
         "True"
        ],
        [
         "2",
         "R23170",
         "36496418",
         "1",
         "611330020",
         "7",
         "0UXWY",
         "PARTS MISSING",
         "2018-05-29 00:00:00",
         "2018-07-16 00:00:00",
         "2.0",
         null,
         "1B01000",
         "CONTROL DE-SMOKE",
         "51211",
         "0",
         "23170EE04H497",
         "2-84-0-Q",
         "15",
         "0",
         "0.0",
         "4.0",
         "0",
         "1.0",
         "0",
         "4.0",
         "D",
         "3",
         "EE04",
         "12.0",
         "10.0",
         "10.0",
         "Unknown",
         "Unknown",
         "Unknown",
         "Unknown",
         "R2317051211",
         "Closed",
         "Maintenance action completed; parts drawn from supply",
         "Unknown",
         "Desirable",
         "Operational",
         "Ship's force",
         "Unknown",
         "During operability tests",
         "Normal wear and tear",
         "Lack of material",
         "False",
         "False",
         "CVN77",
         "USS GEORGE H.W. BUSH",
         "False",
         "False",
         "True",
         "True",
         "False",
         "27.0",
         "-48.0",
         "2",
         "84",
         "0",
         "Q",
         "False",
         "True"
        ],
        [
         "3",
         "R21853",
         "36305764",
         "1",
         "18550014",
         "7",
         "02THE",
         "PARTS BROKEN",
         "2018-04-12 00:00:00",
         "2018-05-11 00:00:00",
         "2.0",
         null,
         "T301000",
         "PUMP UNIT DETERG",
         "51211",
         "0",
         "21853EE04H433",
         "03-148-2-Q",
         "10",
         "0",
         "0.0",
         "4.0",
         "0",
         "2.0",
         "0",
         "4.0",
         "D",
         "3",
         "EE04",
         "12.0",
         "250.0",
         "250.0",
         "Unknown",
         "Unknown",
         "Unknown",
         "Unknown",
         "R2185351211",
         "Closed",
         "Maintenance action completed; parts drawn from supply",
         "Unknown",
         "Desirable",
         "Non-operational",
         "Ship's force",
         "Unknown",
         "During operability tests",
         "Normal wear and tear",
         "Lack of material",
         "False",
         "False",
         "CVN75",
         "USS HARRY S. TRUMAN",
         "False",
         "False",
         "True",
         "True",
         "True",
         "22.0",
         "-29.0",
         "03",
         "148",
         "2",
         "Q",
         "False",
         "True"
        ],
        [
         "4",
         "R23170",
         "36962865",
         "1",
         "213450019",
         "7",
         "0QGUV",
         "DAMPER WILL NOT RESET",
         "2018-11-29 00:00:00",
         "2018-12-13 00:00:00",
         "2.0",
         null,
         "T200000",
         "SWITCH CONT UNIT",
         "51211",
         "0",
         "23170EE04H501",
         "2-165-0-Q",
         "10",
         "0",
         "0.0",
         "4.0",
         "0",
         "1.0",
         "0",
         "4.0",
         "D",
         "3",
         "EE04",
         "10.0",
         "364.0",
         "364.0",
         "Unknown",
         "COMPLETED BY EMC CASTILLO                                                                                                             ICAV!EQOL!CALIMLIM!7574230082!AMSEC!!AFT CREW GALLEY GAYLORD AUXILIARY VENT DAMPER WILL NOT RESET",
         "ICAV!EQOL!CALIMLIM!7574230082!AMSEC!!AFT CREW GALLEY GAYLORD AUXILIARY VENT DAMPER WILL NOT RESET",
         "AFT CREW GALLEY GAYLORD AUXILIARY VENT DAMPER WILL NOT RESET  XXX  COMPLETED BY EMC CASTILLO",
         "R2317051211",
         "Closed",
         "Maintenance action completed; parts drawn from supply",
         "Unknown",
         "Desirable",
         "Operational",
         "Ship's force",
         "Unknown",
         "During operability tests",
         "Normal wear and tear",
         "Lack of material",
         "False",
         "False",
         "CVN77",
         "USS GEORGE H.W. BUSH",
         "False",
         "False",
         "True",
         "True",
         "True",
         "20.0",
         "-14.0",
         "2",
         "165",
         "0",
         "Q",
         "False",
         "True"
        ]
       ],
       "shape": {
        "columns": 63,
        "rows": 5
       }
      },
      "text/html": [
       "<div>\n",
       "<style scoped>\n",
       "    .dataframe tbody tr th:only-of-type {\n",
       "        vertical-align: middle;\n",
       "    }\n",
       "\n",
       "    .dataframe tbody tr th {\n",
       "        vertical-align: top;\n",
       "    }\n",
       "\n",
       "    .dataframe thead th {\n",
       "        text-align: right;\n",
       "    }\n",
       "</style>\n",
       "<table border=\"1\" class=\"dataframe\">\n",
       "  <thead>\n",
       "    <tr style=\"text-align: right;\">\n",
       "      <th></th>\n",
       "      <th>uic</th>\n",
       "      <th>job_seq</th>\n",
       "      <th>action_taken_code</th>\n",
       "      <th>apl</th>\n",
       "      <th>cause_code</th>\n",
       "      <th>cdm_rin</th>\n",
       "      <th>csmp_narrative_summary</th>\n",
       "      <th>date_closing</th>\n",
       "      <th>date_maintenance_action</th>\n",
       "      <th>deferral_reason_code</th>\n",
       "      <th>...</th>\n",
       "      <th>hours_worked_flag</th>\n",
       "      <th>replacement_cost_outlier</th>\n",
       "      <th>total_hours_worked</th>\n",
       "      <th>days_elapsed</th>\n",
       "      <th>level</th>\n",
       "      <th>frame_number</th>\n",
       "      <th>compartment_distance_from_center</th>\n",
       "      <th>location_purpose</th>\n",
       "      <th>days_elapsed_outlier</th>\n",
       "      <th>supplies_ordered</th>\n",
       "    </tr>\n",
       "  </thead>\n",
       "  <tbody>\n",
       "    <tr>\n",
       "      <th>0</th>\n",
       "      <td>R03369</td>\n",
       "      <td>36493414</td>\n",
       "      <td>1</td>\n",
       "      <td>43A030026</td>\n",
       "      <td>7</td>\n",
       "      <td>86KYW</td>\n",
       "      <td>PARTS MISSING</td>\n",
       "      <td>2018-05-08</td>\n",
       "      <td>2018-07-16</td>\n",
       "      <td>2.0</td>\n",
       "      <td>...</td>\n",
       "      <td>True</td>\n",
       "      <td>True</td>\n",
       "      <td>24.0</td>\n",
       "      <td>-69.0</td>\n",
       "      <td>2</td>\n",
       "      <td>200</td>\n",
       "      <td>01</td>\n",
       "      <td>Q</td>\n",
       "      <td>False</td>\n",
       "      <td>True</td>\n",
       "    </tr>\n",
       "    <tr>\n",
       "      <th>1</th>\n",
       "      <td>R03369</td>\n",
       "      <td>36493441</td>\n",
       "      <td>1</td>\n",
       "      <td>611330020</td>\n",
       "      <td>7</td>\n",
       "      <td>0KYWX</td>\n",
       "      <td>PARTS MISSING</td>\n",
       "      <td>2018-05-10</td>\n",
       "      <td>2018-07-16</td>\n",
       "      <td>2.0</td>\n",
       "      <td>...</td>\n",
       "      <td>True</td>\n",
       "      <td>False</td>\n",
       "      <td>24.0</td>\n",
       "      <td>-67.0</td>\n",
       "      <td>2</td>\n",
       "      <td>180</td>\n",
       "      <td>0</td>\n",
       "      <td>L</td>\n",
       "      <td>False</td>\n",
       "      <td>True</td>\n",
       "    </tr>\n",
       "    <tr>\n",
       "      <th>2</th>\n",
       "      <td>R23170</td>\n",
       "      <td>36496418</td>\n",
       "      <td>1</td>\n",
       "      <td>611330020</td>\n",
       "      <td>7</td>\n",
       "      <td>0UXWY</td>\n",
       "      <td>PARTS MISSING</td>\n",
       "      <td>2018-05-29</td>\n",
       "      <td>2018-07-16</td>\n",
       "      <td>2.0</td>\n",
       "      <td>...</td>\n",
       "      <td>True</td>\n",
       "      <td>False</td>\n",
       "      <td>27.0</td>\n",
       "      <td>-48.0</td>\n",
       "      <td>2</td>\n",
       "      <td>84</td>\n",
       "      <td>0</td>\n",
       "      <td>Q</td>\n",
       "      <td>False</td>\n",
       "      <td>True</td>\n",
       "    </tr>\n",
       "    <tr>\n",
       "      <th>3</th>\n",
       "      <td>R21853</td>\n",
       "      <td>36305764</td>\n",
       "      <td>1</td>\n",
       "      <td>18550014</td>\n",
       "      <td>7</td>\n",
       "      <td>02THE</td>\n",
       "      <td>PARTS BROKEN</td>\n",
       "      <td>2018-04-12</td>\n",
       "      <td>2018-05-11</td>\n",
       "      <td>2.0</td>\n",
       "      <td>...</td>\n",
       "      <td>True</td>\n",
       "      <td>True</td>\n",
       "      <td>22.0</td>\n",
       "      <td>-29.0</td>\n",
       "      <td>03</td>\n",
       "      <td>148</td>\n",
       "      <td>2</td>\n",
       "      <td>Q</td>\n",
       "      <td>False</td>\n",
       "      <td>True</td>\n",
       "    </tr>\n",
       "    <tr>\n",
       "      <th>4</th>\n",
       "      <td>R23170</td>\n",
       "      <td>36962865</td>\n",
       "      <td>1</td>\n",
       "      <td>213450019</td>\n",
       "      <td>7</td>\n",
       "      <td>0QGUV</td>\n",
       "      <td>DAMPER WILL NOT RESET</td>\n",
       "      <td>2018-11-29</td>\n",
       "      <td>2018-12-13</td>\n",
       "      <td>2.0</td>\n",
       "      <td>...</td>\n",
       "      <td>True</td>\n",
       "      <td>True</td>\n",
       "      <td>20.0</td>\n",
       "      <td>-14.0</td>\n",
       "      <td>2</td>\n",
       "      <td>165</td>\n",
       "      <td>0</td>\n",
       "      <td>Q</td>\n",
       "      <td>False</td>\n",
       "      <td>True</td>\n",
       "    </tr>\n",
       "  </tbody>\n",
       "</table>\n",
       "<p>5 rows × 63 columns</p>\n",
       "</div>"
      ],
      "text/plain": [
       "      uic   job_seq action_taken_code        apl cause_code cdm_rin  \\\n",
       "0  R03369  36493414                 1  43A030026          7   86KYW   \n",
       "1  R03369  36493441                 1  611330020          7   0KYWX   \n",
       "2  R23170  36496418                 1  611330020          7   0UXWY   \n",
       "3  R21853  36305764                 1   18550014          7   02THE   \n",
       "4  R23170  36962865                 1  213450019          7   0QGUV   \n",
       "\n",
       "  csmp_narrative_summary date_closing date_maintenance_action  \\\n",
       "0          PARTS MISSING   2018-05-08              2018-07-16   \n",
       "1          PARTS MISSING   2018-05-10              2018-07-16   \n",
       "2          PARTS MISSING   2018-05-29              2018-07-16   \n",
       "3           PARTS BROKEN   2018-04-12              2018-05-11   \n",
       "4  DAMPER WILL NOT RESET   2018-11-29              2018-12-13   \n",
       "\n",
       "  deferral_reason_code  ... hours_worked_flag replacement_cost_outlier  \\\n",
       "0                  2.0  ...              True                     True   \n",
       "1                  2.0  ...              True                    False   \n",
       "2                  2.0  ...              True                    False   \n",
       "3                  2.0  ...              True                     True   \n",
       "4                  2.0  ...              True                     True   \n",
       "\n",
       "  total_hours_worked days_elapsed level frame_number  \\\n",
       "0               24.0        -69.0     2          200   \n",
       "1               24.0        -67.0     2          180   \n",
       "2               27.0        -48.0     2           84   \n",
       "3               22.0        -29.0    03          148   \n",
       "4               20.0        -14.0     2          165   \n",
       "\n",
       "  compartment_distance_from_center  location_purpose  days_elapsed_outlier  \\\n",
       "0                               01                 Q                 False   \n",
       "1                                0                 L                 False   \n",
       "2                                0                 Q                 False   \n",
       "3                                2                 Q                 False   \n",
       "4                                0                 Q                 False   \n",
       "\n",
       "   supplies_ordered  \n",
       "0              True  \n",
       "1              True  \n",
       "2              True  \n",
       "3              True  \n",
       "4              True  \n",
       "\n",
       "[5 rows x 63 columns]"
      ]
     },
     "execution_count": 4,
     "metadata": {},
     "output_type": "execute_result"
    }
   ],
   "source": [
    "jobs.head()"
   ]
  },
  {
   "cell_type": "markdown",
   "id": "47b953c6",
   "metadata": {},
   "source": [
    "| Column                                      | Meaning                                                                  |\n",
    "| ------------------------------------------- | ------------------------------------------------------------------------ |\n",
    "| `uic`, `job_seq`                            | Unique job identifier (you’ll use this to join with `supply`)            |\n",
    "| `action_taken_code`                         | Type of maintenance performed (1 = part drawn from supply, etc.)         |\n",
    "| `days_elapsed`                              | Duration of job (important for R\\&M analysis)                            |\n",
    "| `total_hours_worked`                        | Actual labor applied                                                     |\n",
    "| `days_elapsed_outlier`, `hours_worked_flag` | Outlier flags — use these to clean your data                             |\n",
    "| `supplies_ordered`                          | Flag if a supply record exists for this job                              |\n",
    "| `location_purpose`, `level`, `frame_number` | Spatial metadata — **interesting for geospatial or deck-level analysis** |\n"
   ]
  },
  {
   "cell_type": "code",
   "execution_count": 5,
   "id": "4b4b88f9",
   "metadata": {},
   "outputs": [
    {
     "data": {
      "application/vnd.microsoft.datawrangler.viewer.v0+json": {
       "columns": [
        {
         "name": "index",
         "rawType": "int64",
         "type": "integer"
        },
        {
         "name": "jcn",
         "rawType": "string",
         "type": "string"
        },
        {
         "name": "uic",
         "rawType": "string",
         "type": "string"
        },
        {
         "name": "work_center",
         "rawType": "string",
         "type": "string"
        },
        {
         "name": "jsn",
         "rawType": "string",
         "type": "string"
        },
        {
         "name": "date_maintenance_action",
         "rawType": "datetime64[ns]",
         "type": "datetime"
        },
        {
         "name": "date_closing",
         "rawType": "datetime64[ns]",
         "type": "datetime"
        },
        {
         "name": "demand_date",
         "rawType": "datetime64[ns]",
         "type": "datetime"
        },
        {
         "name": "issue_date",
         "rawType": "datetime64[ns]",
         "type": "datetime"
        },
        {
         "name": "issue_apl",
         "rawType": "string",
         "type": "string"
        },
        {
         "name": "issue_eic",
         "rawType": "string",
         "type": "string"
        },
        {
         "name": "niin",
         "rawType": "string",
         "type": "string"
        },
        {
         "name": "niin_nomenclature",
         "rawType": "string",
         "type": "string"
        },
        {
         "name": "unit_of_issue",
         "rawType": "category",
         "type": "unknown"
        },
        {
         "name": "supply_pri",
         "rawType": "category",
         "type": "unknown"
        },
        {
         "name": "source_code",
         "rawType": "category",
         "type": "unknown"
        },
        {
         "name": "quantity",
         "rawType": "int64",
         "type": "integer"
        },
        {
         "name": "unit_price",
         "rawType": "float64",
         "type": "float"
        },
        {
         "name": "job_seq",
         "rawType": "string",
         "type": "string"
        },
        {
         "name": "issue_before_demand",
         "rawType": "bool",
         "type": "boolean"
        },
        {
         "name": "supply_days_waiting",
         "rawType": "float64",
         "type": "float"
        },
        {
         "name": "tot_price",
         "rawType": "float64",
         "type": "float"
        },
        {
         "name": "supply_days_waiting_outlier",
         "rawType": "bool",
         "type": "boolean"
        },
        {
         "name": "quantity_outlier",
         "rawType": "bool",
         "type": "boolean"
        },
        {
         "name": "unit_price_outlier",
         "rawType": "bool",
         "type": "boolean"
        },
        {
         "name": "valid_dates",
         "rawType": "bool",
         "type": "boolean"
        }
       ],
       "ref": "e3338a14-d2ee-48a7-84c4-2a94c3a95e59",
       "rows": [
        [
         "0",
         "21297EE021067",
         "21297",
         "EE02",
         "1067",
         "2019-10-21 00:00:00",
         "2019-10-23 00:00:00",
         "2019-10-21 00:00:00",
         "2019-10-23 00:00:00",
         "986002160X",
         "T200000",
         "7264371.0",
         "SWITCH,THERMOSTATIC",
         "EA",
         "4.0",
         "A",
         "1",
         "339.24",
         "38199046",
         "False",
         "2.0",
         "339.24",
         "False",
         "False",
         "False",
         "True"
        ],
        [
         "1",
         "03369WG412310",
         "3369",
         "WG41",
         "2310",
         "2020-02-16 00:00:00",
         "2021-11-30 00:00:00",
         "2021-06-15 00:00:00",
         "2021-08-27 00:00:00",
         "319990049",
         "T200000",
         "13223593.0",
         "COVER,ACCESS",
         "EA",
         "4.0",
         "F",
         "1",
         "398.64",
         "38501779",
         "False",
         "73.0",
         "398.64",
         "False",
         "False",
         "False",
         "True"
        ],
        [
         "2",
         "03368RM22080T",
         "3368",
         "RM22",
         "080T",
         "2019-10-04 00:00:00",
         "2020-12-03 00:00:00",
         "2019-10-12 00:00:00",
         "2019-11-18 00:00:00",
         "88A050554X",
         "T200000",
         "14230686.0",
         "GASKET",
         "EA",
         "4.0",
         "G",
         "10",
         "83.42",
         "38127171",
         "False",
         "37.0",
         "834.2",
         "False",
         "True",
         "False",
         "True"
        ],
        [
         "3",
         "21297SS401418",
         "21297",
         "SS40",
         "1418",
         "2019-10-17 00:00:00",
         "2019-10-17 00:00:00",
         "2019-10-17 00:00:00",
         "2019-10-17 00:00:00",
         "48A030006",
         "T200000",
         "15040647.0",
         "FILTER ELEMENT,AIR",
         "EA",
         "4.0",
         "A",
         "62",
         "8.43",
         "38199258",
         "False",
         "0.0",
         "522.66",
         "False",
         "True",
         "False",
         "True"
        ],
        [
         "4",
         "22178VV402163",
         "22178",
         "VV40",
         "2163",
         "2019-10-09 00:00:00",
         "2019-10-22 00:00:00",
         "2019-10-09 00:00:00",
         "2019-10-16 00:00:00",
         "48A030011",
         "T200000",
         "15017405.0",
         "FILTER ELEMENT,AIR",
         "EA",
         "4.0",
         "A",
         "2",
         "26.31",
         "38040937",
         "False",
         "7.0",
         "52.62",
         "False",
         "False",
         "False",
         "True"
        ]
       ],
       "shape": {
        "columns": 25,
        "rows": 5
       }
      },
      "text/html": [
       "<div>\n",
       "<style scoped>\n",
       "    .dataframe tbody tr th:only-of-type {\n",
       "        vertical-align: middle;\n",
       "    }\n",
       "\n",
       "    .dataframe tbody tr th {\n",
       "        vertical-align: top;\n",
       "    }\n",
       "\n",
       "    .dataframe thead th {\n",
       "        text-align: right;\n",
       "    }\n",
       "</style>\n",
       "<table border=\"1\" class=\"dataframe\">\n",
       "  <thead>\n",
       "    <tr style=\"text-align: right;\">\n",
       "      <th></th>\n",
       "      <th>jcn</th>\n",
       "      <th>uic</th>\n",
       "      <th>work_center</th>\n",
       "      <th>jsn</th>\n",
       "      <th>date_maintenance_action</th>\n",
       "      <th>date_closing</th>\n",
       "      <th>demand_date</th>\n",
       "      <th>issue_date</th>\n",
       "      <th>issue_apl</th>\n",
       "      <th>issue_eic</th>\n",
       "      <th>...</th>\n",
       "      <th>quantity</th>\n",
       "      <th>unit_price</th>\n",
       "      <th>job_seq</th>\n",
       "      <th>issue_before_demand</th>\n",
       "      <th>supply_days_waiting</th>\n",
       "      <th>tot_price</th>\n",
       "      <th>supply_days_waiting_outlier</th>\n",
       "      <th>quantity_outlier</th>\n",
       "      <th>unit_price_outlier</th>\n",
       "      <th>valid_dates</th>\n",
       "    </tr>\n",
       "  </thead>\n",
       "  <tbody>\n",
       "    <tr>\n",
       "      <th>0</th>\n",
       "      <td>21297EE021067</td>\n",
       "      <td>21297</td>\n",
       "      <td>EE02</td>\n",
       "      <td>1067</td>\n",
       "      <td>2019-10-21</td>\n",
       "      <td>2019-10-23</td>\n",
       "      <td>2019-10-21</td>\n",
       "      <td>2019-10-23</td>\n",
       "      <td>986002160X</td>\n",
       "      <td>T200000</td>\n",
       "      <td>...</td>\n",
       "      <td>1</td>\n",
       "      <td>339.24</td>\n",
       "      <td>38199046</td>\n",
       "      <td>False</td>\n",
       "      <td>2.0</td>\n",
       "      <td>339.24</td>\n",
       "      <td>False</td>\n",
       "      <td>False</td>\n",
       "      <td>False</td>\n",
       "      <td>True</td>\n",
       "    </tr>\n",
       "    <tr>\n",
       "      <th>1</th>\n",
       "      <td>03369WG412310</td>\n",
       "      <td>3369</td>\n",
       "      <td>WG41</td>\n",
       "      <td>2310</td>\n",
       "      <td>2020-02-16</td>\n",
       "      <td>2021-11-30</td>\n",
       "      <td>2021-06-15</td>\n",
       "      <td>2021-08-27</td>\n",
       "      <td>319990049</td>\n",
       "      <td>T200000</td>\n",
       "      <td>...</td>\n",
       "      <td>1</td>\n",
       "      <td>398.64</td>\n",
       "      <td>38501779</td>\n",
       "      <td>False</td>\n",
       "      <td>73.0</td>\n",
       "      <td>398.64</td>\n",
       "      <td>False</td>\n",
       "      <td>False</td>\n",
       "      <td>False</td>\n",
       "      <td>True</td>\n",
       "    </tr>\n",
       "    <tr>\n",
       "      <th>2</th>\n",
       "      <td>03368RM22080T</td>\n",
       "      <td>3368</td>\n",
       "      <td>RM22</td>\n",
       "      <td>080T</td>\n",
       "      <td>2019-10-04</td>\n",
       "      <td>2020-12-03</td>\n",
       "      <td>2019-10-12</td>\n",
       "      <td>2019-11-18</td>\n",
       "      <td>88A050554X</td>\n",
       "      <td>T200000</td>\n",
       "      <td>...</td>\n",
       "      <td>10</td>\n",
       "      <td>83.42</td>\n",
       "      <td>38127171</td>\n",
       "      <td>False</td>\n",
       "      <td>37.0</td>\n",
       "      <td>834.20</td>\n",
       "      <td>False</td>\n",
       "      <td>True</td>\n",
       "      <td>False</td>\n",
       "      <td>True</td>\n",
       "    </tr>\n",
       "    <tr>\n",
       "      <th>3</th>\n",
       "      <td>21297SS401418</td>\n",
       "      <td>21297</td>\n",
       "      <td>SS40</td>\n",
       "      <td>1418</td>\n",
       "      <td>2019-10-17</td>\n",
       "      <td>2019-10-17</td>\n",
       "      <td>2019-10-17</td>\n",
       "      <td>2019-10-17</td>\n",
       "      <td>48A030006</td>\n",
       "      <td>T200000</td>\n",
       "      <td>...</td>\n",
       "      <td>62</td>\n",
       "      <td>8.43</td>\n",
       "      <td>38199258</td>\n",
       "      <td>False</td>\n",
       "      <td>0.0</td>\n",
       "      <td>522.66</td>\n",
       "      <td>False</td>\n",
       "      <td>True</td>\n",
       "      <td>False</td>\n",
       "      <td>True</td>\n",
       "    </tr>\n",
       "    <tr>\n",
       "      <th>4</th>\n",
       "      <td>22178VV402163</td>\n",
       "      <td>22178</td>\n",
       "      <td>VV40</td>\n",
       "      <td>2163</td>\n",
       "      <td>2019-10-09</td>\n",
       "      <td>2019-10-22</td>\n",
       "      <td>2019-10-09</td>\n",
       "      <td>2019-10-16</td>\n",
       "      <td>48A030011</td>\n",
       "      <td>T200000</td>\n",
       "      <td>...</td>\n",
       "      <td>2</td>\n",
       "      <td>26.31</td>\n",
       "      <td>38040937</td>\n",
       "      <td>False</td>\n",
       "      <td>7.0</td>\n",
       "      <td>52.62</td>\n",
       "      <td>False</td>\n",
       "      <td>False</td>\n",
       "      <td>False</td>\n",
       "      <td>True</td>\n",
       "    </tr>\n",
       "  </tbody>\n",
       "</table>\n",
       "<p>5 rows × 25 columns</p>\n",
       "</div>"
      ],
      "text/plain": [
       "             jcn    uic work_center   jsn date_maintenance_action  \\\n",
       "0  21297EE021067  21297        EE02  1067              2019-10-21   \n",
       "1  03369WG412310   3369        WG41  2310              2020-02-16   \n",
       "2  03368RM22080T   3368        RM22  080T              2019-10-04   \n",
       "3  21297SS401418  21297        SS40  1418              2019-10-17   \n",
       "4  22178VV402163  22178        VV40  2163              2019-10-09   \n",
       "\n",
       "  date_closing demand_date issue_date   issue_apl issue_eic  ... quantity  \\\n",
       "0   2019-10-23  2019-10-21 2019-10-23  986002160X   T200000  ...        1   \n",
       "1   2021-11-30  2021-06-15 2021-08-27   319990049   T200000  ...        1   \n",
       "2   2020-12-03  2019-10-12 2019-11-18  88A050554X   T200000  ...       10   \n",
       "3   2019-10-17  2019-10-17 2019-10-17   48A030006   T200000  ...       62   \n",
       "4   2019-10-22  2019-10-09 2019-10-16   48A030011   T200000  ...        2   \n",
       "\n",
       "  unit_price   job_seq issue_before_demand supply_days_waiting  tot_price  \\\n",
       "0     339.24  38199046               False                 2.0     339.24   \n",
       "1     398.64  38501779               False                73.0     398.64   \n",
       "2      83.42  38127171               False                37.0     834.20   \n",
       "3       8.43  38199258               False                 0.0     522.66   \n",
       "4      26.31  38040937               False                 7.0      52.62   \n",
       "\n",
       "   supply_days_waiting_outlier quantity_outlier  unit_price_outlier  \\\n",
       "0                        False            False               False   \n",
       "1                        False            False               False   \n",
       "2                        False             True               False   \n",
       "3                        False             True               False   \n",
       "4                        False            False               False   \n",
       "\n",
       "   valid_dates  \n",
       "0         True  \n",
       "1         True  \n",
       "2         True  \n",
       "3         True  \n",
       "4         True  \n",
       "\n",
       "[5 rows x 25 columns]"
      ]
     },
     "execution_count": 5,
     "metadata": {},
     "output_type": "execute_result"
    }
   ],
   "source": [
    "supply.head()"
   ]
  },
  {
   "cell_type": "markdown",
   "id": "139831be",
   "metadata": {},
   "source": [
    "| Column                                | Meaning                                                |\n",
    "| ------------------------------------- | ------------------------------------------------------ |\n",
    "| `uic`, `job_seq`, `work_center`       | Used to **join to `jobs`**                             |\n",
    "| `demand_date`, `issue_date`           | When part was requested vs issued                      |\n",
    "| `supply_days_waiting`                 | Wait time for parts — potential **predictor of delay** |\n",
    "| `quantity`, `unit_price`, `tot_price` | Cost info                                              |\n",
    "| `issue_before_demand`, `valid_dates`  | Data quality flags                                     |\n",
    "| `issue_apl`, `issue_eic`              | System identifiers for what was ordered                |\n"
   ]
  },
  {
   "cell_type": "code",
   "execution_count": 7,
   "id": "b28e76a1",
   "metadata": {},
   "outputs": [
    {
     "data": {
      "application/vnd.microsoft.datawrangler.viewer.v0+json": {
       "columns": [
        {
         "name": "supplies_ordered",
         "rawType": "bool",
         "type": "boolean"
        },
        {
         "name": "proportion",
         "rawType": "float64",
         "type": "float"
        }
       ],
       "ref": "f0aacfd5-19c5-43b2-91b6-6bcf79860a10",
       "rows": [
        [
         "False",
         "0.6973600844772967"
        ],
        [
         "True",
         "0.30263991552270325"
        ]
       ],
       "shape": {
        "columns": 1,
        "rows": 2
       }
      },
      "text/plain": [
       "supplies_ordered\n",
       "False    0.69736\n",
       "True     0.30264\n",
       "Name: proportion, dtype: float64"
      ]
     },
     "execution_count": 7,
     "metadata": {},
     "output_type": "execute_result"
    }
   ],
   "source": [
    "jobs['supplies_ordered'].value_counts(normalize=True)"
   ]
  },
  {
   "cell_type": "markdown",
   "id": "ffe7e757",
   "metadata": {},
   "source": [
    "# only 30% involve supply part order"
   ]
  },
  {
   "cell_type": "code",
   "execution_count": null,
   "id": "3b962a24",
   "metadata": {},
   "outputs": [],
   "source": [
    "merged = jobs.merge(supply, on=['uic', 'job_seq'], how='left', indicator=True)\n",
    "merged['_merge'].value_counts()"
   ]
  },
  {
   "cell_type": "code",
   "execution_count": 9,
   "id": "093d15bc",
   "metadata": {},
   "outputs": [
    {
     "data": {
      "application/vnd.microsoft.datawrangler.viewer.v0+json": {
       "columns": [
        {
         "name": "index",
         "rawType": "object",
         "type": "string"
        },
        {
         "name": "days_elapsed",
         "rawType": "float64",
         "type": "float"
        },
        {
         "name": "total_hours_worked",
         "rawType": "float64",
         "type": "float"
        }
       ],
       "ref": "7b549381-8e90-4e3b-afbc-883f2e4a45d3",
       "rows": [
        [
         "count",
         "23311.0",
         "23311.0"
        ],
        [
         "mean",
         "123.59143751876796",
         "7.765432628372871"
        ],
        [
         "std",
         "136.31718709568628",
         "6.767510727139912"
        ],
        [
         "min",
         "-13.0",
         "1.0"
        ],
        [
         "25%",
         "17.0",
         "2.0"
        ],
        [
         "50%",
         "70.0",
         "5.0"
        ],
        [
         "75%",
         "186.0",
         "11.0"
        ],
        [
         "max",
         "554.0",
         "35.0"
        ]
       ],
       "shape": {
        "columns": 2,
        "rows": 8
       }
      },
      "text/html": [
       "<div>\n",
       "<style scoped>\n",
       "    .dataframe tbody tr th:only-of-type {\n",
       "        vertical-align: middle;\n",
       "    }\n",
       "\n",
       "    .dataframe tbody tr th {\n",
       "        vertical-align: top;\n",
       "    }\n",
       "\n",
       "    .dataframe thead th {\n",
       "        text-align: right;\n",
       "    }\n",
       "</style>\n",
       "<table border=\"1\" class=\"dataframe\">\n",
       "  <thead>\n",
       "    <tr style=\"text-align: right;\">\n",
       "      <th></th>\n",
       "      <th>days_elapsed</th>\n",
       "      <th>total_hours_worked</th>\n",
       "    </tr>\n",
       "  </thead>\n",
       "  <tbody>\n",
       "    <tr>\n",
       "      <th>count</th>\n",
       "      <td>23311.000000</td>\n",
       "      <td>23311.000000</td>\n",
       "    </tr>\n",
       "    <tr>\n",
       "      <th>mean</th>\n",
       "      <td>123.591438</td>\n",
       "      <td>7.765433</td>\n",
       "    </tr>\n",
       "    <tr>\n",
       "      <th>std</th>\n",
       "      <td>136.317187</td>\n",
       "      <td>6.767511</td>\n",
       "    </tr>\n",
       "    <tr>\n",
       "      <th>min</th>\n",
       "      <td>-13.000000</td>\n",
       "      <td>1.000000</td>\n",
       "    </tr>\n",
       "    <tr>\n",
       "      <th>25%</th>\n",
       "      <td>17.000000</td>\n",
       "      <td>2.000000</td>\n",
       "    </tr>\n",
       "    <tr>\n",
       "      <th>50%</th>\n",
       "      <td>70.000000</td>\n",
       "      <td>5.000000</td>\n",
       "    </tr>\n",
       "    <tr>\n",
       "      <th>75%</th>\n",
       "      <td>186.000000</td>\n",
       "      <td>11.000000</td>\n",
       "    </tr>\n",
       "    <tr>\n",
       "      <th>max</th>\n",
       "      <td>554.000000</td>\n",
       "      <td>35.000000</td>\n",
       "    </tr>\n",
       "  </tbody>\n",
       "</table>\n",
       "</div>"
      ],
      "text/plain": [
       "       days_elapsed  total_hours_worked\n",
       "count  23311.000000        23311.000000\n",
       "mean     123.591438            7.765433\n",
       "std      136.317187            6.767511\n",
       "min      -13.000000            1.000000\n",
       "25%       17.000000            2.000000\n",
       "50%       70.000000            5.000000\n",
       "75%      186.000000           11.000000\n",
       "max      554.000000           35.000000"
      ]
     },
     "execution_count": 9,
     "metadata": {},
     "output_type": "execute_result"
    }
   ],
   "source": [
    "filtered = jobs[\n",
    "    (jobs['days_elapsed_outlier'] != True) &\n",
    "    (jobs['hours_worked_flag'] != True) &\n",
    "    (jobs['days_elapsed'].notna())\n",
    "]\n",
    "\n",
    "filtered[['days_elapsed', 'total_hours_worked']].describe()"
   ]
  },
  {
   "cell_type": "code",
   "execution_count": 8,
   "id": "b747b1b9",
   "metadata": {},
   "outputs": [
    {
     "data": {
      "text/plain": [
       "Text(0, 0.5, 'Frequency')"
      ]
     },
     "execution_count": 8,
     "metadata": {},
     "output_type": "execute_result"
    },
    {
     "data": {
      "image/png": "[encoded data removed]",
      "text/plain": [
       "<Figure size 640x480 with 1 Axes>"
      ]
     },
     "metadata": {},
     "output_type": "display_data"
    }
   ],
   "source": [
    "supply['supply_days_waiting'].hist(bins=30)\n",
    "plt.title(\"Distribution of Supply Wait Times\")\n",
    "plt.xlabel(\"Days Waiting\")\n",
    "plt.ylabel(\"Frequency\")"
   ]
  },
  {
   "cell_type": "code",
   "execution_count": null,
   "id": "4f55af43",
   "metadata": {},
   "outputs": [
    {
     "data": {
      "application/vnd.microsoft.datawrangler.viewer.v0+json": {
       "columns": [
        {
         "name": "supplies_ordered",
         "rawType": "bool",
         "type": "boolean"
        },
        {
         "name": "days_elapsed",
         "rawType": "float64",
         "type": "float"
        },
        {
         "name": "total_hours_worked",
         "rawType": "float64",
         "type": "float"
        }
       ],
       "ref": "dd57cb29-18c6-4b86-9c17-ddb28c56cf1b",
       "rows": [
        [
         "False",
         "123.0",
         "6.0"
        ],
        [
         "True",
         "53.0",
         "10.0"
        ]
       ],
       "shape": {
        "columns": 2,
        "rows": 2
       }
      },
      "text/html": [
       "<div>\n",
       "<style scoped>\n",
       "    .dataframe tbody tr th:only-of-type {\n",
       "        vertical-align: middle;\n",
       "    }\n",
       "\n",
       "    .dataframe tbody tr th {\n",
       "        vertical-align: top;\n",
       "    }\n",
       "\n",
       "    .dataframe thead th {\n",
       "        text-align: right;\n",
       "    }\n",
       "</style>\n",
       "<table border=\"1\" class=\"dataframe\">\n",
       "  <thead>\n",
       "    <tr style=\"text-align: right;\">\n",
       "      <th></th>\n",
       "      <th>days_elapsed</th>\n",
       "      <th>total_hours_worked</th>\n",
       "    </tr>\n",
       "    <tr>\n",
       "      <th>supplies_ordered</th>\n",
       "      <th></th>\n",
       "      <th></th>\n",
       "    </tr>\n",
       "  </thead>\n",
       "  <tbody>\n",
       "    <tr>\n",
       "      <th>False</th>\n",
       "      <td>123.0</td>\n",
       "      <td>6.0</td>\n",
       "    </tr>\n",
       "    <tr>\n",
       "      <th>True</th>\n",
       "      <td>53.0</td>\n",
       "      <td>10.0</td>\n",
       "    </tr>\n",
       "  </tbody>\n",
       "</table>\n",
       "</div>"
      ],
      "text/plain": [
       "                  days_elapsed  total_hours_worked\n",
       "supplies_ordered                                  \n",
       "False                    123.0                 6.0\n",
       "True                      53.0                10.0"
      ]
     },
     "execution_count": 10,
     "metadata": {},
     "output_type": "execute_result"
    }
   ],
   "source": [
    "jobs.groupby('supplies_ordered')[['days_elapsed', 'total_hours_worked']].median()"
   ]
  },
  {
   "cell_type": "code",
   "execution_count": 12,
   "id": "50447963",
   "metadata": {},
   "outputs": [
    {
     "data": {
      "application/vnd.microsoft.datawrangler.viewer.v0+json": {
       "columns": [
        {
         "name": "issue_apl",
         "rawType": "string",
         "type": "string"
        },
        {
         "name": "count",
         "rawType": "Int64",
         "type": "integer"
        }
       ],
       "ref": "77a3de09-5fc2-48b1-a261-c060cd7f03b5",
       "rows": [
        [
         "48A030009",
         "2165"
        ],
        [
         "48A030006",
         "1990"
        ],
        [
         "48A030005",
         "1702"
        ],
        [
         "48A030010",
         "943"
        ],
        [
         "48A030012",
         "882"
        ],
        [
         "48A030011",
         "866"
        ],
        [
         "48A030007",
         "500"
        ],
        [
         "750840003",
         "452"
        ],
        [
         "610010876",
         "415"
        ],
        [
         "32A150008",
         "412"
        ]
       ],
       "shape": {
        "columns": 1,
        "rows": 10
       }
      },
      "text/plain": [
       "issue_apl\n",
       "48A030009    2165\n",
       "48A030006    1990\n",
       "48A030005    1702\n",
       "48A030010     943\n",
       "48A030012     882\n",
       "48A030011     866\n",
       "48A030007     500\n",
       "750840003     452\n",
       "610010876     415\n",
       "32A150008     412\n",
       "Name: count, dtype: Int64"
      ]
     },
     "execution_count": 12,
     "metadata": {},
     "output_type": "execute_result"
    }
   ],
   "source": [
    "supply['issue_apl'].value_counts().head(10)"
   ]
  },
  {
   "cell_type": "code",
   "execution_count": 13,
   "id": "11d126d1",
   "metadata": {},
   "outputs": [
    {
     "data": {
      "application/vnd.microsoft.datawrangler.viewer.v0+json": {
       "columns": [
        {
         "name": "equipment_nomenclature",
         "rawType": "string",
         "type": "string"
        },
        {
         "name": "count",
         "rawType": "Int64",
         "type": "integer"
        }
       ],
       "ref": "b7fd8c96-ef23-4a5d-9213-3ac5ec73ccdf",
       "rows": [
        [
         "VENT NONMCH PRP",
         "23687"
        ],
        [
         "VENTILATION SYST",
         "1406"
        ],
        [
         "VENT MACH SPCS F",
         "1078"
        ],
        [
         "AIR CONDITIONING",
         "980"
        ],
        [
         "NON-MACHINERY SP",
         "749"
        ],
        [
         "ANNOUNCING SYSTE",
         "693"
        ],
        [
         "SVCE STM POTW HT",
         "639"
        ],
        [
         "IC CKT 1MC LOUDS",
         "603"
        ],
        [
         "VENTILATION ACCE",
         "388"
        ],
        [
         "IC CKT 1MC/3MC A",
         "308"
        ]
       ],
       "shape": {
        "columns": 1,
        "rows": 10
       }
      },
      "text/plain": [
       "equipment_nomenclature\n",
       "VENT NONMCH PRP     23687\n",
       "VENTILATION SYST     1406\n",
       "VENT MACH SPCS F     1078\n",
       "AIR CONDITIONING      980\n",
       "NON-MACHINERY SP      749\n",
       "ANNOUNCING SYSTE      693\n",
       "SVCE STM POTW HT      639\n",
       "IC CKT 1MC LOUDS      603\n",
       "VENTILATION ACCE      388\n",
       "IC CKT 1MC/3MC A      308\n",
       "Name: count, dtype: Int64"
      ]
     },
     "execution_count": 13,
     "metadata": {},
     "output_type": "execute_result"
    }
   ],
   "source": [
    "jobs['equipment_nomenclature'].value_counts().head(10)"
   ]
  },
  {
   "cell_type": "code",
   "execution_count": 15,
   "id": "b7a6cffc",
   "metadata": {},
   "outputs": [
    {
     "data": {
      "application/vnd.microsoft.datawrangler.viewer.v0+json": {
       "columns": [
        {
         "name": "equipment_nomenclature",
         "rawType": "string",
         "type": "string"
        },
        {
         "name": "days_elapsed",
         "rawType": "float64",
         "type": "float"
        }
       ],
       "ref": "8caaec06-d818-4d57-a585-f3b6b3e5124c",
       "rows": [
        [
         "TOXIC GAS EXCLUS",
         "835.0"
        ],
        [
         "VLVGATE 1.25IPS",
         "733.0"
        ],
        [
         "COIL,MAC-3A COOL",
         "711.0"
        ],
        [
         "VENT SYS PLT 2",
         "695.0"
        ],
        [
         "CHW SYS 9 RTN X-",
         "688.0"
        ],
        [
         "AC PLANT NO 6 IN",
         "669.0"
        ],
        [
         "REACTOR PLANT 1",
         "654.0"
        ],
        [
         "IC CKT 11FD-FLOA",
         "647.0"
        ],
        [
         "VENT LOUVERS FR",
         "647.0"
        ],
        [
         "IC CKT 11FD-LIQU",
         "647.0"
        ]
       ],
       "shape": {
        "columns": 1,
        "rows": 10
       }
      },
      "text/plain": [
       "equipment_nomenclature\n",
       "TOXIC GAS EXCLUS    835.0\n",
       "VLVGATE 1.25IPS     733.0\n",
       "COIL,MAC-3A COOL    711.0\n",
       "VENT SYS PLT 2      695.0\n",
       "CHW SYS 9 RTN X-    688.0\n",
       "AC PLANT NO 6 IN    669.0\n",
       "REACTOR PLANT 1     654.0\n",
       "IC CKT 11FD-FLOA    647.0\n",
       "VENT LOUVERS FR     647.0\n",
       "IC CKT 11FD-LIQU    647.0\n",
       "Name: days_elapsed, dtype: float64"
      ]
     },
     "execution_count": 15,
     "metadata": {},
     "output_type": "execute_result"
    }
   ],
   "source": [
    "jobs.groupby(\"equipment_nomenclature\")[\"days_elapsed\"].median().sort_values(ascending=False).head(10)"
   ]
  },
  {
   "cell_type": "code",
   "execution_count": null,
   "id": "0593b1bc",
   "metadata": {},
   "outputs": [
    {
     "data": {
      "application/vnd.microsoft.datawrangler.viewer.v0+json": {
       "columns": [
        {
         "name": "equipment_nomenclature",
         "rawType": "string",
         "type": "string"
        },
        {
         "name": "total_hours_worked",
         "rawType": "float64",
         "type": "float"
        }
       ],
       "ref": "6b835402-e8c6-4469-9078-3a472fc96cd9",
       "rows": [
        [
         "MARLO FCU",
         "4746.0"
        ],
        [
         "LP AIR SYSTEM",
         "2451.0"
        ],
        [
         "LP AIR SYS PIPIN",
         "2451.0"
        ],
        [
         "REFR FWD PLANT 1",
         "1626.0"
        ],
        [
         "NR 6 AIR CONDITI",
         "742.0"
        ],
        [
         "#3 AC COMPRESSOR",
         "726.0"
        ],
        [
         "HANGAR BAY 1",
         "601.0"
        ],
        [
         "HANGAR BAY 3",
         "601.0"
        ],
        [
         "IC CKT 19MC CONN",
         "551.0"
        ],
        [
         "VENT NONMCH PR C",
         "520.0"
        ]
       ],
       "shape": {
        "columns": 1,
        "rows": 10
       }
      },
      "text/plain": [
       "equipment_nomenclature\n",
       "MARLO FCU           4746.0\n",
       "LP AIR SYSTEM       2451.0\n",
       "LP AIR SYS PIPIN    2451.0\n",
       "REFR FWD PLANT 1    1626.0\n",
       "NR 6 AIR CONDITI     742.0\n",
       "#3 AC COMPRESSOR     726.0\n",
       "HANGAR BAY 1         601.0\n",
       "HANGAR BAY 3         601.0\n",
       "IC CKT 19MC CONN     551.0\n",
       "VENT NONMCH PR C     520.0\n",
       "Name: total_hours_worked, dtype: float64"
      ]
     },
     "execution_count": 16,
     "metadata": {},
     "output_type": "execute_result"
    }
   ],
   "source": [
    "jobs.groupby(\"equipment_nomenclature\")[\"total_hours_worked\"].median().sort_values(ascending=False).head(10)"
   ]
  },
  {
   "cell_type": "code",
   "execution_count": 19,
   "id": "3014fc0e",
   "metadata": {},
   "outputs": [
    {
     "data": {
      "application/vnd.microsoft.datawrangler.viewer.v0+json": {
       "columns": [
        {
         "name": "equipment_nomenclature",
         "rawType": "string",
         "type": "string"
        },
        {
         "name": "days_elapsed",
         "rawType": "float64",
         "type": "float"
        },
        {
         "name": "total_hours_worked",
         "rawType": "float64",
         "type": "float"
        },
        {
         "name": "supplies_ordered",
         "rawType": "float64",
         "type": "float"
        }
       ],
       "ref": "1812a354-795f-44ea-a020-423951445f49",
       "rows": [
        [
         "TOXIC GAS EXCLUS",
         "835.0",
         "2.0",
         "0.0"
        ],
        [
         "VLVGATE 1.25IPS",
         "733.0",
         "4.0",
         "0.0"
        ],
        [
         "COIL,MAC-3A COOL",
         "711.0",
         "2.0",
         "0.0"
        ],
        [
         "VENT SYS PLT 2",
         "695.0",
         "1.0",
         "0.0"
        ],
        [
         "CHW SYS 9 RTN X-",
         "688.0",
         "10.0",
         "0.0"
        ],
        [
         "AC PLANT NO 6 IN",
         "669.0",
         "13.0",
         "0.0"
        ],
        [
         "REACTOR PLANT 1",
         "654.0",
         "151.0",
         "0.0"
        ],
        [
         "IC CKT 11FD-FLOA",
         "647.0",
         "9.0",
         "0.2727272727272727"
        ],
        [
         "VENT LOUVERS FR",
         "647.0",
         "1.0",
         "0.0"
        ],
        [
         "IC CKT 11FD-LIQU",
         "647.0",
         "12.5",
         "0.25"
        ],
        [
         "FILTER PLENUM",
         "632.0",
         "22.0",
         "0.0"
        ],
        [
         "TRANSMITTER, DIF",
         "629.5",
         "161.5",
         "0.5"
        ],
        [
         "HEATING SYS LNDR",
         "611.0",
         "51.0",
         "0.0"
        ],
        [
         "#28 MN MACH SUP",
         "610.0",
         "3.0",
         "0.0"
        ],
        [
         "#4 MN MACH EXH",
         "610.0",
         "3.0",
         "0.0"
        ],
        [
         "#36 MN MACH EXH",
         "610.0",
         "3.0",
         "0.0"
        ],
        [
         "#74 MN MACH SUP",
         "610.0",
         "3.0",
         "0.0"
        ],
        [
         "CHW SYS FCU 01-3",
         "605.0",
         "5.0",
         "0.3333333333333333"
        ],
        [
         "UNIVERSAL WPNS M",
         "603.0",
         "21.0",
         "1.0"
        ],
        [
         "CHW SYS ISLAND R",
         "601.0",
         "49.0",
         "1.0"
        ],
        [
         "SWITCH,THRMSTC",
         "594.0",
         "17.0",
         "1.0"
        ],
        [
         "CHW SYS 9 SPLY X",
         "592.5",
         "10.0",
         "0.0"
        ],
        [
         "ANCG SYS OSCILLA",
         "590.0",
         "7.0",
         "0.0"
        ],
        [
         "CHW SYS LPAC NO",
         "581.0",
         "1.0",
         "0.0"
        ],
        [
         "CHW SYS MAC 939",
         "581.0",
         "1.0",
         "0.0"
        ]
       ],
       "shape": {
        "columns": 3,
        "rows": 25
       }
      },
      "text/html": [
       "<div>\n",
       "<style scoped>\n",
       "    .dataframe tbody tr th:only-of-type {\n",
       "        vertical-align: middle;\n",
       "    }\n",
       "\n",
       "    .dataframe tbody tr th {\n",
       "        vertical-align: top;\n",
       "    }\n",
       "\n",
       "    .dataframe thead th {\n",
       "        text-align: right;\n",
       "    }\n",
       "</style>\n",
       "<table border=\"1\" class=\"dataframe\">\n",
       "  <thead>\n",
       "    <tr style=\"text-align: right;\">\n",
       "      <th></th>\n",
       "      <th>days_elapsed</th>\n",
       "      <th>total_hours_worked</th>\n",
       "      <th>supplies_ordered</th>\n",
       "    </tr>\n",
       "    <tr>\n",
       "      <th>equipment_nomenclature</th>\n",
       "      <th></th>\n",
       "      <th></th>\n",
       "      <th></th>\n",
       "    </tr>\n",
       "  </thead>\n",
       "  <tbody>\n",
       "    <tr>\n",
       "      <th>TOXIC GAS EXCLUS</th>\n",
       "      <td>835.0</td>\n",
       "      <td>2.0</td>\n",
       "      <td>0.000000</td>\n",
       "    </tr>\n",
       "    <tr>\n",
       "      <th>VLVGATE 1.25IPS</th>\n",
       "      <td>733.0</td>\n",
       "      <td>4.0</td>\n",
       "      <td>0.000000</td>\n",
       "    </tr>\n",
       "    <tr>\n",
       "      <th>COIL,MAC-3A COOL</th>\n",
       "      <td>711.0</td>\n",
       "      <td>2.0</td>\n",
       "      <td>0.000000</td>\n",
       "    </tr>\n",
       "    <tr>\n",
       "      <th>VENT SYS PLT 2</th>\n",
       "      <td>695.0</td>\n",
       "      <td>1.0</td>\n",
       "      <td>0.000000</td>\n",
       "    </tr>\n",
       "    <tr>\n",
       "      <th>CHW SYS 9 RTN X-</th>\n",
       "      <td>688.0</td>\n",
       "      <td>10.0</td>\n",
       "      <td>0.000000</td>\n",
       "    </tr>\n",
       "    <tr>\n",
       "      <th>AC PLANT NO 6 IN</th>\n",
       "      <td>669.0</td>\n",
       "      <td>13.0</td>\n",
       "      <td>0.000000</td>\n",
       "    </tr>\n",
       "    <tr>\n",
       "      <th>REACTOR PLANT 1</th>\n",
       "      <td>654.0</td>\n",
       "      <td>151.0</td>\n",
       "      <td>0.000000</td>\n",
       "    </tr>\n",
       "    <tr>\n",
       "      <th>IC CKT 11FD-FLOA</th>\n",
       "      <td>647.0</td>\n",
       "      <td>9.0</td>\n",
       "      <td>0.272727</td>\n",
       "    </tr>\n",
       "    <tr>\n",
       "      <th>VENT LOUVERS FR</th>\n",
       "      <td>647.0</td>\n",
       "      <td>1.0</td>\n",
       "      <td>0.000000</td>\n",
       "    </tr>\n",
       "    <tr>\n",
       "      <th>IC CKT 11FD-LIQU</th>\n",
       "      <td>647.0</td>\n",
       "      <td>12.5</td>\n",
       "      <td>0.250000</td>\n",
       "    </tr>\n",
       "    <tr>\n",
       "      <th>FILTER PLENUM</th>\n",
       "      <td>632.0</td>\n",
       "      <td>22.0</td>\n",
       "      <td>0.000000</td>\n",
       "    </tr>\n",
       "    <tr>\n",
       "      <th>TRANSMITTER, DIF</th>\n",
       "      <td>629.5</td>\n",
       "      <td>161.5</td>\n",
       "      <td>0.500000</td>\n",
       "    </tr>\n",
       "    <tr>\n",
       "      <th>HEATING SYS LNDR</th>\n",
       "      <td>611.0</td>\n",
       "      <td>51.0</td>\n",
       "      <td>0.000000</td>\n",
       "    </tr>\n",
       "    <tr>\n",
       "      <th>#28 MN MACH SUP</th>\n",
       "      <td>610.0</td>\n",
       "      <td>3.0</td>\n",
       "      <td>0.000000</td>\n",
       "    </tr>\n",
       "    <tr>\n",
       "      <th>#4 MN MACH EXH</th>\n",
       "      <td>610.0</td>\n",
       "      <td>3.0</td>\n",
       "      <td>0.000000</td>\n",
       "    </tr>\n",
       "    <tr>\n",
       "      <th>#36 MN MACH EXH</th>\n",
       "      <td>610.0</td>\n",
       "      <td>3.0</td>\n",
       "      <td>0.000000</td>\n",
       "    </tr>\n",
       "    <tr>\n",
       "      <th>#74 MN MACH SUP</th>\n",
       "      <td>610.0</td>\n",
       "      <td>3.0</td>\n",
       "      <td>0.000000</td>\n",
       "    </tr>\n",
       "    <tr>\n",
       "      <th>CHW SYS FCU 01-3</th>\n",
       "      <td>605.0</td>\n",
       "      <td>5.0</td>\n",
       "      <td>0.333333</td>\n",
       "    </tr>\n",
       "    <tr>\n",
       "      <th>UNIVERSAL WPNS M</th>\n",
       "      <td>603.0</td>\n",
       "      <td>21.0</td>\n",
       "      <td>1.000000</td>\n",
       "    </tr>\n",
       "    <tr>\n",
       "      <th>CHW SYS ISLAND R</th>\n",
       "      <td>601.0</td>\n",
       "      <td>49.0</td>\n",
       "      <td>1.000000</td>\n",
       "    </tr>\n",
       "    <tr>\n",
       "      <th>SWITCH,THRMSTC</th>\n",
       "      <td>594.0</td>\n",
       "      <td>17.0</td>\n",
       "      <td>1.000000</td>\n",
       "    </tr>\n",
       "    <tr>\n",
       "      <th>CHW SYS 9 SPLY X</th>\n",
       "      <td>592.5</td>\n",
       "      <td>10.0</td>\n",
       "      <td>0.000000</td>\n",
       "    </tr>\n",
       "    <tr>\n",
       "      <th>ANCG SYS OSCILLA</th>\n",
       "      <td>590.0</td>\n",
       "      <td>7.0</td>\n",
       "      <td>0.000000</td>\n",
       "    </tr>\n",
       "    <tr>\n",
       "      <th>CHW SYS LPAC NO</th>\n",
       "      <td>581.0</td>\n",
       "      <td>1.0</td>\n",
       "      <td>0.000000</td>\n",
       "    </tr>\n",
       "    <tr>\n",
       "      <th>CHW SYS MAC 939</th>\n",
       "      <td>581.0</td>\n",
       "      <td>1.0</td>\n",
       "      <td>0.000000</td>\n",
       "    </tr>\n",
       "  </tbody>\n",
       "</table>\n",
       "</div>"
      ],
      "text/plain": [
       "                        days_elapsed  total_hours_worked  supplies_ordered\n",
       "equipment_nomenclature                                                    \n",
       "TOXIC GAS EXCLUS               835.0                 2.0          0.000000\n",
       "VLVGATE 1.25IPS                733.0                 4.0          0.000000\n",
       "COIL,MAC-3A COOL               711.0                 2.0          0.000000\n",
       "VENT SYS PLT 2                 695.0                 1.0          0.000000\n",
       "CHW SYS 9 RTN X-               688.0                10.0          0.000000\n",
       "AC PLANT NO 6 IN               669.0                13.0          0.000000\n",
       "REACTOR PLANT 1                654.0               151.0          0.000000\n",
       "IC CKT 11FD-FLOA               647.0                 9.0          0.272727\n",
       "VENT LOUVERS FR                647.0                 1.0          0.000000\n",
       "IC CKT 11FD-LIQU               647.0                12.5          0.250000\n",
       "FILTER PLENUM                  632.0                22.0          0.000000\n",
       "TRANSMITTER, DIF               629.5               161.5          0.500000\n",
       "HEATING SYS LNDR               611.0                51.0          0.000000\n",
       "#28 MN MACH SUP                610.0                 3.0          0.000000\n",
       "#4 MN MACH EXH                 610.0                 3.0          0.000000\n",
       "#36 MN MACH EXH                610.0                 3.0          0.000000\n",
       "#74 MN MACH SUP                610.0                 3.0          0.000000\n",
       "CHW SYS FCU 01-3               605.0                 5.0          0.333333\n",
       "UNIVERSAL WPNS M               603.0                21.0          1.000000\n",
       "CHW SYS ISLAND R               601.0                49.0          1.000000\n",
       "SWITCH,THRMSTC                 594.0                17.0          1.000000\n",
       "CHW SYS 9 SPLY X               592.5                10.0          0.000000\n",
       "ANCG SYS OSCILLA               590.0                 7.0          0.000000\n",
       "CHW SYS LPAC NO                581.0                 1.0          0.000000\n",
       "CHW SYS MAC 939                581.0                 1.0          0.000000"
      ]
     },
     "execution_count": 19,
     "metadata": {},
     "output_type": "execute_result"
    }
   ],
   "source": [
    "summary = jobs.groupby(\"equipment_nomenclature\").agg({\n",
    "    \"days_elapsed\": \"median\",\n",
    "    \"total_hours_worked\": \"median\",\n",
    "    \"supplies_ordered\": \"mean\"\n",
    "}).sort_values(by=\"days_elapsed\", ascending=False)\n",
    "summary.head(25)"
   ]
  },
  {
   "cell_type": "code",
   "execution_count": 22,
   "id": "8188f072",
   "metadata": {},
   "outputs": [],
   "source": [
    "# Define \"stalled but low effort\" jobs\n",
    "backlog_candidates = jobs[\n",
    "    (jobs['days_elapsed'] > 600) &\n",
    "    (jobs['total_hours_worked'] <= 5) &\n",
    "    (jobs['supplies_ordered'] == False)\n",
    "]\n"
   ]
  },
  {
   "cell_type": "code",
   "execution_count": 23,
   "id": "83ee9f00",
   "metadata": {},
   "outputs": [
    {
     "data": {
      "image/png": "[encoded data removed]",
      "text/plain": [
       "<Figure size 1000x600 with 1 Axes>"
      ]
     },
     "metadata": {},
     "output_type": "display_data"
    }
   ],
   "source": [
    "top_equipment = backlog_candidates['equipment_nomenclature'].value_counts().head(10)\n",
    "\n",
    "plt.figure(figsize=(10, 6))\n",
    "sns.barplot(x=top_equipment.values, y=top_equipment.index)\n",
    "plt.title(\"Top 10 Stalled Equipment Types\")\n",
    "plt.xlabel(\"Number of Backlogged Jobs\")\n",
    "plt.ylabel(\"Equipment Nomenclature\")\n",
    "plt.tight_layout()\n",
    "plt.show()\n"
   ]
  },
  {
   "cell_type": "code",
   "execution_count": 27,
   "id": "80d565a3",
   "metadata": {},
   "outputs": [
    {
     "name": "stdout",
     "output_type": "stream",
     "text": [
      "Backlog candidates: 543 out of 47,350 total jobs\n"
     ]
    }
   ],
   "source": [
    "print(f\"Backlog candidates: {len(backlog_candidates):,} out of {len(jobs):,} total jobs\")\n"
   ]
  },
  {
   "cell_type": "code",
   "execution_count": null,
   "id": "afa0981f",
   "metadata": {},
   "outputs": [
    {
     "data": {
      "image/png": "[encoded data removed]",
      "text/plain": [
       "<Figure size 800x600 with 1 Axes>"
      ]
     },
     "metadata": {},
     "output_type": "display_data"
    }
   ],
   "source": [
    "plt.figure(figsize=(8, 6))\n",
    "sns.scatterplot(\n",
    "    data=backlog_candidates,\n",
    "    x='days_elapsed',\n",
    "    y='total_hours_worked',\n",
    "    alpha=0.4\n",
    ")\n",
    "plt.title(\"Backlog: Delay vs. Man Hours\")\n",
    "plt.xlabel(\"Days Elapsed\")\n",
    "plt.ylabel(\"Total Hours Worked\")\n",
    "plt.grid(True)\n",
    "plt.tight_layout()\n",
    "plt.show()\n",
    "\n"
   ]
  },
  {
   "cell_type": "code",
   "execution_count": 25,
   "id": "445179af",
   "metadata": {},
   "outputs": [
    {
     "data": {
      "application/vnd.microsoft.datawrangler.viewer.v0+json": {
       "columns": [
        {
         "name": "equipment_nomenclature",
         "rawType": "string",
         "type": "string"
        },
        {
         "name": "days_elapsed",
         "rawType": "float64",
         "type": "float"
        },
        {
         "name": "total_hours_worked",
         "rawType": "float64",
         "type": "float"
        },
        {
         "name": "supplies_ordered",
         "rawType": "float64",
         "type": "float"
        }
       ],
       "ref": "01e8131d-4672-40c9-ac81-375a3284b5ad",
       "rows": [
        [
         "PLENUM, VENTILAT",
         "835.0",
         "4.0",
         "0.0"
        ],
        [
         "TOXIC GAS EXCLUS",
         "835.0",
         "2.0",
         "0.0"
        ],
        [
         "800 TON AC NO 1",
         "806.0",
         "4.0",
         "0.0"
        ],
        [
         "CR GALY1 VENT HO",
         "781.0",
         "4.0",
         "0.0"
        ],
        [
         "XPLENM00000",
         "756.0",
         "4.0",
         "0.0"
        ],
        [
         "VLVGATE 1.25IPS",
         "733.0",
         "4.0",
         "0.0"
        ],
        [
         "COIL,MAC-3A COOL",
         "711.0",
         "2.0",
         "0.0"
        ],
        [
         "HEATING SYS VENT",
         "706.5",
         "2.0",
         "0.0"
        ],
        [
         "VENTILATION ACCE",
         "702.0",
         "2.8",
         "0.0"
        ],
        [
         "SEE CDM FOR INFO",
         "699.7",
         "2.7",
         "0.0"
        ],
        [
         "MACHINERY SPACE",
         "695.0",
         "1.0",
         "0.0"
        ],
        [
         "VENT SYS PLT 2",
         "695.0",
         "1.0",
         "0.0"
        ],
        [
         "VENT MACH SPCS O",
         "693.0",
         "1.0",
         "0.0"
        ],
        [
         "AC PLANT 9 SYSTE",
         "692.0",
         "1.0",
         "0.0"
        ],
        [
         "AC PLANT 10 SYST",
         "692.0",
         "4.0",
         "0.0"
        ],
        [
         "AC PLANT 1 SYSTE",
         "692.0",
         "1.0",
         "0.0"
        ],
        [
         "AC PLANT 5 SYSTE",
         "692.0",
         "1.0",
         "0.0"
        ],
        [
         "AC PLANT 7 SYSTE",
         "692.0",
         "5.0",
         "0.0"
        ],
        [
         "VENT MACH SPCS S",
         "688.5",
         "1.2",
         "0.0"
        ],
        [
         "CHW SYS PUMP 1",
         "688.3",
         "1.7",
         "0.0"
        ]
       ],
       "shape": {
        "columns": 3,
        "rows": 20
       }
      },
      "text/html": [
       "<div>\n",
       "<style scoped>\n",
       "    .dataframe tbody tr th:only-of-type {\n",
       "        vertical-align: middle;\n",
       "    }\n",
       "\n",
       "    .dataframe tbody tr th {\n",
       "        vertical-align: top;\n",
       "    }\n",
       "\n",
       "    .dataframe thead th {\n",
       "        text-align: right;\n",
       "    }\n",
       "</style>\n",
       "<table border=\"1\" class=\"dataframe\">\n",
       "  <thead>\n",
       "    <tr style=\"text-align: right;\">\n",
       "      <th></th>\n",
       "      <th>days_elapsed</th>\n",
       "      <th>total_hours_worked</th>\n",
       "      <th>supplies_ordered</th>\n",
       "    </tr>\n",
       "    <tr>\n",
       "      <th>equipment_nomenclature</th>\n",
       "      <th></th>\n",
       "      <th></th>\n",
       "      <th></th>\n",
       "    </tr>\n",
       "  </thead>\n",
       "  <tbody>\n",
       "    <tr>\n",
       "      <th>PLENUM, VENTILAT</th>\n",
       "      <td>835.0</td>\n",
       "      <td>4.0</td>\n",
       "      <td>0.0</td>\n",
       "    </tr>\n",
       "    <tr>\n",
       "      <th>TOXIC GAS EXCLUS</th>\n",
       "      <td>835.0</td>\n",
       "      <td>2.0</td>\n",
       "      <td>0.0</td>\n",
       "    </tr>\n",
       "    <tr>\n",
       "      <th>800 TON AC NO 1</th>\n",
       "      <td>806.0</td>\n",
       "      <td>4.0</td>\n",
       "      <td>0.0</td>\n",
       "    </tr>\n",
       "    <tr>\n",
       "      <th>CR GALY1 VENT HO</th>\n",
       "      <td>781.0</td>\n",
       "      <td>4.0</td>\n",
       "      <td>0.0</td>\n",
       "    </tr>\n",
       "    <tr>\n",
       "      <th>XPLENM00000</th>\n",
       "      <td>756.0</td>\n",
       "      <td>4.0</td>\n",
       "      <td>0.0</td>\n",
       "    </tr>\n",
       "    <tr>\n",
       "      <th>VLVGATE 1.25IPS</th>\n",
       "      <td>733.0</td>\n",
       "      <td>4.0</td>\n",
       "      <td>0.0</td>\n",
       "    </tr>\n",
       "    <tr>\n",
       "      <th>COIL,MAC-3A COOL</th>\n",
       "      <td>711.0</td>\n",
       "      <td>2.0</td>\n",
       "      <td>0.0</td>\n",
       "    </tr>\n",
       "    <tr>\n",
       "      <th>HEATING SYS VENT</th>\n",
       "      <td>706.5</td>\n",
       "      <td>2.0</td>\n",
       "      <td>0.0</td>\n",
       "    </tr>\n",
       "    <tr>\n",
       "      <th>VENTILATION ACCE</th>\n",
       "      <td>702.0</td>\n",
       "      <td>2.8</td>\n",
       "      <td>0.0</td>\n",
       "    </tr>\n",
       "    <tr>\n",
       "      <th>SEE CDM FOR INFO</th>\n",
       "      <td>699.7</td>\n",
       "      <td>2.7</td>\n",
       "      <td>0.0</td>\n",
       "    </tr>\n",
       "    <tr>\n",
       "      <th>MACHINERY SPACE</th>\n",
       "      <td>695.0</td>\n",
       "      <td>1.0</td>\n",
       "      <td>0.0</td>\n",
       "    </tr>\n",
       "    <tr>\n",
       "      <th>VENT SYS PLT 2</th>\n",
       "      <td>695.0</td>\n",
       "      <td>1.0</td>\n",
       "      <td>0.0</td>\n",
       "    </tr>\n",
       "    <tr>\n",
       "      <th>VENT MACH SPCS O</th>\n",
       "      <td>693.0</td>\n",
       "      <td>1.0</td>\n",
       "      <td>0.0</td>\n",
       "    </tr>\n",
       "    <tr>\n",
       "      <th>AC PLANT 9 SYSTE</th>\n",
       "      <td>692.0</td>\n",
       "      <td>1.0</td>\n",
       "      <td>0.0</td>\n",
       "    </tr>\n",
       "    <tr>\n",
       "      <th>AC PLANT 10 SYST</th>\n",
       "      <td>692.0</td>\n",
       "      <td>4.0</td>\n",
       "      <td>0.0</td>\n",
       "    </tr>\n",
       "    <tr>\n",
       "      <th>AC PLANT 1 SYSTE</th>\n",
       "      <td>692.0</td>\n",
       "      <td>1.0</td>\n",
       "      <td>0.0</td>\n",
       "    </tr>\n",
       "    <tr>\n",
       "      <th>AC PLANT 5 SYSTE</th>\n",
       "      <td>692.0</td>\n",
       "      <td>1.0</td>\n",
       "      <td>0.0</td>\n",
       "    </tr>\n",
       "    <tr>\n",
       "      <th>AC PLANT 7 SYSTE</th>\n",
       "      <td>692.0</td>\n",
       "      <td>5.0</td>\n",
       "      <td>0.0</td>\n",
       "    </tr>\n",
       "    <tr>\n",
       "      <th>VENT MACH SPCS S</th>\n",
       "      <td>688.5</td>\n",
       "      <td>1.2</td>\n",
       "      <td>0.0</td>\n",
       "    </tr>\n",
       "    <tr>\n",
       "      <th>CHW SYS PUMP 1</th>\n",
       "      <td>688.3</td>\n",
       "      <td>1.7</td>\n",
       "      <td>0.0</td>\n",
       "    </tr>\n",
       "  </tbody>\n",
       "</table>\n",
       "</div>"
      ],
      "text/plain": [
       "                        days_elapsed  total_hours_worked  supplies_ordered\n",
       "equipment_nomenclature                                                    \n",
       "PLENUM, VENTILAT               835.0                 4.0               0.0\n",
       "TOXIC GAS EXCLUS               835.0                 2.0               0.0\n",
       "800 TON AC NO 1                806.0                 4.0               0.0\n",
       "CR GALY1 VENT HO               781.0                 4.0               0.0\n",
       "XPLENM00000                    756.0                 4.0               0.0\n",
       "VLVGATE 1.25IPS                733.0                 4.0               0.0\n",
       "COIL,MAC-3A COOL               711.0                 2.0               0.0\n",
       "HEATING SYS VENT               706.5                 2.0               0.0\n",
       "VENTILATION ACCE               702.0                 2.8               0.0\n",
       "SEE CDM FOR INFO               699.7                 2.7               0.0\n",
       "MACHINERY SPACE                695.0                 1.0               0.0\n",
       "VENT SYS PLT 2                 695.0                 1.0               0.0\n",
       "VENT MACH SPCS O               693.0                 1.0               0.0\n",
       "AC PLANT 9 SYSTE               692.0                 1.0               0.0\n",
       "AC PLANT 10 SYST               692.0                 4.0               0.0\n",
       "AC PLANT 1 SYSTE               692.0                 1.0               0.0\n",
       "AC PLANT 5 SYSTE               692.0                 1.0               0.0\n",
       "AC PLANT 7 SYSTE               692.0                 5.0               0.0\n",
       "VENT MACH SPCS S               688.5                 1.2               0.0\n",
       "CHW SYS PUMP 1                 688.3                 1.7               0.0"
      ]
     },
     "execution_count": 25,
     "metadata": {},
     "output_type": "execute_result"
    }
   ],
   "source": [
    "summary_table = backlog_candidates.groupby('equipment_nomenclature').agg({\n",
    "    'days_elapsed': 'mean',\n",
    "    'total_hours_worked': 'mean',\n",
    "    'supplies_ordered': 'mean'\n",
    "}).round(1).sort_values(by='days_elapsed', ascending=False).head(20)\n",
    "\n",
    "summary_table\n"
   ]
  },
  {
   "cell_type": "code",
   "execution_count": null,
   "id": "e60e0e6f",
   "metadata": {},
   "outputs": [],
   "source": []
  },
  {
   "cell_type": "code",
   "execution_count": null,
   "id": "f3332989",
   "metadata": {},
   "outputs": [],
   "source": []
  },
  {
   "cell_type": "code",
   "execution_count": null,
   "id": "13d54767",
   "metadata": {},
   "outputs": [],
   "source": []
  },
  {
   "cell_type": "markdown",
   "id": "636152ff",
   "metadata": {},
   "source": [
    "# Jeffs Code"
   ]
  },
  {
   "cell_type": "markdown",
   "id": "c013d269",
   "metadata": {},
   "source": [
    "# Relationship Between Hours Worked and Days Elapsed\n",
    "<pre>\n",
    "There is no linear relationship. \n",
    "\n",
    "This tells that days_elapsed likely has little to do with the difficulty of the job.\n",
    "Could focus efforts into delays that cause a job to go unfinished.\n",
    "\n",
    "Are these jobs being forgotten about, waiting on supplies, simply deemed unimportant? There are many possibities,\n",
    "but I find this lack of a relationship notable. \n",
    "<pre>"
   ]
  },
  {
   "cell_type": "code",
   "execution_count": 3,
   "id": "9f573274",
   "metadata": {},
   "outputs": [
    {
     "data": {
      "text/plain": [
       "-0.0565"
      ]
     },
     "execution_count": 3,
     "metadata": {},
     "output_type": "execute_result"
    }
   ],
   "source": [
    "filtered_jobs = jobs[\n",
    "    (jobs['days_elapsed_outlier'] != True) & \n",
    "    (jobs['hours_worked_flag'] != True) & \n",
    "    (jobs['days_elapsed'].notna())] #23311 records \n",
    "\n",
    "filtered_jobs['days_elapsed'].corr(filtered_jobs['total_hours_worked']).round(4) #-0.0565\n",
    "\n",
    "#Note: Also tried with days_elapsed < 100, got correlation = 0.05"
   ]
  },
  {
   "cell_type": "markdown",
   "id": "8f12ec58",
   "metadata": {},
   "source": [
    "# Hours Worked By Equipment Nomenclature"
   ]
  },
  {
   "cell_type": "code",
   "execution_count": 20,
   "id": "3c4b3743",
   "metadata": {},
   "outputs": [
    {
     "data": {
      "image/png": "[encoded data removed]",
      "text/plain": [
       "<Figure size 640x480 with 1 Axes>"
      ]
     },
     "metadata": {},
     "output_type": "display_data"
    }
   ],
   "source": [
    "top10 = filtered_jobs['equipment_nomenclature'].value_counts().nlargest(10).index\n",
    "df_top10 = filtered_jobs[filtered_jobs['equipment_nomenclature'].isin(top10)]\n",
    "\n",
    "sns.boxplot(x='equipment_nomenclature', y='total_hours_worked', data = df_top10)\n",
    "plt.xticks(rotation = 45)\n",
    "plt.show()\n",
    "#All have at least 188 records\n",
    "#Shows some sign of relationship between equipment being worked on and # of hours required to complete MA \n"
   ]
  },
  {
   "cell_type": "code",
   "execution_count": 31,
   "id": "9df26ded",
   "metadata": {},
   "outputs": [
    {
     "data": {
      "image/png": "[encoded data removed]",
      "text/plain": [
       "<Figure size 640x480 with 1 Axes>"
      ]
     },
     "metadata": {},
     "output_type": "display_data"
    }
   ],
   "source": [
    "sns.boxplot(x='equipment_nomenclature', y='total_hours_worked', hue='supplies_ordered', data=df_top10)\n",
    "plt.xticks(rotation=45)\n",
    "plt.show()\n"
   ]
  },
  {
   "cell_type": "markdown",
   "id": "f6b1bef0",
   "metadata": {},
   "source": [
    "# One way anova "
   ]
  },
  {
   "cell_type": "code",
   "execution_count": 29,
   "id": "9959fc54",
   "metadata": {},
   "outputs": [
    {
     "name": "stdout",
     "output_type": "stream",
     "text": [
      "                                  sum_sq       df          F         PR(>F)\n",
      "C(equipment_nomenclature)   27644.521118      9.0  84.332587  7.283757e-154\n",
      "Residual                   584328.031302  16043.0        NaN            NaN\n"
     ]
    }
   ],
   "source": [
    "#Simple Linear Regression Using Equipment Nomenclature to Predict total_hours_worked\n",
    "df_top10.loc[:,'equipment_nomenclature'] = df_top10['equipment_nomenclature'].astype('category')\n",
    "model = ols('total_hours_worked ~ C(equipment_nomenclature)', data = df_top10).fit()\n",
    "#model.rsquared = .045\n",
    "\n",
    "#ANOVA\n",
    "#Null: No differences between the means of individuals groups\n",
    "#H1: Difference between at least 2 groups means\n",
    "anova_table = sm.stats.anova_lm(model, typ=2)\n",
    "print(anova_table)"
   ]
  },
  {
   "cell_type": "code",
   "execution_count": 37,
   "id": "627fadfb",
   "metadata": {},
   "outputs": [
    {
     "name": "stdout",
     "output_type": "stream",
     "text": [
      "                            OLS Regression Results                            \n",
      "==============================================================================\n",
      "Dep. Variable:     total_hours_worked   R-squared:                       0.046\n",
      "Model:                            OLS   Adj. R-squared:                  0.045\n",
      "Method:                 Least Squares   F-statistic:                     70.08\n",
      "Date:                Tue, 15 Jul 2025   Prob (F-statistic):          2.12e-154\n",
      "Time:                        16:00:51   Log-Likelihood:                -51624.\n",
      "No. Observations:               16053   AIC:                         1.033e+05\n",
      "Df Residuals:                   16041   BIC:                         1.034e+05\n",
      "Df Model:                          11                                         \n",
      "Covariance Type:            nonrobust                                         \n",
      "=================================================================================================================\n",
      "                                                    coef    std err          t      P>|t|      [0.025      0.975]\n",
      "-----------------------------------------------------------------------------------------------------------------\n",
      "Intercept                                        11.1986      0.303     37.007      0.000      10.605      11.792\n",
      "C(equipment_nomenclature)[T.ANNOUNCING SYSTE]    -4.9645      0.496    -10.008      0.000      -5.937      -3.992\n",
      "C(equipment_nomenclature)[T.IC CKT 1MC LOUDS]    -1.1301      0.414     -2.729      0.006      -1.942      -0.318\n",
      "C(equipment_nomenclature)[T.IC CKT 1MC/3MC C]    -0.0458      0.531     -0.086      0.931      -1.087       0.996\n",
      "C(equipment_nomenclature)[T.NON-MACHINERY SP]    -5.5179      0.459    -12.031      0.000      -6.417      -4.619\n",
      "C(equipment_nomenclature)[T.SVCE STM POTW HT]    -0.9881      0.445     -2.219      0.026      -1.861      -0.115\n",
      "C(equipment_nomenclature)[T.VENT MACH SPCS F]    -0.1871      0.469     -0.399      0.690      -1.106       0.732\n",
      "C(equipment_nomenclature)[T.VENT NONMCH PRP]     -4.7503      0.299    -15.879      0.000      -5.337      -4.164\n",
      "C(equipment_nomenclature)[T.VENTILATION ACCE]    -4.3209      0.478     -9.042      0.000      -5.258      -3.384\n",
      "C(equipment_nomenclature)[T.VENTILATION SYST]    -3.5951      0.372     -9.673      0.000      -4.324      -2.867\n",
      "supplies_ordered[T.True]                         -0.1942      0.105     -1.850      0.064      -0.400       0.012\n",
      "days_elapsed                                     -0.0012      0.000     -3.229      0.001      -0.002      -0.000\n",
      "==============================================================================\n",
      "Omnibus:                     4979.197   Durbin-Watson:                   1.474\n",
      "Prob(Omnibus):                  0.000   Jarque-Bera (JB):            13067.656\n",
      "Skew:                           1.699   Prob(JB):                         0.00\n",
      "Kurtosis:                       5.828   Cond. No.                     3.88e+03\n",
      "==============================================================================\n",
      "\n",
      "Notes:\n",
      "[1] Standard Errors assume that the covariance matrix of the errors is correctly specified.\n",
      "[2] The condition number is large, 3.88e+03. This might indicate that there are\n",
      "strong multicollinearity or other numerical problems.\n"
     ]
    },
    {
     "name": "stderr",
     "output_type": "stream",
     "text": [
      "C:\\Users\\bengb\\AppData\\Local\\Temp\\ipykernel_18756\\2741471067.py:5: SettingWithCopyWarning: \n",
      "A value is trying to be set on a copy of a slice from a DataFrame.\n",
      "Try using .loc[row_indexer,col_indexer] = value instead\n",
      "\n",
      "See the caveats in the documentation: https://pandas.pydata.org/pandas-docs/stable/user_guide/indexing.html#returning-a-view-versus-a-copy\n",
      "  df_top10['equipment_nomenclature'] = df_top10['equipment_nomenclature'].astype('category')\n",
      "C:\\Users\\bengb\\AppData\\Local\\Temp\\ipykernel_18756\\2741471067.py:6: SettingWithCopyWarning: \n",
      "A value is trying to be set on a copy of a slice from a DataFrame.\n",
      "Try using .loc[row_indexer,col_indexer] = value instead\n",
      "\n",
      "See the caveats in the documentation: https://pandas.pydata.org/pandas-docs/stable/user_guide/indexing.html#returning-a-view-versus-a-copy\n",
      "  df_top10['supplies_ordered'] = df_top10['supplies_ordered'].astype('bool')\n"
     ]
    }
   ],
   "source": [
    "import statsmodels.api as sm\n",
    "from statsmodels.formula.api import ols\n",
    "\n",
    "# If not already cleaned:\n",
    "df_top10['equipment_nomenclature'] = df_top10['equipment_nomenclature'].astype('category')\n",
    "df_top10['supplies_ordered'] = df_top10['supplies_ordered'].astype('bool')\n",
    "\n",
    "# Drop rows with missing values just in case\n",
    "model_data = df_top10.dropna(subset=['total_hours_worked', 'days_elapsed'])\n",
    "\n",
    "# Fit model\n",
    "formula = 'total_hours_worked ~ C(equipment_nomenclature) + supplies_ordered + days_elapsed'\n",
    "model = ols(formula, data=model_data).fit()\n",
    "\n",
    "print(model.summary())"
   ]
  },
  {
   "cell_type": "code",
   "execution_count": 38,
   "id": "d96f126c",
   "metadata": {},
   "outputs": [
    {
     "name": "stderr",
     "output_type": "stream",
     "text": [
      "C:\\Users\\bengb\\AppData\\Local\\Temp\\ipykernel_18756\\858027017.py:11: SettingWithCopyWarning: \n",
      "A value is trying to be set on a copy of a slice from a DataFrame.\n",
      "Try using .loc[row_indexer,col_indexer] = value instead\n",
      "\n",
      "See the caveats in the documentation: https://pandas.pydata.org/pandas-docs/stable/user_guide/indexing.html#returning-a-view-versus-a-copy\n",
      "  df_top10[var] = df_top10[var].astype('category')\n",
      "C:\\Users\\bengb\\AppData\\Local\\Temp\\ipykernel_18756\\858027017.py:13: SettingWithCopyWarning: \n",
      "A value is trying to be set on a copy of a slice from a DataFrame.\n",
      "Try using .loc[row_indexer,col_indexer] = value instead\n",
      "\n",
      "See the caveats in the documentation: https://pandas.pydata.org/pandas-docs/stable/user_guide/indexing.html#returning-a-view-versus-a-copy\n",
      "  df_top10['supplies_ordered'] = df_top10['supplies_ordered'].astype(bool)\n"
     ]
    },
    {
     "name": "stdout",
     "output_type": "stream",
     "text": [
      "                            OLS Regression Results                            \n",
      "==============================================================================\n",
      "Dep. Variable:     total_hours_worked   R-squared:                       0.118\n",
      "Model:                            OLS   Adj. R-squared:                  0.112\n",
      "Method:                 Least Squares   F-statistic:                     18.46\n",
      "Date:                Tue, 15 Jul 2025   Prob (F-statistic):               0.00\n",
      "Time:                        16:01:00   Log-Likelihood:                -50989.\n",
      "No. Observations:               16053   AIC:                         1.022e+05\n",
      "Df Residuals:                   15936   BIC:                         1.031e+05\n",
      "Df Model:                         116                                         \n",
      "Covariance Type:            nonrobust                                         \n",
      "================================================================================================================================================\n",
      "                                                                                   coef    std err          t      P>|t|      [0.025      0.975]\n",
      "------------------------------------------------------------------------------------------------------------------------------------------------\n",
      "Intercept                                                                        4.5312      3.034      1.494      0.135      -1.416      10.478\n",
      "C(equipment_nomenclature)[T.ANNOUNCING SYSTE]                                   -3.9400      0.631     -6.240      0.000      -5.178      -2.702\n",
      "C(equipment_nomenclature)[T.IC CKT 1MC LOUDS]                                   -0.6215      0.522     -1.192      0.233      -1.644       0.401\n",
      "C(equipment_nomenclature)[T.IC CKT 1MC/3MC C]                                   -0.5190      0.735     -0.706      0.480      -1.960       0.922\n",
      "C(equipment_nomenclature)[T.NON-MACHINERY SP]                                   -4.0524      0.782     -5.183      0.000      -5.585      -2.520\n",
      "C(equipment_nomenclature)[T.SVCE STM POTW HT]                                    0.1629      0.569      0.286      0.775      -0.953       1.279\n",
      "C(equipment_nomenclature)[T.VENT MACH SPCS F]                                   -0.3727      0.503     -0.741      0.458      -1.358       0.613\n",
      "C(equipment_nomenclature)[T.VENT NONMCH PRP]                                    -3.1493      0.462     -6.814      0.000      -4.055      -2.243\n",
      "C(equipment_nomenclature)[T.VENTILATION ACCE]                                   -2.7011      0.782     -3.454      0.001      -4.234      -1.168\n",
      "C(equipment_nomenclature)[T.VENTILATION SYST]                                   -2.1029      0.705     -2.984      0.003      -3.484      -0.721\n",
      "C(priority_code)[T.2.0]                                                          0.8088      2.200      0.368      0.713      -3.503       5.121\n",
      "C(priority_code)[T.3.0]                                                          4.1272      2.067      1.997      0.046       0.076       8.178\n",
      "C(priority_code)[T.4.0]                                                          2.5569      1.963      1.303      0.193      -1.290       6.404\n",
      "C(action_taken_code)[T.1]                                                        1.6216      0.405      4.005      0.000       0.828       2.415\n",
      "C(action_taken_code)[T.1A]                                                       5.2782      1.729      3.053      0.002       1.890       8.667\n",
      "C(action_taken_code)[T.1B]                                                       1.4994      0.741      2.022      0.043       0.046       2.952\n",
      "C(action_taken_code)[T.1C]                                                       0.3121      1.886      0.165      0.869      -3.384       4.008\n",
      "C(action_taken_code)[T.1M]                                                      -1.1815      3.383     -0.349      0.727      -7.814       5.450\n",
      "C(action_taken_code)[T.1T]                                                    1.766e-14   1.25e-14      1.410      0.159    -6.9e-15    4.22e-14\n",
      "C(action_taken_code)[T.2]                                                        1.9605      0.451      4.349      0.000       1.077       2.844\n",
      "C(action_taken_code)[T.2A]                                                       0.5390      2.939      0.183      0.854      -5.223       6.301\n",
      "C(action_taken_code)[T.2B]                                                       2.4535      0.853      2.877      0.004       0.782       4.125\n",
      "C(action_taken_code)[T.2C]                                                       1.0275      1.886      0.545      0.586      -2.669       4.724\n",
      "C(action_taken_code)[T.2M]                                                       4.6223      2.410      1.918      0.055      -0.102       9.346\n",
      "C(action_taken_code)[T.2T]                                                       7.0255      3.391      2.072      0.038       0.379      13.672\n",
      "C(action_taken_code)[T.3]                                                        2.6053      0.406      6.412      0.000       1.809       3.402\n",
      "C(action_taken_code)[T.3A]                                                       2.5227      2.411      1.046      0.295      -2.204       7.249\n",
      "C(action_taken_code)[T.3B]                                                       3.1719      1.210      2.622      0.009       0.801       5.543\n",
      "C(action_taken_code)[T.3C]                                                       1.8206      1.982      0.919      0.358      -2.064       5.705\n",
      "C(action_taken_code)[T.3M]                                                       4.1880      2.244      1.866      0.062      -0.211       8.587\n",
      "C(action_taken_code)[T.3T]                                                      -0.1149      3.391     -0.034      0.973      -6.762       6.532\n",
      "C(action_taken_code)[T.4]                                                        0.3832      0.400      0.957      0.338      -0.401       1.168\n",
      "C(action_taken_code)[T.5A]                                                       1.1965      2.431      0.492      0.623      -3.569       5.962\n",
      "C(action_taken_code)[T.5B]                                                      -0.3156      0.901     -0.350      0.726      -2.082       1.451\n",
      "C(action_taken_code)[T.5C]                                                    1.789e-14   2.25e-14      0.795      0.427   -2.62e-14     6.2e-14\n",
      "C(action_taken_code)[T.6A]                                                      -2.4558      1.984     -1.238      0.216      -6.345       1.433\n",
      "C(action_taken_code)[T.6B]                                                      -1.6903      2.940     -0.575      0.565      -7.452       4.072\n",
      "C(action_taken_code)[T.6C]                                                      -2.3099      5.840     -0.396      0.692     -13.757       9.137\n",
      "C(action_taken_code)[T.6D]                                                    7.112e-15    2.3e-14      0.309      0.757    -3.8e-14    5.22e-14\n",
      "C(action_taken_code)[T.6F]                                                      -0.9413      2.636     -0.357      0.721      -6.109       4.226\n",
      "C(action_taken_code)[T.6G]                                                      -3.4320      4.140     -0.829      0.407     -11.548       4.684\n",
      "C(action_taken_code)[T.6I]                                                       1.1319      0.664      1.705      0.088      -0.169       2.433\n",
      "C(action_taken_code)[T.6J]                                                       0.9819      2.946      0.333      0.739      -4.792       6.756\n",
      "C(action_taken_code)[T.6K]                                                      -7.3159      3.945     -1.854      0.064     -15.049       0.417\n",
      "C(action_taken_code)[T.6L]                                                      -2.1146      1.799     -1.176      0.240      -5.640       1.411\n",
      "C(action_taken_code)[T.7]                                                        7.5463      1.228      6.143      0.000       5.139       9.954\n",
      "C(action_taken_code)[T.7A]                                                      -0.1719      1.208     -0.142      0.887      -2.540       2.196\n",
      "C(action_taken_code)[T.7B]                                                       1.5631      1.980      0.789      0.430      -2.319       5.445\n",
      "C(action_taken_code)[T.7C]                                                      -3.4122      4.135     -0.825      0.409     -11.517       4.692\n",
      "C(action_taken_code)[T.7D]                                                      -1.7859      3.403     -0.525      0.600      -8.457       4.885\n",
      "C(action_taken_code)[T.7E]                                                       1.2989      2.240      0.580      0.562      -3.092       5.690\n",
      "C(action_taken_code)[T.8]                                                        9.7360      5.837      1.668      0.095      -1.706      21.178\n",
      "C(action_taken_code)[T.9]                                                     2.864e-15   7.58e-15      0.378      0.706    -1.2e-14    1.77e-14\n",
      "C(action_taken_code)[T.9G]                                                      -0.0657      5.884     -0.011      0.991     -11.599      11.468\n",
      "C(action_taken_code)[T.9H]                                                       0.4162      5.835      0.071      0.943     -11.021      11.853\n",
      "C(action_taken_code)[T.9J]                                                      -5.9943      5.897     -1.016      0.309     -17.553       5.565\n",
      "C(action_taken_code)[T.Open_job]                                              2.739e-15   9.59e-15      0.286      0.775   -1.61e-14    2.15e-14\n",
      "C(cause_code)[T.1]                                                               2.3367      0.435      5.376      0.000       1.485       3.189\n",
      "C(cause_code)[T.2]                                                               0.7711      0.437      1.765      0.078      -0.085       1.627\n",
      "C(cause_code)[T.3]                                                              -1.3030      0.437     -2.979      0.003      -2.160      -0.446\n",
      "C(cause_code)[T.4]                                                              -0.1552      1.852     -0.084      0.933      -3.785       3.475\n",
      "C(cause_code)[T.5]                                                              -1.1618      0.801     -1.450      0.147      -2.732       0.408\n",
      "C(cause_code)[T.6]                                                               2.0518      0.400      5.126      0.000       1.267       2.836\n",
      "C(cause_code)[T.7]                                                               1.4063      0.131     10.753      0.000       1.150       1.663\n",
      "C(cause_code)[T.8]                                                               3.2579      0.267     12.196      0.000       2.734       3.782\n",
      "C(feasible_with_ship_inventory)[T.True]                                         -0.3673      0.168     -2.182      0.029      -0.697      -0.037\n",
      "C(when_discovered)[T.During PMS]                                                 1.3809      1.092      1.265      0.206      -0.759       3.521\n",
      "C(when_discovered)[T.During inspection]                                          2.0553      1.087      1.891      0.059      -0.075       4.186\n",
      "C(when_discovered)[T.During operability tests]                                   6.2110      1.350      4.601      0.000       3.565       8.857\n",
      "C(when_discovered)[T.Lighting off or starting]                                   5.2015      1.434      3.626      0.000       2.390       8.013\n",
      "C(when_discovered)[T.Normal operation]                                           2.9260      1.090      2.685      0.007       0.790       5.062\n",
      "C(when_discovered)[T.Not applicable (when reporting printing services, etc)]    -0.3336      1.124     -0.297      0.767      -2.536       1.869\n",
      "C(when_discovered)[T.Securing]                                                   0.4217      3.542      0.119      0.905      -6.521       7.365\n",
      "C(when_discovered)[T.Shifting operation modes]                                   4.1242      2.477      1.665      0.096      -0.732       8.980\n",
      "C(when_discovered)[T.no failure, pms accomplishment only]                        0.5477      1.098      0.499      0.618      -1.605       2.700\n",
      "C(location_purpose)[T.C]                                                         0.9421      0.342      2.751      0.006       0.271       1.613\n",
      "C(location_purpose)[T.E]                                                         3.3267      0.473      7.035      0.000       2.400       4.254\n",
      "C(location_purpose)[T.J]                                                        -3.3329      5.832     -0.571      0.568     -14.765       8.099\n",
      "C(location_purpose)[T.K]                                                         1.9700      4.128      0.477      0.633      -6.122      10.062\n",
      "C(location_purpose)[T.L]                                                         0.1964      0.229      0.858      0.391      -0.252       0.645\n",
      "C(location_purpose)[T.M]                                                         2.5642      0.458      5.601      0.000       1.667       3.462\n",
      "C(location_purpose)[T.Q]                                                         0.7019      0.218      3.223      0.001       0.275       1.129\n",
      "C(location_purpose)[T.R]                                                        -1.4188      1.029     -1.379      0.168      -3.436       0.598\n",
      "C(location_purpose)[T.T]                                                         0.3222      1.493      0.216      0.829      -2.605       3.249\n",
      "C(location_purpose)[T.Unknown]                                                   1.9928      2.613      0.763      0.446      -3.130       7.115\n",
      "C(location_purpose)[T.V]                                                        15.6239      5.830      2.680      0.007       4.197      27.051\n",
      "C(location_purpose)[T.WE]                                                       -1.8060      1.195     -1.511      0.131      -4.149       0.537\n",
      "C(location_purpose)[T.X]                                                        -0.7049      2.215     -0.318      0.750      -5.047       3.637\n",
      "C(level)[T.01]                                                                  -2.2036      1.950     -1.130      0.258      -6.025       1.618\n",
      "C(level)[T.010]                                                                 -2.5401      2.105     -1.206      0.228      -6.667       1.587\n",
      "C(level)[T.011]                                                                  0.6791      3.262      0.208      0.835      -5.716       7.074\n",
      "C(level)[T.012]                                                                  7.7173      6.153      1.254      0.210      -4.343      19.778\n",
      "C(level)[T.02]                                                                  -1.8682      1.951     -0.958      0.338      -5.692       1.956\n",
      "C(level)[T.03]                                                                  -2.3005      1.947     -1.182      0.237      -6.117       1.516\n",
      "C(level)[T.04]                                                                  -2.7528      2.059     -1.337      0.181      -6.789       1.283\n",
      "C(level)[T.05]                                                                  -1.4293      2.020     -0.708      0.479      -5.388       2.530\n",
      "C(level)[T.06]                                                                  -2.1094      2.077     -1.016      0.310      -6.180       1.961\n",
      "C(level)[T.07]                                                                  -2.2203      2.072     -1.071      0.284      -6.282       1.842\n",
      "C(level)[T.08]                                                                  -2.3996      2.040     -1.176      0.239      -6.398       1.599\n",
      "C(level)[T.09]                                                                  -1.6170      2.201     -0.735      0.463      -5.931       2.697\n",
      "C(level)[T.1]                                                                   -2.4647      1.955     -1.260      0.208      -6.298       1.368\n",
      "C(level)[T.2]                                                                   -1.8478      1.950     -0.948      0.343      -5.670       1.975\n",
      "C(level)[T.2ND DECK]                                                            -3.8115      3.702     -1.029      0.303     -11.069       3.446\n",
      "C(level)[T.3]                                                                   -2.4010      1.949     -1.232      0.218      -6.221       1.419\n",
      "C(level)[T.3RD DECK]                                                            12.2143      6.670      1.831      0.067      -0.859      25.287\n",
      "C(level)[T.4]                                                                   -2.3792      1.969     -1.208      0.227      -6.238       1.480\n",
      "C(level)[T.5]                                                                   -4.0159      2.002     -2.006      0.045      -7.940      -0.092\n",
      "C(level)[T.6]                                                                   -2.7906      2.021     -1.381      0.167      -6.751       1.170\n",
      "C(level)[T.7]                                                                   -2.8562      2.000     -1.428      0.153      -6.777       1.065\n",
      "C(level)[T.8]                                                                    2.5589      2.505      1.022      0.307      -2.351       7.469\n",
      "C(level)[T.BOW]                                                                 -9.2846      6.665     -1.393      0.164     -22.350       3.780\n",
      "C(level)[T.FR 180]                                                              -5.9091      4.167     -1.418      0.156     -14.076       2.258\n",
      "C(level)[T.FR210]                                                                3.8012      4.676      0.813      0.416      -5.363      12.966\n",
      "C(level)[T.FR235]                                                                1.3377      4.785      0.280      0.780      -8.041      10.716\n",
      "C(level)[T.FUEL AT SEA]                                                         10.6447      6.666      1.597      0.110      -2.421      23.710\n",
      "C(level)[T.FWD RADOME]                                                          -4.6471      6.666     -0.697      0.486     -17.713       8.419\n",
      "C(level)[T.NOT APPLIC]                                                          -4.8402      3.320     -1.458      0.145     -11.347       1.667\n",
      "C(level)[T.Unknown]                                                             -5.2461      3.788     -1.385      0.166     -12.672       2.179\n",
      "C(level)[T.VARIOUS]                                                             -3.8212      3.296     -1.159      0.246     -10.281       2.639\n",
      "C(level)[T.WN CONT SP]                                                          -5.3481      5.245     -1.020      0.308     -15.629       4.933\n",
      "supplies_ordered[T.True]                                                        -0.5931      0.163     -3.631      0.000      -0.913      -0.273\n",
      "days_elapsed                                                                    -0.0016      0.000     -4.064      0.000      -0.002      -0.001\n",
      "==============================================================================\n",
      "Omnibus:                     4737.673   Durbin-Watson:                   1.497\n",
      "Prob(Omnibus):                  0.000   Jarque-Bera (JB):            12343.960\n",
      "Skew:                           1.611   Prob(JB):                         0.00\n",
      "Kurtosis:                       5.841   Cond. No.                     6.34e+18\n",
      "==============================================================================\n",
      "\n",
      "Notes:\n",
      "[1] Standard Errors assume that the covariance matrix of the errors is correctly specified.\n",
      "[2] The smallest eigenvalue is 1.4e-29. This might indicate that there are\n",
      "strong multicollinearity problems or that the design matrix is singular.\n"
     ]
    }
   ],
   "source": [
    "import statsmodels.api as sm\n",
    "from statsmodels.formula.api import ols\n",
    "\n",
    "# Make sure categorical variables are of type 'category'\n",
    "categorical_vars = [\n",
    "    'equipment_nomenclature', 'priority_code', 'action_taken_code',\n",
    "    'cause_code', 'feasible_with_ship_inventory', 'when_discovered',\n",
    "    'location_purpose', 'level'\n",
    "]\n",
    "for var in categorical_vars:\n",
    "    df_top10[var] = df_top10[var].astype('category')\n",
    "\n",
    "df_top10['supplies_ordered'] = df_top10['supplies_ordered'].astype(bool)\n",
    "\n",
    "# Define formula\n",
    "formula = \"\"\"\n",
    "    total_hours_worked ~\n",
    "    C(equipment_nomenclature) +\n",
    "    C(priority_code) +\n",
    "    C(action_taken_code) +\n",
    "    C(cause_code) +\n",
    "    C(feasible_with_ship_inventory) +\n",
    "    C(when_discovered) +\n",
    "    C(location_purpose) +\n",
    "    C(level) +\n",
    "    supplies_ordered +\n",
    "    days_elapsed\n",
    "\"\"\"\n",
    "\n",
    "# Fit model\n",
    "model = ols(formula, data=df_top10).fit()\n",
    "\n",
    "# Output summary\n",
    "print(model.summary())\n"
   ]
  },
  {
   "cell_type": "markdown",
   "id": "80571195",
   "metadata": {},
   "source": [
    "<pre>\n",
    "Very little predictive power using equipment_nomenclature to predict total_hours_worked\n",
    "<pre>"
   ]
  },
  {
   "cell_type": "markdown",
   "id": "c93d7e6a",
   "metadata": {},
   "source": [
    "# Target Variables"
   ]
  },
  {
   "cell_type": "markdown",
   "id": "aa648308",
   "metadata": {},
   "source": [
    "🧭 Step 1: Clarify Your Goal (Target Variable)\n",
    "Before any modeling or feature selection, nail down what problem you're solving.\n",
    "\n",
    "Some good candidate targets based on your data:\n",
    "\n",
    "Target Variable\tDescription\tGood For...\n",
    "total_hours_worked\tHow labor-intensive a job is\tPredicting workload, staffing needs\n",
    "days_elapsed\tHow long a job remains open\tEstimating maintenance backlog\n",
    "supplies_ordered\tWhether a job needed supplies (binary)\tPredicting logistics support needs\n",
    "supply_days_waiting\tTime spent waiting on parts\tIdentifying procurement bottlenecks\n",
    "feasible_with_ship_inventory\tBinary outcome, useful for inventory strategy\tSupply chain/inventory alignment\n",
    "\n",
    "Pick one to start — we can always model others next.\n",
    "\n"
   ]
  },
  {
   "cell_type": "markdown",
   "id": "5de5e28f",
   "metadata": {},
   "source": [
    "# Supplies Ordered"
   ]
  },
  {
   "cell_type": "code",
   "execution_count": 39,
   "id": "faf7fb7b",
   "metadata": {},
   "outputs": [
    {
     "ename": "TypeError",
     "evalue": "Cannot setitem on a Categorical with a new category (-1), set the categories first",
     "output_type": "error",
     "traceback": [
      "\u001b[1;31m---------------------------------------------------------------------------\u001b[0m",
      "\u001b[1;31mTypeError\u001b[0m                                 Traceback (most recent call last)",
      "Cell \u001b[1;32mIn[39], line 24\u001b[0m\n\u001b[0;32m     21\u001b[0m     df[col] \u001b[38;5;241m=\u001b[39m df[col]\u001b[38;5;241m.\u001b[39mastype(\u001b[38;5;124m'\u001b[39m\u001b[38;5;124mcategory\u001b[39m\u001b[38;5;124m'\u001b[39m)\u001b[38;5;241m.\u001b[39mcat\u001b[38;5;241m.\u001b[39mcodes\n\u001b[0;32m     23\u001b[0m \u001b[38;5;66;03m# Fill missing\u001b[39;00m\n\u001b[1;32m---> 24\u001b[0m df \u001b[38;5;241m=\u001b[39m \u001b[43mdf\u001b[49m\u001b[38;5;241;43m.\u001b[39;49m\u001b[43mfillna\u001b[49m\u001b[43m(\u001b[49m\u001b[38;5;241;43m-\u001b[39;49m\u001b[38;5;241;43m1\u001b[39;49m\u001b[43m)\u001b[49m\n\u001b[0;32m     26\u001b[0m \u001b[38;5;66;03m# Features and target\u001b[39;00m\n\u001b[0;32m     27\u001b[0m X \u001b[38;5;241m=\u001b[39m df\u001b[38;5;241m.\u001b[39mdrop(columns\u001b[38;5;241m=\u001b[39m\u001b[38;5;124m'\u001b[39m\u001b[38;5;124msupplies_ordered\u001b[39m\u001b[38;5;124m'\u001b[39m)\n",
      "File \u001b[1;32mc:\\Users\\bengb\\AppData\\Local\\Programs\\Python\\Python310\\lib\\site-packages\\pandas\\core\\generic.py:7297\u001b[0m, in \u001b[0;36mNDFrame.fillna\u001b[1;34m(self, value, method, axis, inplace, limit, downcast)\u001b[0m\n\u001b[0;32m   7295\u001b[0m         new_data \u001b[38;5;241m=\u001b[39m result\u001b[38;5;241m.\u001b[39m_mgr\n\u001b[0;32m   7296\u001b[0m     \u001b[38;5;28;01melse\u001b[39;00m:\n\u001b[1;32m-> 7297\u001b[0m         new_data \u001b[38;5;241m=\u001b[39m \u001b[38;5;28;43mself\u001b[39;49m\u001b[38;5;241;43m.\u001b[39;49m\u001b[43m_mgr\u001b[49m\u001b[38;5;241;43m.\u001b[39;49m\u001b[43mfillna\u001b[49m\u001b[43m(\u001b[49m\n\u001b[0;32m   7298\u001b[0m \u001b[43m            \u001b[49m\u001b[43mvalue\u001b[49m\u001b[38;5;241;43m=\u001b[39;49m\u001b[43mvalue\u001b[49m\u001b[43m,\u001b[49m\u001b[43m \u001b[49m\u001b[43mlimit\u001b[49m\u001b[38;5;241;43m=\u001b[39;49m\u001b[43mlimit\u001b[49m\u001b[43m,\u001b[49m\u001b[43m \u001b[49m\u001b[43minplace\u001b[49m\u001b[38;5;241;43m=\u001b[39;49m\u001b[43minplace\u001b[49m\u001b[43m,\u001b[49m\u001b[43m \u001b[49m\u001b[43mdowncast\u001b[49m\u001b[38;5;241;43m=\u001b[39;49m\u001b[43mdowncast\u001b[49m\n\u001b[0;32m   7299\u001b[0m \u001b[43m        \u001b[49m\u001b[43m)\u001b[49m\n\u001b[0;32m   7300\u001b[0m \u001b[38;5;28;01melif\u001b[39;00m \u001b[38;5;28misinstance\u001b[39m(value, ABCDataFrame) \u001b[38;5;129;01mand\u001b[39;00m \u001b[38;5;28mself\u001b[39m\u001b[38;5;241m.\u001b[39mndim \u001b[38;5;241m==\u001b[39m \u001b[38;5;241m2\u001b[39m:\n\u001b[0;32m   7301\u001b[0m     new_data \u001b[38;5;241m=\u001b[39m \u001b[38;5;28mself\u001b[39m\u001b[38;5;241m.\u001b[39mwhere(\u001b[38;5;28mself\u001b[39m\u001b[38;5;241m.\u001b[39mnotna(), value)\u001b[38;5;241m.\u001b[39m_mgr\n",
      "File \u001b[1;32mc:\\Users\\bengb\\AppData\\Local\\Programs\\Python\\Python310\\lib\\site-packages\\pandas\\core\\internals\\base.py:173\u001b[0m, in \u001b[0;36mDataManager.fillna\u001b[1;34m(self, value, limit, inplace, downcast)\u001b[0m\n\u001b[0;32m    169\u001b[0m \u001b[38;5;28;01mif\u001b[39;00m limit \u001b[38;5;129;01mis\u001b[39;00m \u001b[38;5;129;01mnot\u001b[39;00m \u001b[38;5;28;01mNone\u001b[39;00m:\n\u001b[0;32m    170\u001b[0m     \u001b[38;5;66;03m# Do this validation even if we go through one of the no-op paths\u001b[39;00m\n\u001b[0;32m    171\u001b[0m     limit \u001b[38;5;241m=\u001b[39m libalgos\u001b[38;5;241m.\u001b[39mvalidate_limit(\u001b[38;5;28;01mNone\u001b[39;00m, limit\u001b[38;5;241m=\u001b[39mlimit)\n\u001b[1;32m--> 173\u001b[0m \u001b[38;5;28;01mreturn\u001b[39;00m \u001b[38;5;28;43mself\u001b[39;49m\u001b[38;5;241;43m.\u001b[39;49m\u001b[43mapply_with_block\u001b[49m\u001b[43m(\u001b[49m\n\u001b[0;32m    174\u001b[0m \u001b[43m    \u001b[49m\u001b[38;5;124;43m\"\u001b[39;49m\u001b[38;5;124;43mfillna\u001b[39;49m\u001b[38;5;124;43m\"\u001b[39;49m\u001b[43m,\u001b[49m\n\u001b[0;32m    175\u001b[0m \u001b[43m    \u001b[49m\u001b[43mvalue\u001b[49m\u001b[38;5;241;43m=\u001b[39;49m\u001b[43mvalue\u001b[49m\u001b[43m,\u001b[49m\n\u001b[0;32m    176\u001b[0m \u001b[43m    \u001b[49m\u001b[43mlimit\u001b[49m\u001b[38;5;241;43m=\u001b[39;49m\u001b[43mlimit\u001b[49m\u001b[43m,\u001b[49m\n\u001b[0;32m    177\u001b[0m \u001b[43m    \u001b[49m\u001b[43minplace\u001b[49m\u001b[38;5;241;43m=\u001b[39;49m\u001b[43minplace\u001b[49m\u001b[43m,\u001b[49m\n\u001b[0;32m    178\u001b[0m \u001b[43m    \u001b[49m\u001b[43mdowncast\u001b[49m\u001b[38;5;241;43m=\u001b[39;49m\u001b[43mdowncast\u001b[49m\u001b[43m,\u001b[49m\n\u001b[0;32m    179\u001b[0m \u001b[43m    \u001b[49m\u001b[43musing_cow\u001b[49m\u001b[38;5;241;43m=\u001b[39;49m\u001b[43musing_copy_on_write\u001b[49m\u001b[43m(\u001b[49m\u001b[43m)\u001b[49m\u001b[43m,\u001b[49m\n\u001b[0;32m    180\u001b[0m \u001b[43m\u001b[49m\u001b[43m)\u001b[49m\n",
      "File \u001b[1;32mc:\\Users\\bengb\\AppData\\Local\\Programs\\Python\\Python310\\lib\\site-packages\\pandas\\core\\internals\\managers.py:354\u001b[0m, in \u001b[0;36mBaseBlockManager.apply\u001b[1;34m(self, f, align_keys, **kwargs)\u001b[0m\n\u001b[0;32m    352\u001b[0m         applied \u001b[38;5;241m=\u001b[39m b\u001b[38;5;241m.\u001b[39mapply(f, \u001b[38;5;241m*\u001b[39m\u001b[38;5;241m*\u001b[39mkwargs)\n\u001b[0;32m    353\u001b[0m     \u001b[38;5;28;01melse\u001b[39;00m:\n\u001b[1;32m--> 354\u001b[0m         applied \u001b[38;5;241m=\u001b[39m \u001b[38;5;28mgetattr\u001b[39m(b, f)(\u001b[38;5;241m*\u001b[39m\u001b[38;5;241m*\u001b[39mkwargs)\n\u001b[0;32m    355\u001b[0m     result_blocks \u001b[38;5;241m=\u001b[39m extend_blocks(applied, result_blocks)\n\u001b[0;32m    357\u001b[0m out \u001b[38;5;241m=\u001b[39m \u001b[38;5;28mtype\u001b[39m(\u001b[38;5;28mself\u001b[39m)\u001b[38;5;241m.\u001b[39mfrom_blocks(result_blocks, \u001b[38;5;28mself\u001b[39m\u001b[38;5;241m.\u001b[39maxes)\n",
      "File \u001b[1;32mc:\\Users\\bengb\\AppData\\Local\\Programs\\Python\\Python310\\lib\\site-packages\\pandas\\core\\internals\\blocks.py:2008\u001b[0m, in \u001b[0;36mExtensionBlock.fillna\u001b[1;34m(self, value, limit, inplace, downcast, using_cow)\u001b[0m\n\u001b[0;32m   2005\u001b[0m \u001b[38;5;28;01mexcept\u001b[39;00m \u001b[38;5;167;01mTypeError\u001b[39;00m:\n\u001b[0;32m   2006\u001b[0m     \u001b[38;5;66;03m# 3rd party EA that has not implemented copy keyword yet\u001b[39;00m\n\u001b[0;32m   2007\u001b[0m     refs \u001b[38;5;241m=\u001b[39m \u001b[38;5;28;01mNone\u001b[39;00m\n\u001b[1;32m-> 2008\u001b[0m     new_values \u001b[38;5;241m=\u001b[39m \u001b[38;5;28;43mself\u001b[39;49m\u001b[38;5;241;43m.\u001b[39;49m\u001b[43mvalues\u001b[49m\u001b[38;5;241;43m.\u001b[39;49m\u001b[43mfillna\u001b[49m\u001b[43m(\u001b[49m\u001b[43mvalue\u001b[49m\u001b[38;5;241;43m=\u001b[39;49m\u001b[43mvalue\u001b[49m\u001b[43m,\u001b[49m\u001b[43m \u001b[49m\u001b[43mmethod\u001b[49m\u001b[38;5;241;43m=\u001b[39;49m\u001b[38;5;28;43;01mNone\u001b[39;49;00m\u001b[43m,\u001b[49m\u001b[43m \u001b[49m\u001b[43mlimit\u001b[49m\u001b[38;5;241;43m=\u001b[39;49m\u001b[43mlimit\u001b[49m\u001b[43m)\u001b[49m\n\u001b[0;32m   2009\u001b[0m     \u001b[38;5;66;03m# issue the warning *after* retrying, in case the TypeError\u001b[39;00m\n\u001b[0;32m   2010\u001b[0m     \u001b[38;5;66;03m#  was caused by an invalid fill_value\u001b[39;00m\n\u001b[0;32m   2011\u001b[0m     warnings\u001b[38;5;241m.\u001b[39mwarn(\n\u001b[0;32m   2012\u001b[0m         \u001b[38;5;66;03m# GH#53278\u001b[39;00m\n\u001b[0;32m   2013\u001b[0m         \u001b[38;5;124m\"\u001b[39m\u001b[38;5;124mExtensionArray.fillna added a \u001b[39m\u001b[38;5;124m'\u001b[39m\u001b[38;5;124mcopy\u001b[39m\u001b[38;5;124m'\u001b[39m\u001b[38;5;124m keyword in pandas \u001b[39m\u001b[38;5;124m\"\u001b[39m\n\u001b[1;32m   (...)\u001b[0m\n\u001b[0;32m   2019\u001b[0m         stacklevel\u001b[38;5;241m=\u001b[39mfind_stack_level(),\n\u001b[0;32m   2020\u001b[0m     )\n",
      "File \u001b[1;32mc:\\Users\\bengb\\AppData\\Local\\Programs\\Python\\Python310\\lib\\site-packages\\pandas\\core\\arrays\\_mixins.py:363\u001b[0m, in \u001b[0;36mNDArrayBackedExtensionArray.fillna\u001b[1;34m(self, value, method, limit, copy)\u001b[0m\n\u001b[0;32m    360\u001b[0m \u001b[38;5;28;01melse\u001b[39;00m:\n\u001b[0;32m    361\u001b[0m     \u001b[38;5;66;03m# We validate the fill_value even if there is nothing to fill\u001b[39;00m\n\u001b[0;32m    362\u001b[0m     \u001b[38;5;28;01mif\u001b[39;00m value \u001b[38;5;129;01mis\u001b[39;00m \u001b[38;5;129;01mnot\u001b[39;00m \u001b[38;5;28;01mNone\u001b[39;00m:\n\u001b[1;32m--> 363\u001b[0m         \u001b[38;5;28;43mself\u001b[39;49m\u001b[38;5;241;43m.\u001b[39;49m\u001b[43m_validate_setitem_value\u001b[49m\u001b[43m(\u001b[49m\u001b[43mvalue\u001b[49m\u001b[43m)\u001b[49m\n\u001b[0;32m    365\u001b[0m     \u001b[38;5;28;01mif\u001b[39;00m \u001b[38;5;129;01mnot\u001b[39;00m copy:\n\u001b[0;32m    366\u001b[0m         new_values \u001b[38;5;241m=\u001b[39m \u001b[38;5;28mself\u001b[39m[:]\n",
      "File \u001b[1;32mc:\\Users\\bengb\\AppData\\Local\\Programs\\Python\\Python310\\lib\\site-packages\\pandas\\core\\arrays\\categorical.py:1562\u001b[0m, in \u001b[0;36mCategorical._validate_setitem_value\u001b[1;34m(self, value)\u001b[0m\n\u001b[0;32m   1560\u001b[0m     \u001b[38;5;28;01mreturn\u001b[39;00m \u001b[38;5;28mself\u001b[39m\u001b[38;5;241m.\u001b[39m_validate_listlike(value)\n\u001b[0;32m   1561\u001b[0m \u001b[38;5;28;01melse\u001b[39;00m:\n\u001b[1;32m-> 1562\u001b[0m     \u001b[38;5;28;01mreturn\u001b[39;00m \u001b[38;5;28;43mself\u001b[39;49m\u001b[38;5;241;43m.\u001b[39;49m\u001b[43m_validate_scalar\u001b[49m\u001b[43m(\u001b[49m\u001b[43mvalue\u001b[49m\u001b[43m)\u001b[49m\n",
      "File \u001b[1;32mc:\\Users\\bengb\\AppData\\Local\\Programs\\Python\\Python310\\lib\\site-packages\\pandas\\core\\arrays\\categorical.py:1587\u001b[0m, in \u001b[0;36mCategorical._validate_scalar\u001b[1;34m(self, fill_value)\u001b[0m\n\u001b[0;32m   1585\u001b[0m     fill_value \u001b[38;5;241m=\u001b[39m \u001b[38;5;28mself\u001b[39m\u001b[38;5;241m.\u001b[39m_unbox_scalar(fill_value)\n\u001b[0;32m   1586\u001b[0m \u001b[38;5;28;01melse\u001b[39;00m:\n\u001b[1;32m-> 1587\u001b[0m     \u001b[38;5;28;01mraise\u001b[39;00m \u001b[38;5;167;01mTypeError\u001b[39;00m(\n\u001b[0;32m   1588\u001b[0m         \u001b[38;5;124m\"\u001b[39m\u001b[38;5;124mCannot setitem on a Categorical with a new \u001b[39m\u001b[38;5;124m\"\u001b[39m\n\u001b[0;32m   1589\u001b[0m         \u001b[38;5;124mf\u001b[39m\u001b[38;5;124m\"\u001b[39m\u001b[38;5;124mcategory (\u001b[39m\u001b[38;5;132;01m{\u001b[39;00mfill_value\u001b[38;5;132;01m}\u001b[39;00m\u001b[38;5;124m), set the categories first\u001b[39m\u001b[38;5;124m\"\u001b[39m\n\u001b[0;32m   1590\u001b[0m     ) \u001b[38;5;28;01mfrom\u001b[39;00m \u001b[38;5;28;01mNone\u001b[39;00m\n\u001b[0;32m   1591\u001b[0m \u001b[38;5;28;01mreturn\u001b[39;00m fill_value\n",
      "\u001b[1;31mTypeError\u001b[0m: Cannot setitem on a Categorical with a new category (-1), set the categories first"
     ]
    }
   ],
   "source": [
    "import pandas as pd\n",
    "import numpy as np\n",
    "from xgboost import XGBClassifier\n",
    "from sklearn.model_selection import train_test_split\n",
    "from sklearn.metrics import classification_report\n",
    "import shap\n",
    "\n",
    "# 1. Prepare data\n",
    "df = jobs.copy()  # Or df_top10 if you're working with a slice\n",
    "df = df[df['supplies_ordered'].notna()]\n",
    "\n",
    "# Drop high-cardinality IDs or clearly non-predictive features\n",
    "drop_cols = ['uic', 'job_seq', 'csmp_narrative_summary', 'date_closing', 'date_maintenance_action']\n",
    "df = df.drop(columns=[col for col in drop_cols if col in df.columns])\n",
    "\n",
    "# Target variable\n",
    "df['supplies_ordered'] = df['supplies_ordered'].astype(int)\n",
    "\n",
    "# Encode categoricals\n",
    "for col in df.select_dtypes(include='object').columns:\n",
    "    df[col] = df[col].astype('category').cat.codes\n",
    "\n",
    "# Fill missing\n",
    "df = df.fillna(-1)\n",
    "\n",
    "# Features and target\n",
    "X = df.drop(columns='supplies_ordered')\n",
    "y = df['supplies_ordered']\n",
    "\n",
    "# 2. Train/test split\n",
    "X_train, X_test, y_train, y_test = train_test_split(X, y, stratify=y, random_state=42)\n",
    "\n",
    "# 3. Train model\n",
    "model = XGBClassifier(use_label_encoder=False, eval_metric='logloss')\n",
    "model.fit(X_train, y_train)\n",
    "\n",
    "# 4. Evaluate\n",
    "y_pred = model.predict(X_test)\n",
    "print(classification_report(y_test, y_pred))\n",
    "\n",
    "# 5. SHAP explainability\n",
    "explainer = shap.Explainer(model, X_train)\n",
    "shap_values = explainer(X_test)\n",
    "\n",
    "# Summary plot\n",
    "shap.summary_plot(shap_values, X_test)\n"
   ]
  },
  {
   "cell_type": "markdown",
   "id": "213cb7ac",
   "metadata": {},
   "source": [
    "# Relationship between when discovered, cause, deferral reason and days_elapsed"
   ]
  },
  {
   "cell_type": "code",
   "execution_count": 35,
   "id": "3ff4d217",
   "metadata": {},
   "outputs": [],
   "source": [
    "model = ols('days_elapsed ~ C(cause_code) + C(when_discovered_code) + C(deferral_reason_code)', data = jobs).fit()\n",
    "result = model.summary() #R2 = 0.134\n",
    "#print(result)\n",
    "#also considered fitting with filtered_jobs, make a difference of .001 to r2"
   ]
  },
  {
   "cell_type": "markdown",
   "id": "dcd5dd27",
   "metadata": {},
   "source": [
    "# Priority \n",
    "<pre>\n",
    "Desirable: 46737\n",
    "Highly desirable: 503\n",
    "Essential: 95\n",
    "Mandatory: 15\n",
    "\n",
    "Most records in this dataset refer to MAs where it is not urgent to be completed quickly.\n",
    "<pre>"
   ]
  },
  {
   "cell_type": "markdown",
   "id": "1d925051",
   "metadata": {},
   "source": [
    "# Number of Jobs Opened by Month for CVN 74"
   ]
  },
  {
   "cell_type": "code",
   "execution_count": null,
   "id": "cce983ca",
   "metadata": {},
   "outputs": [],
   "source": [
    "cvn74 = jobs[jobs['ship'] == 'CVN74'] \n",
    "\n",
    "monthly_counts = cvn74.groupby(cvn74['date_maintenance_action'].dt.to_period('M')).size() #Number of jobs opened each month on CVN74\n",
    "\n",
    "monthly_counts.index = monthly_counts.index.to_timestamp() #Handles TypeError: float() argument must be a string or a real number, not 'Period'\n",
    "\n",
    "plt.plot(monthly_counts.index, monthly_counts.values)\n",
    "plt.xlabel('Month')\n",
    "plt.xticks(rotation = 45)\n",
    "plt.ylabel(\"Number of Jobs Opened\")\n",
    "plt.title(\"Jobs Opened By Month On CVN 74\")"
   ]
  },
  {
   "cell_type": "markdown",
   "id": "52eed76f",
   "metadata": {},
   "source": [
    "<pre>\n",
    "There appears to be some meaningful variation from month to month.\n",
    "Could look into trends/changes during busier or slower times\n",
    "Specifically, do jobs take longer to complete during busier times?\n",
    "<pre>"
   ]
  },
  {
   "cell_type": "code",
   "execution_count": null,
   "id": "eb1cf64a",
   "metadata": {},
   "outputs": [],
   "source": [
    "#Ideas Related to Time and The Number of Jobs Being Worked On Over Time\n",
    "\n",
    "\n",
    "#Add variable showing # of jobs going on at the beginning of the MA \n",
    "#Add variable showing # of jobs that occur with the interval of the MA (date_maintenance_action ---> date_closing)\n",
    "#For these variables, need to look at the job's ship. Also could look to subset further to work_center"
   ]
  },
  {
   "cell_type": "markdown",
   "id": "1e18474d",
   "metadata": {},
   "source": [
    "# Next Ideas\n",
    "<pre>\n",
    "Predict when_discovered, cause, or deferral_reason\n",
    "Cases for Each:\n",
    "\n",
    "deferral_reason: Relatively balanced variable\n",
    "Knowing why jobs get deferred in advance could help forecast for given types of jobs.\n",
    "As specific personnel and work centers have specialties, additional information about why a job most often gets pushed back could help personnel plan. \n",
    "For example, knowing that a type of job often gets delayed for lack of material could lead to more effort towards montoring supply counts.\n",
    "\n",
    "\n",
    "cause: Knowing the cause for a type of MA can help us enhance efforts in these areas. \n",
    "Cons: 'Normal wear and tear' and 'Other' make up the majority of the records for this variable. \n",
    "\n",
    "when_discovered: \n",
    "Relatively balanced \n",
    "Also, the top 2 most frequent are insightful - Normal operation and during inspection\n",
    "\n",
    "\n",
    "Predict Engineered Variable: Binary, supplies required (Y/N)\n",
    "\n",
    "Predict Engineered Variable: Job Took Longer than 8 hours to Complete (Y/N)\n",
    "<pre>"
   ]
  },
  {
   "cell_type": "markdown",
   "id": "770938a1",
   "metadata": {},
   "source": [
    "# Idea: Predict deferral_reason\n",
    "<pre>\n",
    "Variables that Could Be Meaningful Predictors:\n",
    "\n",
    "ship\n",
    "cause_code\n",
    "csmp_narrative_summary, equipment_nomenclature\n",
    "location\n",
    "priority_code, safety_code, status_code, component_status\n",
    "when_discovered_code\n",
    "work_center \n",
    "def_narrative, nondef_narrative\n",
    "type_of_availability_needed\n",
    "\n",
    "\n",
    "Number of jobs open at that time: One level is Due to ships' force work backlog\n",
    "<pre>"
   ]
  },
  {
   "cell_type": "markdown",
   "id": "6c97aa4c",
   "metadata": {},
   "source": [
    "# Ideas for Enhancing Text Features\n",
    "<pre>\n",
    "equipment_nomenclature, csmp_narrative_summary: Vectorization and then grouping most similar entries. Idea: reduce categories from >2100 to ~ 100\n",
    "def_narrative\n",
    "<pre>"
   ]
  },
  {
   "cell_type": "markdown",
   "id": "d618f9c3",
   "metadata": {},
   "source": [
    "# Plotting The Distribution for Hours Worked"
   ]
  },
  {
   "cell_type": "code",
   "execution_count": null,
   "id": "0d57424f",
   "metadata": {},
   "outputs": [],
   "source": [
    "traditional_jobs = jobs[(jobs['hours_worked_flag'] != True) & (jobs['job_status'] != 'Open')]  #~ 27k records\n",
    "#Only consider closed jobs that did not have outlier hours worked\n",
    "sns.histplot(data=traditional_jobs, x='total_hours_worked', bins=100)\n",
    "plt.title(\"Distribution of Total Hours Worked\")\n",
    "\n",
    "#Most jobs only take a few hours\n",
    "\n",
    "#Considering jobs that did not have outlier hours worked, 31.1% of jobs took more than 8 hours to complete\n",
    "(traditional_jobs['total_hours_worked'] > 8).mean().round(3)"
   ]
  },
  {
   "cell_type": "markdown",
   "id": "86c9c2ff",
   "metadata": {},
   "source": [
    "# Plotting the Distribution of Days Elapsed"
   ]
  },
  {
   "cell_type": "code",
   "execution_count": null,
   "id": "fcb7859d",
   "metadata": {},
   "outputs": [],
   "source": [
    "closed_jobs = jobs[(jobs['days_elapsed_outlier'] != True) & (jobs['job_status'] != 'Open')]  #~ 38k records\n",
    "\n",
    "#Only consider closed jobs that were completed\n",
    "sns.histplot(data=closed_jobs, x='days_elapsed', bins=100)\n",
    "plt.title(\"Distribution of Days Elapsed for Closed Jobs\")\n",
    "\n",
    "(closed_jobs['days_elapsed'] > 30).mean().round(3) #55% of closed jobs took more than 50 days to complete\n",
    "#76% of closed jobs took more than 10 days to complete"
   ]
  },
  {
   "cell_type": "markdown",
   "id": "f312db66",
   "metadata": {},
   "source": [
    "# Takeaway\n",
    "<pre>\n",
    "63% of closed jobs take over 30 days to become closed. This is when we remove days_elapsed outliers and only consider Closed jobs.\n",
    "However, less than a third of the jobs take more than 8 hours (a full work day) to complete.\n",
    "\n",
    "We could also see from the plots that there is a discrepency between the number of days elapsed and the total number of hours worked.\n",
    "\n",
    "Also, deferral_reason_code:\n",
    "35% due to lack of material\n",
    "24% due to ship's force work backlog/operational priority\n",
    "14% other/NA\n",
    "13% lack of facilities/ capabiltiies\n",
    "10% For ship's force overhaul\n",
    "\n",
    "It seems that a bulk of the time spent for jobs to be closed is due to supply wait time or operational backlog.\n",
    "\n",
    "Factors influencing operational backlog: Number of concurrent jobs being worked on\n",
    "Factors influencing supply wait time: The types of parts being ordered, the quantity of parts, where parts are being ordered from, when the parts are ordered. \n",
    "\n",
    "<pre>"
   ]
  },
  {
   "cell_type": "markdown",
   "id": "c0f0fd9b",
   "metadata": {},
   "source": [
    "# -------------------------------Supply EDA------------------------------------"
   ]
  },
  {
   "cell_type": "markdown",
   "id": "b5ccdde4",
   "metadata": {},
   "source": [
    "# Relationship between Supply Days Waiting and Total Days Elapsed"
   ]
  },
  {
   "cell_type": "code",
   "execution_count": null,
   "id": "6fa04ec0",
   "metadata": {},
   "outputs": [],
   "source": [
    "#There are multiple part orders associated with a job. We should look at the one that takes the longest to complete, making the assumption\n",
    "#that a job cannot be completed until all parts have been received. "
   ]
  },
  {
   "cell_type": "code",
   "execution_count": null,
   "id": "95b42656",
   "metadata": {},
   "outputs": [],
   "source": [
    "supply_sub = supply[(supply['valid_dates'] == True) & (supply['supply_days_waiting_outlier'] == False)]\n",
    "supply_sub = supply_sub[['job_seq','date_maintenance_action','demand_date','issue_date','date_closing','supply_days_waiting']]\n",
    "\n",
    "supply_sub['total_days'] = supply_sub['date_closing'] - supply_sub['date_maintenance_action']\n",
    "supply_sub['total_days'] = supply_sub['total_days'].dt.days\n",
    "\n",
    "supply_sub['total_days'].corr(supply_sub['supply_days_waiting']).round(3)"
   ]
  },
  {
   "cell_type": "markdown",
   "id": "85957e39",
   "metadata": {},
   "source": [
    "# Plotting Supply Wait Time Vs. Total Job Time For Records With Only One Part Order"
   ]
  },
  {
   "cell_type": "code",
   "execution_count": null,
   "id": "18d973ed",
   "metadata": {},
   "outputs": [],
   "source": [
    "# Lets look only at rows where job_seq is present once. \n",
    "#see if there is any relationship\n",
    "\n",
    "#having multiple part orders associated with a job will add noise. Will look at jobs with multiple part orders later\n",
    "\n",
    "#if any sign of a relationship, could look into group by operations to look at jobs with multiple part orders\n",
    "\n",
    "unique_jobs = supply_sub['job_seq'].value_counts()\n",
    "unique_jobs = unique_jobs[unique_jobs == 1].index\n",
    "\n",
    "supply_unique = supply_sub[supply_sub['job_seq'].isin(unique_jobs)]\n",
    "\n",
    "sns.scatterplot(x = 'supply_days_waiting', y = 'total_days', data = supply_unique)\n",
    "plt.title('Supply Wait Vs. Total Wait for Jobs With One Part Order')\n",
    "\n",
    "supply_unique['supply_days_waiting'].corr(supply_unique['total_days']).round(3) #0.315"
   ]
  },
  {
   "cell_type": "markdown",
   "id": "e9cee7f7",
   "metadata": {},
   "source": [
    "# Hypothetical: Assume Total Days > 100 is a Misinput"
   ]
  },
  {
   "cell_type": "code",
   "execution_count": null,
   "id": "5915d6ce",
   "metadata": {},
   "outputs": [],
   "source": [
    "unique_jobs = supply_sub['job_seq'].value_counts()\n",
    "unique_jobs = unique_jobs[unique_jobs == 1].index\n",
    "\n",
    "supply_unique = supply_sub[(supply_sub['job_seq'].isin(unique_jobs)) & (supply_sub['total_days'] < 100)]\n",
    "\n",
    "sns.scatterplot(x = 'supply_days_waiting', y = 'total_days', data = supply_unique)\n",
    "plt.title('Supply Wait Vs. Total Wait for Jobs With One Part Order')\n",
    "\n",
    "supply_unique['supply_days_waiting'].corr(supply_unique['total_days']).round(3) #0.561 \n",
    "#dataset is 4998 records "
   ]
  },
  {
   "cell_type": "markdown",
   "id": "b4cfadbb",
   "metadata": {},
   "source": [
    "<pre>\n",
    "Saw some relationship, so now:\n",
    "<pre>"
   ]
  },
  {
   "cell_type": "markdown",
   "id": "83854ffe",
   "metadata": {},
   "source": [
    "# Looking at All Records (More than 1 Part Order)"
   ]
  },
  {
   "cell_type": "markdown",
   "id": "9641b150",
   "metadata": {},
   "source": [
    "<pre>\n",
    "I will assume that a job cannot begin until all parts are received\n",
    "Look at the earliest demand date and the latest issue date\n",
    "<pre>"
   ]
  },
  {
   "cell_type": "code",
   "execution_count": null,
   "id": "d60759b6",
   "metadata": {},
   "outputs": [],
   "source": [
    "all_parts = supply_sub.groupby('job_seq').agg({\n",
    "    'demand_date': 'min',\n",
    "    'issue_date': 'max'\n",
    "})\n",
    "all_parts['all_part_wait'] = (all_parts['issue_date'] - all_parts['demand_date']).dt.days\n",
    "\n",
    "all_parts.rename(columns = {'demand_date': 'first_demand_date', 'issue_date': 'last_issue_date'}, inplace = True)\n",
    "#Now, need to join with supply_sub to have total days waiting too\n"
   ]
  },
  {
   "cell_type": "markdown",
   "id": "cda19a53",
   "metadata": {},
   "source": [
    "<pre>\n",
    "Notes: \n",
    "\n",
    "supply_sub has all those columns with repeating job_seq\n",
    "all_parts has unique job_seq\n",
    "\n",
    "left join\n",
    "all_parts as left table\n",
    "\n",
    "since date_maintenance_action and date_closing never differ in supply_sub,\n",
    "can drop duplicates and keep the time a job_seq occurs\n",
    "<pre>"
   ]
  },
  {
   "cell_type": "code",
   "execution_count": null,
   "id": "e86d3645",
   "metadata": {},
   "outputs": [],
   "source": [
    "supply_sub_unique = supply_sub.drop_duplicates(subset = 'job_seq', keep = 'first') #11572 rows\n",
    "\n",
    "supply_sub_unique = supply_sub_unique[['job_seq','total_days','date_maintenance_action','date_closing']]"
   ]
  },
  {
   "cell_type": "code",
   "execution_count": null,
   "id": "adcc3f30",
   "metadata": {},
   "outputs": [],
   "source": [
    "dat = pd.merge(supply_sub_unique, all_parts, how = 'left', on = 'job_seq') #Merged data\n",
    "#Contains job_seq, all_part_wait, total_days\n",
    "\n",
    "dat = dat[ (dat['total_days'] < 100)] #exclude records with > 100 days open as these feel like outliers (could use or not use this depending on goals)\n",
    "\n",
    "\n",
    "dat['all_part_wait'].corr(dat['total_days']).round(3) #.603. Increased from when only looking at one part jobs.\n",
    "#Not too meaningful, makes sense because the time from min date_maintenance_action to max date_closing will naturally capture more \n",
    "#variation occuring.\n",
    "dat #7.7k records\n",
    "\n",
    "sns.scatterplot(x = 'all_part_wait', y = 'total_days', data = dat)\n",
    "plt.title('Supply Wait Vs. Total Wait for All Jobs')"
   ]
  },
  {
   "cell_type": "markdown",
   "id": "074630a4",
   "metadata": {},
   "source": [
    "# Takeaways:\n",
    "<pre>\n",
    "Knowing supply wait time does not provide too much value for knowing total wait time. \n",
    "This is also true for hours worked when looking for key contributors to time open. \n",
    "\n",
    "I believe there could be some pretty significant flaws in closing out jobs properly in the system. \n",
    "If neither hours worked or supply wait time are meaningful signals, something is likely to be off from my perspective. \n",
    "\n",
    "If there are no errors and the logging is mostly accurate, it could be that jobs are being forgotten about. \n",
    "\n",
    "This could be a key insight. It could be possible that jobs are being completed later than initially intended because they were simply forgotten about/\n",
    "lost in the worklog. \n",
    "<pre>"
   ]
  },
  {
   "cell_type": "markdown",
   "id": "9cb41ab0",
   "metadata": {},
   "source": [
    "# Next Ideas\n",
    "<pre>\n",
    "Idea 1: Look at lifecycle of job and see which contributes most to days_open\n",
    "\n",
    "    Could look at # of days between date_maintenance_action and issue_date to see if any unnecessary delays\n",
    "    Could look at # of days between issue_date and date_closing. \n",
    "    See which of these 3 intervals most contributes to full days open\n",
    "    *Consider including and excluding days_open > 100. Note differences when looking at each.\n",
    "\n",
    "\n",
    "\n",
    "\n",
    "Idea 2: Look at supply_days_waiting by source_code (feels like this should be meaningful) \n",
    "    If noticable differences, could see which factors most influence source_code\n",
    "\n",
    "            Could investigate other features as well such as niin_nomenclature, ship, issue_apl, issue_eic, unit_of_issue\n",
    "\n",
    "\n",
    "Idea 3: Compare differences in times waiting between part orders associated with the same job_seq. Inter vs. intra group differences\n",
    "\n",
    "Idea 4: Pivot away from days open related analysis. Look into comparing jobs that do and do/not require supply orders\n",
    "    *See if there is a notable difference in the types of jobs that require supply orders and those that do not\n",
    "\n",
    "\n",
    "Idea 5: Group similar types of jobs and reccomend parts based on past similar jobs. NLP likely needed here to extract info from free form columns\n",
    "    Notify personnel: Parts likely to be required, parts likely to be ordered before beginning job\n",
    "\n",
    "\n",
    "Idea 6: Could create a job difficulty metric: # of hours worked, # of parts needed, # of days expected to be open (if others show signal)\n",
    "<pre>"
   ]
  },
  {
   "cell_type": "markdown",
   "id": "03a395f6",
   "metadata": {},
   "source": [
    "# ----------------- Idea 1: Lifecylce of Maintenance Actions -----------------"
   ]
  },
  {
   "cell_type": "code",
   "execution_count": null,
   "id": "3b67ad96",
   "metadata": {},
   "outputs": [],
   "source": [
    "dat.shape #Reminder for Later: 14330 unique job seq -> 14142 (supply cleaned-remove NA niin) -> 11572 (valid dates and supply days waiting outlier flags)\n",
    "# -> 7.7k (total days open < 100)\n",
    "#goes from 11.5k to 7.7k when removing jobs with days open > 100."
   ]
  },
  {
   "cell_type": "code",
   "execution_count": null,
   "id": "1fc0bbe9",
   "metadata": {},
   "outputs": [],
   "source": [
    "dat['start_to_demand_days'] = (dat['first_demand_date'] - dat['date_maintenance_action']).dt.days\n",
    "dat = dat.rename(columns = {'all_part_wait': 'demand_to_issue_days'}) #rename all_part_wait for consistent variable name formatting\n",
    "dat['issue_to_close_days'] = (dat['date_closing'] - dat['last_issue_date']).dt.days"
   ]
  },
  {
   "cell_type": "code",
   "execution_count": null,
   "id": "43462ef7",
   "metadata": {},
   "outputs": [],
   "source": [
    "#reorder columns for logical flow\n",
    "dat = dat[['job_seq','date_maintenance_action','start_to_demand_days','first_demand_date',\n",
    "           'demand_to_issue_days','last_issue_date','issue_to_close_days','date_closing','total_days']]"
   ]
  },
  {
   "cell_type": "markdown",
   "id": "3c865d33",
   "metadata": {},
   "source": [
    "Boxplot for each of the three\n",
    "Proportion of total time (divide by total days)\n",
    "correlation between the different durations and total job time"
   ]
  },
  {
   "cell_type": "markdown",
   "id": "8600eb1c",
   "metadata": {},
   "source": [
    "# Adding Feature: Proportions of Total Time Elapsed"
   ]
  },
  {
   "cell_type": "code",
   "execution_count": null,
   "id": "bb898d8f",
   "metadata": {},
   "outputs": [],
   "source": [
    "dat['prop_stage1'] = ((dat['start_to_demand_days'] / dat['total_days']) *100).round(1)\n",
    "dat['prop_stage2'] = ((dat['demand_to_issue_days'] / dat['total_days']) * 100).round(1)\n",
    "dat['prop_stage3'] = ((dat['issue_to_close_days'] / dat['total_days']) * 100).round(1)\n",
    "\n",
    "dat[['prop_stage1','prop_stage2','prop_stage3']] = dat[['prop_stage1','prop_stage2','prop_stage3']].fillna(0) #NAs created by div by 0 (total_days = 0)"
   ]
  },
  {
   "cell_type": "markdown",
   "id": "bb81cd17",
   "metadata": {},
   "source": [
    "# Considering Relationships Between Stages"
   ]
  },
  {
   "cell_type": "code",
   "execution_count": null,
   "id": "c20d5f86",
   "metadata": {},
   "outputs": [],
   "source": [
    "corr_matrix = dat[['start_to_demand_days','demand_to_issue_days','issue_to_close_days','total_days']].corr().round(2)\n",
    "\n",
    "corr_pairs = (corr_matrix\n",
    "              .where(np.triu(np.ones(corr_matrix.shape), k = 1).astype(bool))\n",
    "              .stack().reset_index()\n",
    "              )\n",
    "corr_pairs = corr_pairs.sort_values(by = 0, ascending = False)\n",
    "\n",
    "corr_pairs.columns = ['Variable 1', 'Variable 2', 'Corr']\n",
    "print(corr_pairs) #Displays correlation between variables in descending order of correlation"
   ]
  },
  {
   "cell_type": "markdown",
   "id": "e2b028f4",
   "metadata": {},
   "source": [
    "<pre>\n",
    "Takeaways:\n",
    " \n",
    "- A possible bottleneck exists between the time the parts are received and the time to complete the MA.\n",
    "    - This could be caused by lack of awareness that parts have arrived, foregetfullness, \n",
    "      or simply improper closing of MAs in the system (jobs are not actually taking this long). \n",
    "    - One reccomendation could be: Notifications sent to personnel that parts have arrived, so that operations are not delayed longer than necessary. \n",
    "\n",
    "\n",
    "- Parts are being ordered in a reasonable amount of time, and not contributing much to overall delays. \n",
    "\n",
    "- The amount of time taken for one stage does not have any connection with the amount of time taken for another stage when considering \n",
    "subparts of the MA. Stages 1,2,3 of the MA: None of these combinations have any meaningful linear relationship\n"
   ]
  },
  {
   "cell_type": "markdown",
   "id": "becfee39",
   "metadata": {},
   "source": [
    "# Distributions For Each Stage"
   ]
  },
  {
   "cell_type": "code",
   "execution_count": null,
   "id": "b1140754",
   "metadata": {},
   "outputs": [],
   "source": [
    "cols = ['start_to_demand_days','demand_to_issue_days','issue_to_close_days']\n",
    "\n",
    "#melt dataframe for seaborn boxplot\n",
    "dat_melted = dat[cols].melt(var_name = 'Stage',value_name = 'Days')"
   ]
  },
  {
   "cell_type": "code",
   "execution_count": null,
   "id": "87f7c5b3",
   "metadata": {},
   "outputs": [],
   "source": [
    "sns.boxplot(x = 'Stage', y = 'Days', data = dat_melted)\n",
    "plt.title(\"Maintenance Job Time By Stage\")"
   ]
  },
  {
   "cell_type": "markdown",
   "id": "de43ea25",
   "metadata": {},
   "source": [
    "<pre>\n",
    "Takeaway: \n",
    "\n",
    "Most wait time is due to demand_to_issue and issue_to_close stages. \n",
    "issue_to_close days has the most variance and contributes slightly more than demand_to_issue to overal days waiting. "
   ]
  },
  {
   "cell_type": "markdown",
   "id": "f6b3b087",
   "metadata": {},
   "source": [
    "# Saving Job Time Breakdown Breakdown Data For Future Reference"
   ]
  },
  {
   "cell_type": "code",
   "execution_count": null,
   "id": "864b9b13",
   "metadata": {},
   "outputs": [],
   "source": [
    "dat.to_pickle('Notebooks/work_breakdown.pkl') #contains start -> first demand date, first demand date -> last issue date, last issue date -> close date\n",
    "#7.7k x 12"
   ]
  },
  {
   "cell_type": "markdown",
   "id": "6806f7cc",
   "metadata": {},
   "source": [
    "# My Additional Analysis and Extensions\n",
    "## Future Work Ideas\n",
    "- Investigate predictive modeling for maintenance delays\n",
    "- Develop automated notification system for part arrivals\n",
    "- Create dashboard for real-time job tracking\n",
    "- Analyze seasonal patterns in maintenance workload"
   ]
  }
 ],
 "metadata": {
  "kernelspec": {
   "display_name": "Python 3",
   "language": "python",
   "name": "python3"
  },
  "language_info": {
   "codemirror_mode": {
    "name": "ipython",
    "version": 3
   },
   "file_extension": ".py",
   "mimetype": "text/x-python",
   "name": "python",
   "nbconvert_exporter": "python",
   "pygments_lexer": "ipython3",
   "version": "3.10.0"
  }
 },
 "nbformat": 4,
 "nbformat_minor": 5
}
