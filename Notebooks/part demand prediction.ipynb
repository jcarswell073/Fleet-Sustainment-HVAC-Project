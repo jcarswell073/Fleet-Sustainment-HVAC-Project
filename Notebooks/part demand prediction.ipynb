{
 "cells": [
  {
   "cell_type": "code",
   "execution_count": 19,
   "id": "c10bb8b2-0804-46d9-9ad1-d94a3736c9bd",
   "metadata": {},
   "outputs": [],
   "source": [
    "import os\n",
    "\n",
    "downloads_path = os.path.expanduser(\"~/Downloads\")\n",
    "os.chdir(downloads_path)"
   ]
  },
  {
   "cell_type": "code",
   "execution_count": 20,
   "id": "c84a6a52-c013-4b30-bcbd-aece9a584119",
   "metadata": {},
   "outputs": [
    {
     "name": "stderr",
     "output_type": "stream",
     "text": [
      "/var/folders/9f/3yz89nb525nczbywh5dl11kh0000gn/T/ipykernel_32452/2688843383.py:6: DtypeWarning: Columns (13) have mixed types. Specify dtype option on import or set low_memory=False.\n",
      "  hvacdata = pd.read_csv('hvac_merged.csv')\n"
     ]
    }
   ],
   "source": [
    "import pandas as pd\n",
    "import numpy as np\n",
    "\n",
    "import matplotlib.pyplot as plt\n",
    "\n",
    "hvacdata = pd.read_csv('hvac_merged.csv')\n"
   ]
  },
  {
   "cell_type": "code",
   "execution_count": 36,
   "id": "ab437137-6634-4deb-a243-261cf41b757c",
   "metadata": {},
   "outputs": [
    {
     "name": "stdout",
     "output_type": "stream",
     "text": [
      "['uic', 'job_seq', 'apl', 'cause_code', 'cdm_rin', 'csmp_narrative_summary', 'date_closing', 'date_maintenance_action', 'deferral_reason_code', 'due_date', 'eic', 'equipment_nomenclature', 'eswbs_opening', 'iuc_screening_code', 'location', 'mhc', 'mho', 'mhr', 'priority_code', 'safety_code', 'status_code', 'tycom_screening_code', 'type_availability_code', 'type_of_maintenance_action', 'when_discovered_code', 'work_center', 'total_ima_man_hours', 'total_ship_force_man_hours', 'total_replacement_cost', 'total_repair_replacement_cost', 'def_narrative', 'nondef_narrative', 'closing_narrative', 'ima_narrative', 'total_material_cost', 'opening_ship_system', 'job_status', 'days_open', 'action_taken', 'intermediate_unit_commander_screening', 'priority', 'type_of_availability_needed', 'tycom_screening', 'when_discovered', 'cause', 'deferral_reason', 'feasible_with_ship_inventory', 'feasible_with_additional_dla_inventory', 'ship', 'uic_s', 'jsn', 'date_closing_s', 'demand_date', 'issue_date', 'cwt_hours', 'issue_apl', 'issue_eic', 'niin_nomenclature', 'unit_of_issue', 'supply_pri', 'source_code', 'quantity', 'unit_price', 'total_price', 'action_taken_code', 'loc1', 'loc2', 'loc3', 'loc4', 'cwtDays', 'totPrice', 'totMaterialCost', 'daysOpen', 'rcoh_start_date', 'months_since_rcoh_start', 'computed_total_material_cost', 'computed_totMaterialCost']\n",
      "      uic   job_seq        apl  cause_code cdm_rin csmp_narrative_summary  \\\n",
      "0  R03369  36493414  43A030026           7   86KYW          PARTS MISSING   \n",
      "1  R03369  36493441  611330020           7   0KYWX          PARTS MISSING   \n",
      "2  R23170  36496418  611330020           7   0UXWY          PARTS MISSING   \n",
      "3  R21853  36305764   18550014           7   02THE           PARTS BROKEN   \n",
      "4  R21853  36305764   18550014           7   02THE           PARTS BROKEN   \n",
      "\n",
      "  date_closing date_maintenance_action  deferral_reason_code due_date  \\\n",
      "0   2018-05-08              2018-07-16                   2.0      NaN   \n",
      "1   2018-05-10              2018-07-16                   2.0      NaN   \n",
      "2   2018-05-29              2018-07-16                   2.0      NaN   \n",
      "3   2018-04-12              2018-05-11                   2.0      NaN   \n",
      "4   2018-04-12              2018-05-11                   2.0      NaN   \n",
      "\n",
      "       eic equipment_nomenclature eswbs_opening iuc_screening_code  \\\n",
      "0  T301000       HOOD VENT  NA-24         51211                  0   \n",
      "1  T301000       CONTROL DE-SMOKE         51211                  0   \n",
      "2  1B01000       CONTROL DE-SMOKE         51211                  0   \n",
      "3  T301000       PUMP UNIT DETERG         51211                  0   \n",
      "4  T301000       PUMP UNIT DETERG         51211                  0   \n",
      "\n",
      "     location  mhc  mho  mhr  priority_code  safety_code  status_code  \\\n",
      "0  2-200-01-Q   12    0  0.0            4.0            0          1.0   \n",
      "1   2-180-0-L   12    0  0.0            4.0            0          1.0   \n",
      "2    2-84-0-Q   15    0  0.0            4.0            0          1.0   \n",
      "3  03-148-2-Q   10    0  0.0            4.0            0          2.0   \n",
      "4  03-148-2-Q   10    0  0.0            4.0            0          2.0   \n",
      "\n",
      "  tycom_screening_code  type_availability_code type_of_maintenance_action  \\\n",
      "0                    0                       4                          D   \n",
      "1                    0                       4                          D   \n",
      "2                    0                       4                          D   \n",
      "3                    0                       4                          D   \n",
      "4                    0                       4                          D   \n",
      "\n",
      "   when_discovered_code work_center  total_ima_man_hours  \\\n",
      "0                     3        EE04                 12.0   \n",
      "1                     3        EE04                 12.0   \n",
      "2                     3        EE04                 12.0   \n",
      "3                     3        EE04                 12.0   \n",
      "4                     3        EE04                 12.0   \n",
      "\n",
      "   total_ship_force_man_hours  total_replacement_cost  \\\n",
      "0                          12                    51.0   \n",
      "1                          12                    10.0   \n",
      "2                          15                    10.0   \n",
      "3                          10                   250.0   \n",
      "4                          10                   250.0   \n",
      "\n",
      "   total_repair_replacement_cost def_narrative nondef_narrative  \\\n",
      "0                           51.0       unknown          Unknown   \n",
      "1                           10.0       unknown          Unknown   \n",
      "2                           10.0       unknown          Unknown   \n",
      "3                          250.0       unknown          Unknown   \n",
      "4                          250.0       unknown          Unknown   \n",
      "\n",
      "  closing_narrative ima_narrative  total_material_cost opening_ship_system  \\\n",
      "0           Unknown       Unknown                50.92         R0336951211   \n",
      "1           Unknown       Unknown                10.35         R0336951211   \n",
      "2           Unknown       Unknown                10.35         R2317051211   \n",
      "3           Unknown       Unknown               249.98         R2185351211   \n",
      "4           Unknown       Unknown               249.98         R2185351211   \n",
      "\n",
      "  job_status  days_open                                    action_taken  \\\n",
      "0     Closed      159.0  maintenance action completed part drawn supply   \n",
      "1     Closed      159.0  maintenance action completed part drawn supply   \n",
      "2     Closed      159.0  maintenance action completed part drawn supply   \n",
      "3     Closed      159.0  maintenance action completed part drawn supply   \n",
      "4     Closed      159.0  maintenance action completed part drawn supply   \n",
      "\n",
      "  intermediate_unit_commander_screening   priority  \\\n",
      "0                               Unknown  Desirable   \n",
      "1                               Unknown  Desirable   \n",
      "2                               Unknown  Desirable   \n",
      "3                               Unknown  Desirable   \n",
      "4                               Unknown  Desirable   \n",
      "\n",
      "  type_of_availability_needed tycom_screening           when_discovered  \\\n",
      "0                Ship's force         Unknown  During operability tests   \n",
      "1                Ship's force         Unknown  During operability tests   \n",
      "2                Ship's force         Unknown  During operability tests   \n",
      "3                Ship's force         Unknown  During operability tests   \n",
      "4                Ship's force         Unknown  During operability tests   \n",
      "\n",
      "              cause deferral_reason  feasible_with_ship_inventory  \\\n",
      "0  normal wear tear   lack material                         False   \n",
      "1  normal wear tear   lack material                         False   \n",
      "2  normal wear tear   lack material                         False   \n",
      "3  normal wear tear   lack material                         False   \n",
      "4  normal wear tear   lack material                         False   \n",
      "\n",
      "   feasible_with_additional_dla_inventory   ship    uic_s   jsn  \\\n",
      "0                                   False  CVN69   3369.0  H475   \n",
      "1                                   False  CVN69   3369.0  H510   \n",
      "2                                   False  CVN77  23170.0  H497   \n",
      "3                                   False  CVN75  21853.0  H433   \n",
      "4                                   False  CVN75  21853.0  H433   \n",
      "\n",
      "  date_closing_s demand_date  issue_date  cwt_hours  issue_apl issue_eic  \\\n",
      "0     2018-07-20  2018-06-22  2018-06-30      193.7  43A030026   T301000   \n",
      "1     2018-07-20  2018-06-22  2018-06-30      193.7  611330020   T301000   \n",
      "2     2018-07-20  2018-06-25  2018-07-03      193.7  611330020   1B01000   \n",
      "3     2018-05-21  2018-04-16  2018-04-24      193.7  018550014   T301000   \n",
      "4     2018-05-21  2018-04-16  2018-04-24      193.7  018550014   T301000   \n",
      "\n",
      "  niin_nomenclature unit_of_issue  supply_pri source_code  quantity  \\\n",
      "0           Unknown            EA         4.0           C       1.0   \n",
      "1           Unknown            EA         4.0           C       1.0   \n",
      "2           Unknown            EA         4.0           C       1.0   \n",
      "3           Unknown            EA         4.0           C       1.0   \n",
      "4           Unknown            EA         4.0           C       1.0   \n",
      "\n",
      "   unit_price  total_price action_taken_code loc1 loc2 loc3 loc4  cwtDays  \\\n",
      "0       50.92        50.92                 1    2  200   01    Q      8.0   \n",
      "1       10.35        10.35                 1    2  180    0    L      8.0   \n",
      "2       10.35        10.35                 1    2   84    0    Q      8.0   \n",
      "3       20.00        20.00                 1   03  148    2    Q      8.0   \n",
      "4       16.00        16.00                 1   03  148    2    Q      8.0   \n",
      "\n",
      "   totPrice  totMaterialCost  daysOpen rcoh_start_date  \\\n",
      "0     50.92            50.92       0.0      2017-11-01   \n",
      "1     10.35            10.35       0.0      2017-11-01   \n",
      "2     10.35            10.35       0.0      2017-11-01   \n",
      "3     20.00           249.98       0.0      2017-11-02   \n",
      "4     16.00           249.98       0.0      2017-11-02   \n",
      "\n",
      "   months_since_rcoh_start  computed_total_material_cost  \\\n",
      "0                        8                         50.92   \n",
      "1                        8                         10.35   \n",
      "2                        8                         10.35   \n",
      "3                        6                         20.00   \n",
      "4                        6                         16.00   \n",
      "\n",
      "   computed_totMaterialCost  \n",
      "0                     50.92  \n",
      "1                     10.35  \n",
      "2                     10.35  \n",
      "3                     20.00  \n",
      "4                     16.00  \n"
     ]
    }
   ],
   "source": [
    "print(hvacdata.columns.tolist())\n",
    "\n",
    "pd.set_option('display.max_rows', 200)\n",
    "pd.set_option('display.max_columns', None)\n",
    "pd.set_option('display.width', None)\n",
    "pd.set_option('display.max_colwidth', None)\n",
    "\n",
    "\n",
    "print(hvacdata.head(5))\n",
    "\n"
   ]
  },
  {
   "cell_type": "code",
   "execution_count": 22,
   "id": "72f649ea-5f1e-4fcf-96f9-e8884989ee23",
   "metadata": {},
   "outputs": [
    {
     "name": "stdout",
     "output_type": "stream",
     "text": [
      "     ship rcoh_start_date\n",
      "0   CVN68      2017-11-02\n",
      "1   CVN69      2017-11-01\n",
      "2   CVN70      2017-11-01\n",
      "3   CVN71      2017-11-04\n",
      "4   CVN72      2017-11-01\n",
      "5   CVN73      2017-11-02\n",
      "6   CVN74      2017-11-01\n",
      "7   CVN75      2017-11-02\n",
      "8   CVN76      2017-11-01\n",
      "9   CVN77      2017-11-01\n",
      "10  CVN78      2017-11-01\n"
     ]
    }
   ],
   "source": [
    "\n",
    "\n",
    "hvacdata['date_maintenance_action'] = pd.to_datetime(hvacdata['date_maintenance_action'], errors='coerce')\n",
    "\n",
    "# group by `ship` to find the earliest date\n",
    "rcoh_start_dates = (\n",
    "    hvacdata.groupby('ship')['date_maintenance_action']\n",
    "    .min()\n",
    "    .reset_index()\n",
    "    .rename(columns={'date_maintenance_action': 'rcoh_start_date'})\n",
    ")\n",
    "\n",
    "print(rcoh_start_dates)\n",
    "\n",
    "\n",
    "\n",
    "# !!!!! RCOH for CVN 68 took place between 1998 and 2001, but the first maintenace job recorded in the dataset for CVN 68 is in 2017?\n",
    "# Just use start dates within the data? This may not accurately represent the true project phases"
   ]
  },
  {
   "cell_type": "code",
   "execution_count": 23,
   "id": "a59a4cde-d9bc-42aa-8809-357772502e78",
   "metadata": {},
   "outputs": [],
   "source": [
    "hvacdata = hvacdata.merge(rcoh_start_dates, on='ship', how='left')\n"
   ]
  },
  {
   "cell_type": "code",
   "execution_count": 24,
   "id": "4f017310-d269-4dc8-84e0-206305d493c3",
   "metadata": {},
   "outputs": [],
   "source": [
    "# calculate time since RCOH start\n",
    "\n",
    "hvacdata['months_since_rcoh_start'] = (\n",
    "    (hvacdata['date_maintenance_action'] - hvacdata['rcoh_start_date']) / np.timedelta64(1, 'M')\n",
    ").astype(int)\n"
   ]
  },
  {
   "cell_type": "code",
   "execution_count": 25,
   "id": "0154e0ac-78f6-4c96-bf85-aef60079d9c9",
   "metadata": {},
   "outputs": [
    {
     "name": "stdout",
     "output_type": "stream",
     "text": [
      "    ship date_maintenance_action rcoh_start_date  months_since_rcoh_start\n",
      "0  CVN69              2018-07-16      2017-11-01                        8\n",
      "1  CVN69              2018-07-16      2017-11-01                        8\n",
      "2  CVN77              2018-07-16      2017-11-01                        8\n",
      "3  CVN75              2018-05-11      2017-11-02                        6\n",
      "4  CVN75              2018-05-11      2017-11-02                        6\n"
     ]
    }
   ],
   "source": [
    "print(hvacdata[['ship', 'date_maintenance_action', 'rcoh_start_date', 'months_since_rcoh_start']].head())"
   ]
  },
  {
   "cell_type": "code",
   "execution_count": 26,
   "id": "f6ee8b9f-6af2-4447-a4ec-08ab511e7dbb",
   "metadata": {},
   "outputs": [
    {
     "name": "stdout",
     "output_type": "stream",
     "text": [
      "    ship  months_since_rcoh_start  num_jobs  total_material_cost\n",
      "0  CVN68                        0       109           -330796.57\n",
      "1  CVN68                        1        23              9950.10\n",
      "2  CVN68                        2       268           -196928.14\n",
      "3  CVN68                        3       119            -47056.37\n",
      "4  CVN68                        4        68           -287370.61\n",
      "5  CVN68                        5       165           -186002.60\n",
      "6  CVN68                        6        64             -1804.15\n",
      "7  CVN68                        7       107            400465.12\n",
      "8  CVN68                        8        27           -104921.24\n",
      "9  CVN68                        9        61           -160909.77\n"
     ]
    }
   ],
   "source": [
    "# group by ship and project phase (months since start)\n",
    "job_summary = (\n",
    "    hvacdata.groupby(['ship', 'months_since_rcoh_start'])\n",
    "    .agg(\n",
    "        num_jobs=('ship', 'count'),\n",
    "        total_material_cost=('total_material_cost', 'sum')\n",
    "    )\n",
    "    .reset_index()\n",
    ")\n",
    "\n",
    "print(job_summary.head(10))\n"
   ]
  },
  {
   "cell_type": "code",
   "execution_count": 28,
   "id": "fadceb8d-68c3-4c3c-85e0-663613fc5c81",
   "metadata": {},
   "outputs": [
    {
     "name": "stdout",
     "output_type": "stream",
     "text": [
      "        ship  total_material_cost opening_ship_system job_status\n",
      "15     CVN72             -10000.0         R2129751211     Closed\n",
      "39     CVN75             -10000.0         R2185351211     Closed\n",
      "40     CVN70             -10000.0         R2099351211     Closed\n",
      "41     CVN70             -10000.0         R2099351211     Closed\n",
      "42     CVN75             -10000.0         R2185343311     Closed\n",
      "...      ...                  ...                 ...        ...\n",
      "68209  CVN72             -10000.0         R2129751211       Open\n",
      "68210  CVN71             -10000.0         R2124751211       Open\n",
      "68211  CVN72             -10000.0         R2129743311     Closed\n",
      "68212  CVN78             -10000.0         R2317351211       Open\n",
      "68213  CVN75             -10000.0         R2185351312       Open\n",
      "\n",
      "[33383 rows x 4 columns]\n",
      "Number of rows with wrong costs: 33383\n"
     ]
    }
   ],
   "source": [
    "wrong_costs = hvacdata[hvacdata['total_material_cost'] <= -10000]\n",
    "print(bad_costs[['ship', 'total_material_cost', 'opening_ship_system', 'job_status']])\n",
    "print(f\"Number of rows with wrong costs: {wrong_costs.shape[0]}\")\n"
   ]
  },
  {
   "cell_type": "code",
   "execution_count": 29,
   "id": "86818316-17ce-4926-b0c4-a9b4548d0a92",
   "metadata": {},
   "outputs": [
    {
     "name": "stdout",
     "output_type": "stream",
     "text": [
      "['uic', 'job_seq', 'apl', 'cause_code', 'cdm_rin', 'csmp_narrative_summary', 'date_closing', 'date_maintenance_action', 'deferral_reason_code', 'due_date', 'eic', 'equipment_nomenclature', 'eswbs_opening', 'iuc_screening_code', 'location', 'mhc', 'mho', 'mhr', 'priority_code', 'safety_code', 'status_code', 'tycom_screening_code', 'type_availability_code', 'type_of_maintenance_action', 'when_discovered_code', 'work_center', 'total_ima_man_hours', 'total_ship_force_man_hours', 'total_replacement_cost', 'total_repair_replacement_cost', 'def_narrative', 'nondef_narrative', 'closing_narrative', 'ima_narrative', 'total_material_cost', 'opening_ship_system', 'job_status', 'days_open', 'action_taken', 'intermediate_unit_commander_screening', 'priority', 'type_of_availability_needed', 'tycom_screening', 'when_discovered', 'cause', 'deferral_reason', 'feasible_with_ship_inventory', 'feasible_with_additional_dla_inventory', 'ship', 'uic_s', 'jsn', 'date_closing_s', 'demand_date', 'issue_date', 'cwt_hours', 'issue_apl', 'issue_eic', 'niin_nomenclature', 'unit_of_issue', 'supply_pri', 'source_code', 'quantity', 'unit_price', 'total_price', 'action_taken_code', 'loc1', 'loc2', 'loc3', 'loc4', 'cwtDays', 'totPrice', 'totMaterialCost', 'daysOpen', 'rcoh_start_date', 'months_since_rcoh_start']\n"
     ]
    }
   ],
   "source": [
    "print(hvacdata.columns.tolist())\n"
   ]
  },
  {
   "cell_type": "code",
   "execution_count": 31,
   "id": "1d807b49-2924-4ddc-87f4-760dd826a9cc",
   "metadata": {},
   "outputs": [
    {
     "name": "stdout",
     "output_type": "stream",
     "text": [
      "    ship  months_since_rcoh_start  num_jobs  totMaterialCost\n",
      "0  CVN68                        0       109          3510.49\n",
      "1  CVN68                        1        23          4342.57\n",
      "2  CVN68                        2       268         60903.65\n",
      "3  CVN68                        3       119          8226.57\n",
      "4  CVN68                        4        68          1608.14\n",
      "5  CVN68                        5       165          9679.50\n",
      "6  CVN68                        6        64         26928.51\n",
      "7  CVN68                        7       107         32103.26\n",
      "8  CVN68                        8        27           597.35\n",
      "9  CVN68                        9        61          8536.91\n"
     ]
    }
   ],
   "source": [
    "job_summary = (\n",
    "    hvacdata.groupby(['ship', 'months_since_rcoh_start'])\n",
    "    .agg(\n",
    "        num_jobs=('ship', 'count'),\n",
    "        totMaterialCost=('totMaterialCost', 'sum')\n",
    "    )\n",
    "    .reset_index()\n",
    ")\n",
    "\n",
    "print(job_summary.head(10))\n"
   ]
  },
  {
   "cell_type": "code",
   "execution_count": 35,
   "id": "b94485b1-7be2-4d3a-8132-70e111c0256b",
   "metadata": {},
   "outputs": [
    {
     "name": "stdout",
     "output_type": "stream",
     "text": [
      "   totMaterialCost  computed_totMaterialCost\n",
      "0            50.92                     50.92\n",
      "1            10.35                     10.35\n",
      "2            10.35                     10.35\n",
      "3           249.98                     20.00\n",
      "4           249.98                     16.00\n",
      "5           249.98                     20.00\n",
      "6           249.98                    160.98\n",
      "7           249.98                     17.00\n",
      "8           249.98                     16.00\n",
      "9           363.59                    363.59\n"
     ]
    }
   ],
   "source": [
    "hvacdata['computed_totMaterialCost'] = hvacdata['unit_price'] * hvacdata['quantity']\n",
    "\n",
    "# compare with the original\n",
    "print(hvacdata[['totMaterialCost', 'computed_totMaterialCost']].head(10))\n"
   ]
  },
  {
   "cell_type": "code",
   "execution_count": null,
   "id": "999db6f1-32c8-4ee6-8b69-c47b1bab4ef4",
   "metadata": {},
   "outputs": [],
   "source": []
  }
 ],
 "metadata": {
  "kernelspec": {
   "display_name": "Python [conda env:base] *",
   "language": "python",
   "name": "conda-base-py"
  },
  "language_info": {
   "codemirror_mode": {
    "name": "ipython",
    "version": 3
   },
   "file_extension": ".py",
   "mimetype": "text/x-python",
   "name": "python",
   "nbconvert_exporter": "python",
   "pygments_lexer": "ipython3",
   "version": "3.11.5"
  }
 },
 "nbformat": 4,
 "nbformat_minor": 5
}
