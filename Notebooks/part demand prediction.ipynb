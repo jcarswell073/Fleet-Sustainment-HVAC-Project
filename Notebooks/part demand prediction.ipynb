{
 "cells": [
  {
   "cell_type": "code",
   "execution_count": 13,
   "id": "c10bb8b2-0804-46d9-9ad1-d94a3736c9bd",
   "metadata": {},
   "outputs": [],
   "source": [
    "import os\n",
    "\n",
    "downloads_path = os.path.expanduser(\"~/Downloads/Fleet-Sustainment-HVAC-Project\")\n",
    "os.chdir(downloads_path)"
   ]
  },
  {
   "cell_type": "code",
   "execution_count": 14,
   "id": "c84a6a52-c013-4b30-bcbd-aece9a584119",
   "metadata": {},
   "outputs": [
    {
     "name": "stderr",
     "output_type": "stream",
     "text": [
      "/var/folders/9f/3yz89nb525nczbywh5dl11kh0000gn/T/ipykernel_1855/3174971943.py:6: DtypeWarning: Columns (14) have mixed types. Specify dtype option on import or set low_memory=False.\n",
      "  hvacdata = pd.read_csv('Archive/2. ProcessedData/dataset.csv')\n"
     ]
    }
   ],
   "source": [
    "import pandas as pd\n",
    "import numpy as np\n",
    "\n",
    "import matplotlib.pyplot as plt\n",
    "\n",
    "hvacdata = pd.read_csv('Archive/2. ProcessedData/dataset.csv')\n"
   ]
  },
  {
   "cell_type": "code",
   "execution_count": 15,
   "id": "ab437137-6634-4deb-a243-261cf41b757c",
   "metadata": {},
   "outputs": [
    {
     "name": "stdout",
     "output_type": "stream",
     "text": [
      "['uic', 'job_seq', 'apl', 'cause_code', 'cdm_rin', 'csmp_narrative_summary', 'date_closing', 'date_maintenance_action', 'deferral_reason_code', 'due_date', 'eic', 'equipment_nomenclature', 'eswbs_opening', 'identification_number_closing', 'iuc_screening_code', 'location', 'mhc', 'mho', 'mhr', 'priority_code', 'safety_code', 'status_code', 'tycom_screening_code', 'type_availability_code', 'type_of_maintenance_action', 'when_discovered_code', 'work_center', 'total_ima_man_hours', 'total_ship_force_man_hours', 'total_replacement_cost', 'total_repair_replacement_cost', 'def_narrative', 'nondef_narrative', 'closing_narrative', 'ima_narrative', 'total_material_cost', 'opening_ship_system', 'closing_ship_system', 'job_status', 'days_open', 'action_taken', 'intermediate_unit_commander_screening', 'priority', 'component_status', 'type_of_availability_needed', 'tycom_screening', 'when_discovered', 'cause', 'deferral_reason', 'feasible_with_ship_inventory', 'feasible_with_additional_dla_inventory', 'ship', 'ship_readiness_effect', 'uic_s', 'work_center_s', 'jsn', 'date_maintenance_action_s', 'date_closing_s', 'demand_date', 'issue_date', 'cwt_hours', 'issue_apl', 'issue_eic', 'niin_nomenclature', 'unit_of_issue', 'supply_pri', 'source_code', 'quantity', 'unit_price', 'total_price', 'job_seq_s']\n",
      "            uic     job_seq        apl  cause_code cdm_rin  \\\n",
      "0  <<<<<<< HEAD         NaN        NaN         NaN     NaN   \n",
      "1        R03369  36493414.0  43A030026         7.0   86KYW   \n",
      "2        R03369  36493441.0  611330020         7.0   0KYWX   \n",
      "3        R23170  36496418.0  611330020         7.0   0UXWY   \n",
      "4        R21853  36305764.0   18550014         7.0   02THE   \n",
      "\n",
      "  csmp_narrative_summary date_closing date_maintenance_action  \\\n",
      "0                    NaN          NaN                     NaN   \n",
      "1          PARTS MISSING   2018-05-08              2018-07-16   \n",
      "2          PARTS MISSING   2018-05-10              2018-07-16   \n",
      "3          PARTS MISSING   2018-05-29              2018-07-16   \n",
      "4           PARTS BROKEN   2018-04-12              2018-05-11   \n",
      "\n",
      "   deferral_reason_code    due_date      eic equipment_nomenclature  \\\n",
      "0                   NaN         NaN      NaN                    NaN   \n",
      "1                   2.0  3000-01-01  T301000       HOOD VENT  NA-24   \n",
      "2                   2.0  3000-01-01  T301000       CONTROL DE-SMOKE   \n",
      "3                   2.0  3000-01-01  1B01000       CONTROL DE-SMOKE   \n",
      "4                   2.0  3000-01-01  T301000       PUMP UNIT DETERG   \n",
      "\n",
      "  eswbs_opening identification_number_closing iuc_screening_code    location  \\\n",
      "0           NaN                           NaN                NaN         NaN   \n",
      "1         51211                       UNKNOWN                0.0  2-200-01-Q   \n",
      "2         51211                       UNKNOWN                0.0   2-180-0-L   \n",
      "3         51211                       UNKNOWN                0.0    2-84-0-Q   \n",
      "4         51211                       UNKNOWN                0.0  03-148-2-Q   \n",
      "\n",
      "    mhc  mho  mhr  priority_code  safety_code  status_code  \\\n",
      "0   NaN  NaN  NaN            NaN          NaN          NaN   \n",
      "1  12.0  0.0  0.0            4.0          0.0          1.0   \n",
      "2  12.0  0.0  0.0            4.0          0.0          1.0   \n",
      "3  15.0  0.0  0.0            4.0          0.0          1.0   \n",
      "4  10.0  0.0  0.0            4.0          0.0          2.0   \n",
      "\n",
      "  tycom_screening_code  type_availability_code type_of_maintenance_action  \\\n",
      "0                  NaN                     NaN                        NaN   \n",
      "1                    0                     4.0                          D   \n",
      "2                    0                     4.0                          D   \n",
      "3                    0                     4.0                          D   \n",
      "4                    0                     4.0                          D   \n",
      "\n",
      "   when_discovered_code work_center  total_ima_man_hours  \\\n",
      "0                   NaN         NaN                  NaN   \n",
      "1                   3.0        EE04                 12.0   \n",
      "2                   3.0        EE04                 12.0   \n",
      "3                   3.0        EE04                 12.0   \n",
      "4                   3.0        EE04                 12.0   \n",
      "\n",
      "   total_ship_force_man_hours  total_replacement_cost  \\\n",
      "0                         NaN                     NaN   \n",
      "1                        12.0                    51.0   \n",
      "2                        12.0                    10.0   \n",
      "3                        15.0                    10.0   \n",
      "4                        10.0                   250.0   \n",
      "\n",
      "   total_repair_replacement_cost def_narrative nondef_narrative  \\\n",
      "0                            NaN           NaN              NaN   \n",
      "1                           51.0       unknown          Unknown   \n",
      "2                           10.0       unknown          Unknown   \n",
      "3                           10.0       unknown          Unknown   \n",
      "4                          250.0       unknown          Unknown   \n",
      "\n",
      "  closing_narrative ima_narrative  total_material_cost opening_ship_system  \\\n",
      "0               NaN           NaN                  NaN                 NaN   \n",
      "1           Unknown       Unknown                50.92         R0336951211   \n",
      "2           Unknown       Unknown                10.35         R0336951211   \n",
      "3           Unknown       Unknown                10.35         R2317051211   \n",
      "4           Unknown       Unknown               249.98         R2185351211   \n",
      "\n",
      "  closing_ship_system job_status  days_open  \\\n",
      "0                 NaN        NaN        NaN   \n",
      "1         R0336951211     Closed      159.0   \n",
      "2         R0336951211     Closed      159.0   \n",
      "3         R2317051211     Closed      159.0   \n",
      "4         R2185351211     Closed      159.0   \n",
      "\n",
      "                                     action_taken  \\\n",
      "0                                             NaN   \n",
      "1  maintenance action completed part drawn supply   \n",
      "2  maintenance action completed part drawn supply   \n",
      "3  maintenance action completed part drawn supply   \n",
      "4  maintenance action completed part drawn supply   \n",
      "\n",
      "  intermediate_unit_commander_screening   priority component_status  \\\n",
      "0                                   NaN        NaN              NaN   \n",
      "1                               Unknown  Desirable      Operational   \n",
      "2                               Unknown  Desirable      Operational   \n",
      "3                               Unknown  Desirable      Operational   \n",
      "4                               Unknown  Desirable  Non-operational   \n",
      "\n",
      "  type_of_availability_needed tycom_screening           when_discovered  \\\n",
      "0                         NaN             NaN                       NaN   \n",
      "1                Ship's force         Unknown  During operability tests   \n",
      "2                Ship's force         Unknown  During operability tests   \n",
      "3                Ship's force         Unknown  During operability tests   \n",
      "4                Ship's force         Unknown  During operability tests   \n",
      "\n",
      "              cause deferral_reason feasible_with_ship_inventory  \\\n",
      "0               NaN             NaN                          NaN   \n",
      "1  normal wear tear   lack material                        False   \n",
      "2  normal wear tear   lack material                        False   \n",
      "3  normal wear tear   lack material                        False   \n",
      "4  normal wear tear   lack material                        False   \n",
      "\n",
      "  feasible_with_additional_dla_inventory   ship  ship_readiness_effect  \\\n",
      "0                                    NaN    NaN                    NaN   \n",
      "1                                  False  CVN69                    0.0   \n",
      "2                                  False  CVN69                    0.0   \n",
      "3                                  False  CVN77                    0.0   \n",
      "4                                  False  CVN75                    0.0   \n",
      "\n",
      "     uic_s work_center_s   jsn date_maintenance_action_s date_closing_s  \\\n",
      "0      NaN           NaN   NaN                       NaN            NaN   \n",
      "1   3369.0          EE04  H475                2018-07-16     2018-07-20   \n",
      "2   3369.0          EE04  H510                2018-07-16     2018-07-20   \n",
      "3  23170.0          EE04  H497                2018-07-16     2018-07-20   \n",
      "4  21853.0          EE04  H433                2018-05-11     2018-05-21   \n",
      "\n",
      "  demand_date  issue_date  cwt_hours  issue_apl issue_eic niin_nomenclature  \\\n",
      "0         NaN         NaN        NaN        NaN       NaN               NaN   \n",
      "1  2018-06-22  2018-06-30      193.7  43A030026   T301000           Unknown   \n",
      "2  2018-06-22  2018-06-30      193.7  611330020   T301000           Unknown   \n",
      "3  2018-06-25  2018-07-03      193.7  611330020   1B01000           Unknown   \n",
      "4  2018-04-16  2018-04-24      193.7  018550014   T301000           Unknown   \n",
      "\n",
      "  unit_of_issue  supply_pri source_code  quantity  unit_price  total_price  \\\n",
      "0           NaN         NaN         NaN       NaN         NaN          NaN   \n",
      "1            EA         4.0           C       1.0       50.92        50.92   \n",
      "2            EA         4.0           C       1.0       10.35        10.35   \n",
      "3            EA         4.0           C       1.0       10.35        10.35   \n",
      "4            EA         4.0           C       1.0       20.00        20.00   \n",
      "\n",
      "    job_seq_s  \n",
      "0         NaN  \n",
      "1  36493414.0  \n",
      "2  36493441.0  \n",
      "3  36496418.0  \n",
      "4  36305764.0  \n"
     ]
    }
   ],
   "source": [
    "print(hvacdata.columns.tolist())\n",
    "\n",
    "pd.set_option('display.max_rows', 200)\n",
    "pd.set_option('display.max_columns', None)\n",
    "pd.set_option('display.width', None)\n",
    "pd.set_option('display.max_colwidth', None)\n",
    "\n",
    "\n",
    "print(hvacdata.head(5))\n",
    "\n"
   ]
  },
  {
   "cell_type": "code",
   "execution_count": 42,
   "id": "72f649ea-5f1e-4fcf-96f9-e8884989ee23",
   "metadata": {},
   "outputs": [
    {
     "name": "stdout",
     "output_type": "stream",
     "text": [
      "     ship first_maintenance_date\n",
      "0   CVN68             2017-11-02\n",
      "1   CVN69             2017-11-01\n",
      "2   CVN70             2017-11-01\n",
      "3   CVN71             2017-11-04\n",
      "4   CVN72             2017-11-01\n",
      "5   CVN73             2017-11-02\n",
      "6   CVN74             2017-11-01\n",
      "7   CVN75             2017-11-02\n",
      "8   CVN76             2017-11-01\n",
      "9   CVN77             2017-11-01\n",
      "10  CVN78             2017-11-01\n"
     ]
    }
   ],
   "source": [
    "hvacdata['date_maintenance_action'] = pd.to_datetime(hvacdata['date_maintenance_action'], errors='coerce')\n",
    "\n",
    "# group by `ship` to find the earliest date\n",
    "first_maintenance_dates = (\n",
    "    hvacdata.groupby('ship')['date_maintenance_action']\n",
    "    .min()\n",
    "    .reset_index()\n",
    "    .rename(columns={'date_maintenance_action': 'first_maintenance_date'})\n",
    ")\n",
    "\n",
    "print(first_maintenance_dates)\n"
   ]
  },
  {
   "cell_type": "code",
   "execution_count": 53,
   "id": "121f1fb4-f1f1-42a1-92c5-f7c7def69444",
   "metadata": {},
   "outputs": [],
   "source": [
    "hvacdata = hvacdata.merge(first_maintenance_dates, on='ship', how='left')\n"
   ]
  },
  {
   "cell_type": "code",
   "execution_count": 63,
   "id": "f43ddf0a-9a30-479c-a567-46eb9e1e4b93",
   "metadata": {},
   "outputs": [],
   "source": [
    "# column for calendar month\n",
    "hvacdata['calendar_month'] = hvacdata['date_maintenance_action'].dt.to_period('M')\n"
   ]
  },
  {
   "cell_type": "code",
   "execution_count": 54,
   "id": "4f017310-d269-4dc8-84e0-206305d493c3",
   "metadata": {},
   "outputs": [],
   "source": [
    "# calculate time since start of maintenance jobs\n",
    "\n",
    "hvacdata['months_since_first_maintenance'] = (\n",
    "    (hvacdata['date_maintenance_action'] - hvacdata['first_maintenance_date']) / np.timedelta64(1, 'M')\n",
    ")\n",
    "\n",
    "\n",
    "hvacdata['months_since_first_maintenance'] = (\n",
    "    hvacdata['months_since_first_maintenance']\n",
    "    .round()\n",
    "    .astype('Int64')\n",
    ")\n",
    "\n",
    "hvacdata = hvacdata[hvacdata['ship'].notna()]\n"
   ]
  },
  {
   "cell_type": "code",
   "execution_count": 55,
   "id": "0154e0ac-78f6-4c96-bf85-aef60079d9c9",
   "metadata": {},
   "outputs": [
    {
     "name": "stdout",
     "output_type": "stream",
     "text": [
      "    ship date_maintenance_action first_maintenance_date  \\\n",
      "0  CVN69              2018-07-16             2017-11-01   \n",
      "1  CVN69              2018-07-16             2017-11-01   \n",
      "2  CVN77              2018-07-16             2017-11-01   \n",
      "3  CVN75              2018-05-11             2017-11-02   \n",
      "4  CVN75              2018-05-11             2017-11-02   \n",
      "\n",
      "   months_since_first_maintenance  \n",
      "0                               8  \n",
      "1                               8  \n",
      "2                               8  \n",
      "3                               6  \n",
      "4                               6  \n"
     ]
    }
   ],
   "source": [
    "print(hvacdata[['ship', 'date_maintenance_action', 'first_maintenance_date', 'months_since_first_maintenance']].head())"
   ]
  },
  {
   "cell_type": "code",
   "execution_count": 56,
   "id": "9e400956-5a41-4ff7-a7ce-c4bd6884b702",
   "metadata": {},
   "outputs": [
    {
     "name": "stdout",
     "output_type": "stream",
     "text": [
      "['uic', 'job_seq', 'apl', 'cause_code', 'cdm_rin', 'csmp_narrative_summary', 'date_closing', 'date_maintenance_action', 'deferral_reason_code', 'due_date', 'eic', 'equipment_nomenclature', 'eswbs_opening', 'identification_number_closing', 'iuc_screening_code', 'location', 'mhc', 'mho', 'mhr', 'priority_code', 'safety_code', 'status_code', 'tycom_screening_code', 'type_availability_code', 'type_of_maintenance_action', 'when_discovered_code', 'work_center', 'total_ima_man_hours', 'total_ship_force_man_hours', 'total_replacement_cost', 'total_repair_replacement_cost', 'def_narrative', 'nondef_narrative', 'closing_narrative', 'ima_narrative', 'total_material_cost', 'opening_ship_system', 'closing_ship_system', 'job_status', 'days_open', 'action_taken', 'intermediate_unit_commander_screening', 'priority', 'component_status', 'type_of_availability_needed', 'tycom_screening', 'when_discovered', 'cause', 'deferral_reason', 'feasible_with_ship_inventory', 'feasible_with_additional_dla_inventory', 'ship', 'ship_readiness_effect', 'uic_s', 'work_center_s', 'jsn', 'date_maintenance_action_s', 'date_closing_s', 'demand_date', 'issue_date', 'cwt_hours', 'issue_apl', 'issue_eic', 'niin_nomenclature', 'unit_of_issue', 'supply_pri', 'source_code', 'quantity', 'unit_price', 'total_price', 'job_seq_s', 'first_maintenance_date_x', 'months_since_first_maintenance', 'first_maintenance_date_y', 'first_maintenance_date']\n"
     ]
    }
   ],
   "source": [
    "print(hvacdata.columns.tolist())\n"
   ]
  },
  {
   "cell_type": "code",
   "execution_count": 57,
   "id": "b94485b1-7be2-4d3a-8132-70e111c0256b",
   "metadata": {},
   "outputs": [],
   "source": [
    "hvacdata['computed_total_material_cost'] = hvacdata['unit_price'] * hvacdata['quantity']\n",
    "\n",
    "\n"
   ]
  },
  {
   "cell_type": "code",
   "execution_count": 58,
   "id": "1d807b49-2924-4ddc-87f4-760dd826a9cc",
   "metadata": {},
   "outputs": [
    {
     "name": "stdout",
     "output_type": "stream",
     "text": [
      "    ship  months_since_first_maintenance  num_jobs  total_material_cost\n",
      "0  CVN68                               0       152            1184.8200\n",
      "1  CVN68                               1        88            5883.6300\n",
      "2  CVN68                               2       166           22249.2375\n",
      "3  CVN68                               3       422           51977.9175\n",
      "4  CVN68                               4       300            9381.6250\n",
      "5  CVN68                               5       164           41598.1875\n",
      "6  CVN68                               6       278            8723.3850\n",
      "7  CVN68                               7       194           28921.8525\n",
      "8  CVN68                               8       112            4791.1425\n",
      "9  CVN68                               9       114            7569.3500\n"
     ]
    }
   ],
   "source": [
    "job_summary = (\n",
    "    hvacdata.groupby(['ship', 'months_since_first_maintenance'])\n",
    "    .agg(\n",
    "        num_jobs=('ship', 'count'),\n",
    "        total_material_cost=('computed_total_material_cost', 'sum')\n",
    "    )\n",
    "    .reset_index()\n",
    ")\n",
    "\n",
    "print(job_summary.head(10))\n"
   ]
  },
  {
   "cell_type": "code",
   "execution_count": 64,
   "id": "999db6f1-32c8-4ee6-8b69-c47b1bab4ef4",
   "metadata": {},
   "outputs": [
    {
     "name": "stdout",
     "output_type": "stream",
     "text": [
      "     ship calendar_month    niin_nomenclature  total_part_quantity  num_jobs  \\\n",
      "0   CVN68        2017-11               BELT,V                  4.0         2   \n",
      "1   CVN68        2017-11   CONTACTOR,MAGNETIC                  2.0         2   \n",
      "2   CVN68        2017-11   FILTER ELEMENT,AIR                160.0       142   \n",
      "3   CVN68        2017-11  RELAY,ELECTROMAGNET                  2.0         2   \n",
      "4   CVN68        2017-12   FILTER ELEMENT,AIR                 12.0        10   \n",
      "5   CVN68        2017-12  HEATING ELEMENT,ELE                  6.0         6   \n",
      "6   CVN68        2017-12   PARTS KIT,PRESSURE                  2.0         2   \n",
      "7   CVN68        2017-12  PARTS KIT,REGULATIN                  2.0         2   \n",
      "8   CVN68        2017-12  RELAY,ELECTROMAGNET                  2.0         2   \n",
      "9   CVN68        2017-12                 RING                  4.0         4   \n",
      "10  CVN68        2017-12       RING,RETAINING                  4.0         4   \n",
      "11  CVN68        2017-12    TRANSFORMER,POWER                  2.0         2   \n",
      "12  CVN68        2017-12  VALVE,CALIBRATED FL                  2.0         2   \n",
      "13  CVN68        2017-12  VALVE,REGULATING,TE                  2.0         2   \n",
      "14  CVN68        2018-01     BATTERY ASSEMBLY                  2.0         2   \n",
      "15  CVN68        2018-01  BEARING,BALL,ANNULA                 30.0        24   \n",
      "16  CVN68        2018-01  COVER,ELECTRICAL CO                 20.0         2   \n",
      "17  CVN68        2018-01   FILTER ELEMENT,AIR                126.0        86   \n",
      "18  CVN68        2018-01  GASKET,SPIRAL WOUND                 30.0         4   \n",
      "19  CVN68        2018-01  LOUDSPEAKER,ELECTRO                  4.0         4   \n",
      "\n",
      "    total_material_cost  \n",
      "0               12.7600  \n",
      "1             1159.7075  \n",
      "2             1536.3000  \n",
      "3             1159.7075  \n",
      "4              129.4800  \n",
      "5             3479.1225  \n",
      "6             1159.7075  \n",
      "7              673.7600  \n",
      "8             1159.7075  \n",
      "9                6.0000  \n",
      "10             169.6400  \n",
      "11             949.0400  \n",
      "12             313.4600  \n",
      "13            1159.7075  \n",
      "14            1159.7075  \n",
      "15           10073.5925  \n",
      "16             150.0000  \n",
      "17            1392.2200  \n",
      "18             510.0000  \n",
      "19            2319.4150  \n"
     ]
    }
   ],
   "source": [
    "# groups data by ship, months_since_rcoh_start, and part\n",
    "\n",
    "\n",
    "monthly_part_summary = (\n",
    "    hvacdata.groupby(['ship', 'calendar_month', 'niin_nomenclature'])\n",
    "    .agg(\n",
    "        total_part_quantity=('quantity', 'sum'),\n",
    "        num_jobs=('job_status', 'count'),\n",
    "        total_material_cost=('computed_total_material_cost', 'sum')\n",
    "    )\n",
    "    .reset_index()\n",
    ")\n",
    "\n",
    "\n",
    "print(monthly_part_summary.head(20))\n"
   ]
  },
  {
   "cell_type": "code",
   "execution_count": 69,
   "id": "5fb7215a-447f-4e83-a76c-7f41a7fcad35",
   "metadata": {},
   "outputs": [
    {
     "data": {
      "image/png": "[encoded data removed]",
      "text/plain": [
       "<Figure size 640x480 with 1 Axes>"
      ]
     },
     "metadata": {},
     "output_type": "display_data"
    }
   ],
   "source": [
    "import matplotlib.pyplot as plt\n",
    "\n",
    "part = 'FILTER ELEMENT,AIR'\n",
    "ship = 'CVN68'\n",
    "\n",
    "part_data = monthly_part_summary[\n",
    "    (monthly_part_summary['niin_nomenclature'] == part) &\n",
    "    (monthly_part_summary['ship'] == ship)\n",
    "]\n",
    "\n",
    "plt.plot(part_data['calendar_month'].astype(str), part_data['total_part_quantity'])\n",
    "plt.title(f\"Monthly usage for {part} on {ship}\")\n",
    "plt.xlabel('Calendar Month')\n",
    "plt.ylabel('Total Quantity')\n",
    "\n",
    "# every 3rd month for readability\n",
    "plt.xticks(\n",
    "    ticks=range(0, len(part_data['calendar_month']), 3),\n",
    "    labels=part_data['calendar_month'].astype(str)[::3],\n",
    "    rotation=45,\n",
    "    ha='right'\n",
    ")\n",
    "\n",
    "plt.show()\n"
   ]
  },
  {
   "cell_type": "code",
   "execution_count": 47,
   "id": "d0c96ba9-4bb6-43e4-a9a7-99d951856e08",
   "metadata": {},
   "outputs": [],
   "source": [
    "# some feature ideas that could go into model: num_jobs (more jobs = more parts), maintenace_duration (if jobs are taking longer, maybe more parts are needed), ship_age (older ships may need more replacement parts), months_since_rcoh_start, etc."
   ]
  },
  {
   "cell_type": "code",
   "execution_count": 61,
   "id": "969cff69-2dd7-4e45-8f9d-d7218564f407",
   "metadata": {},
   "outputs": [],
   "source": []
  },
  {
   "cell_type": "code",
   "execution_count": null,
   "id": "a4bf1c9a-4199-4415-9e46-adf8ad3cdd19",
   "metadata": {},
   "outputs": [],
   "source": []
  }
 ],
 "metadata": {
  "kernelspec": {
   "display_name": "Python [conda env:base] *",
   "language": "python",
   "name": "conda-base-py"
  },
  "language_info": {
   "codemirror_mode": {
    "name": "ipython",
    "version": 3
   },
   "file_extension": ".py",
   "mimetype": "text/x-python",
   "name": "python",
   "nbconvert_exporter": "python",
   "pygments_lexer": "ipython3",
   "version": "3.11.5"
  }
 },
 "nbformat": 4,
 "nbformat_minor": 5
}
