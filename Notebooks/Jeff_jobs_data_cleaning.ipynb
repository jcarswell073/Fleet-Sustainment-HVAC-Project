{
 "cells": [
  {
   "cell_type": "code",
   "execution_count": null,
   "id": "1f073fad",
   "metadata": {},
   "outputs": [
    {
     "data": {
      "text/plain": [
       "'c:\\\\Users\\\\carswje\\\\OneDrive - HII\\\\Documents\\\\GitHub\\\\Fleet-Sustainment-HVAC-Project'"
      ]
     },
     "execution_count": 3,
     "metadata": {},
     "output_type": "execute_result"
    }
   ],
   "source": [
    "import os\n",
    "import pandas as pd\n"
   ]
  },
  {
   "cell_type": "code",
   "execution_count": null,
   "id": "407850aa",
   "metadata": {},
   "outputs": [
    {
     "name": "stderr",
     "output_type": "stream",
     "text": [
      "C:\\Users\\carswje\\AppData\\Local\\Temp\\ipykernel_29916\\4159553385.py:2: DtypeWarning: Columns (3,4,20) have mixed types. Specify dtype option on import or set low_memory=False.\n",
      "  data = pd.read_csv('RawData/cvn-hvac-jobs-data.csv')\n"
     ]
    }
   ],
   "source": [
    "os.getcwd() #'c:\\\\Users\\\\carswje\\\\OneDrive - HII\\\\Documents\\\\GitHub\\\\Fleet-Sustainment-HVAC-Project'\n",
    "data = pd.read_csv('RawData/cvn-hvac-jobs-data.csv')"
   ]
  },
  {
   "cell_type": "code",
   "execution_count": null,
   "id": "631ce0cd",
   "metadata": {},
   "outputs": [],
   "source": []
  }
 ],
 "metadata": {
  "kernelspec": {
   "display_name": "base",
   "language": "python",
   "name": "python3"
  },
  "language_info": {
   "codemirror_mode": {
    "name": "ipython",
    "version": 3
   },
   "file_extension": ".py",
   "mimetype": "text/x-python",
   "name": "python",
   "nbconvert_exporter": "python",
   "pygments_lexer": "ipython3",
   "version": "3.12.7"
  }
 },
 "nbformat": 4,
 "nbformat_minor": 5
}
