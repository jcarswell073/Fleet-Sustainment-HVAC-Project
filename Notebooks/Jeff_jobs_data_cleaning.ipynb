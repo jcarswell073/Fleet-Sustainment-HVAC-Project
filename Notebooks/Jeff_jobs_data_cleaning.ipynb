{
 "cells": [
  {
   "cell_type": "code",
   "execution_count": 1,
   "id": "1f073fad",
   "metadata": {},
   "outputs": [],
   "source": [
    "import os\n",
    "import pandas as pd"
   ]
  },
  {
   "cell_type": "code",
   "execution_count": 2,
   "id": "407850aa",
   "metadata": {},
   "outputs": [
    {
     "name": "stderr",
     "output_type": "stream",
     "text": [
      "C:\\Users\\carswje\\AppData\\Local\\Temp\\ipykernel_4208\\3477807849.py:1: DtypeWarning: Columns (3,4,20) have mixed types. Specify dtype option on import or set low_memory=False.\n",
      "  data = pd.read_csv(r'C:\\Users\\carswje\\OneDrive - HII\\Documents\\Fleet-Sustainment-HVAC-Project\\RawData\\cvn-hvac-jobs-data.csv') #47350 x 87\n"
     ]
    }
   ],
   "source": [
    "data = pd.read_csv(r'C:\\Users\\carswje\\OneDrive - HII\\Documents\\Fleet-Sustainment-HVAC-Project\\RawData\\cvn-hvac-jobs-data.csv') #47350 x 87"
   ]
  },
  {
   "cell_type": "markdown",
   "id": "928bae16",
   "metadata": {},
   "source": [
    "# Removing Unnecessary Columns"
   ]
  },
  {
   "cell_type": "code",
   "execution_count": 3,
   "id": "0d933877",
   "metadata": {},
   "outputs": [],
   "source": [
    "#Removing columns providing no value. Dimension is now 47350 x 56\n",
    "data = data.drop(['alt_closing',\n",
    "'alt_opening',\n",
    "'insurv_number',\n",
    "'identification_number_closing',\n",
    "'insurv_suffix',\n",
    "'eswbs_closing',\n",
    "'integrated_priority',\n",
    "'meter_reading_opening',\n",
    "'special_tycom_data',\n",
    "'mcc',\n",
    "'remarks',\n",
    "'UsedinMerit',\n",
    "'OARSCreatedDate',\n",
    "'OARSUpdateDate',\n",
    "'CASREP_CAT',\n",
    "'CASREP',\n",
    "'idCause',\n",
    "'idSymptom',\n",
    "'idSystem',\n",
    "'idSubsystem',\n",
    "'idEquipmentgroup',\n",
    "'idEquipment',\n",
    "'idComponent',\n",
    "'idSubcomponent',\n",
    "'idAssess',\n",
    "'completed',\n",
    "'rpr_lvl',\n",
    "'ref_num',\n",
    "'foundinMerit',\n",
    "'configurationItemId',\n",
    "'ship_readiness_effect',\n",
    "'closing_ship_system',\n",
    "'assigned',\n",
    "'casrep_filed',\n",
    "'total_material_cost'], axis=1) "
   ]
  },
  {
   "cell_type": "markdown",
   "id": "ed3fb859",
   "metadata": {},
   "source": [
    "# Handling NAs"
   ]
  },
  {
   "cell_type": "code",
   "execution_count": 4,
   "id": "e1a420c7",
   "metadata": {},
   "outputs": [
    {
     "name": "stdout",
     "output_type": "stream",
     "text": [
      "Column Name                              | # of NAs\n",
      "---------------------------------------- | --------\n",
      "uic                                      | 0\n",
      "job_seq                                  | 0\n",
      "action_taken_code                        | 11233\n",
      "apl                                      | 86\n",
      "cause_code                               | 0\n",
      "cdm_rin                                  | 948\n",
      "csmp_narrative_summary                   | 14\n",
      "date_closing                             | 11233\n",
      "date_maintenance_action                  | 0\n",
      "deferral_reason_code                     | 24\n",
      "due_date                                 | 27220\n",
      "eic                                      | 10\n",
      "equipment_nomenclature                   | 1\n",
      "eswbs_opening                            | 0\n",
      "iuc_screening_code                       | 20663\n",
      "jcn                                      | 0\n",
      "location                                 | 176\n",
      "mhc                                      | 0\n",
      "mho                                      | 0\n",
      "mhr                                      | 592\n",
      "priority_code                            | 25\n",
      "safety_code                              | 42702\n",
      "status_code                              | 1\n",
      "tycom_screening_code                     | 9026\n",
      "type_availability_code                   | 25\n",
      "type_of_maintenance_action               | 0\n",
      "when_discovered_code                     | 0\n",
      "work_center                              | 0\n",
      "total_ima_man_hours                      | 79\n",
      "total_ship_force_man_hours               | 79\n",
      "total_replacement_cost                   | 79\n",
      "total_repair_replacement_cost            | 79\n",
      "def_narrative                            | 13501\n",
      "nondef_narrative                         | 22501\n",
      "closing_narrative                        | 26364\n",
      "ima_narrative                            | 46059\n",
      "opening_ship_system                      | 0\n",
      "job_status                               | 0\n",
      "days_open                                | 0\n",
      "action_taken                             | 11830\n",
      "intermediate_unit_commander_screening    | 20663\n",
      "priority                                 | 25\n",
      "component_status                         | 1\n",
      "type_of_availability_needed              | 25\n",
      "tycom_screening                          | 9031\n",
      "when_discovered                          | 2637\n",
      "cause                                    | 0\n",
      "deferral_reason                          | 24\n",
      "feasible_with_ship_inventory             | 0\n",
      "feasible_with_additional_dla_inventory   | 0\n",
      "ship                                     | 0\n",
      "shipname                                 | 0\n"
     ]
    }
   ],
   "source": [
    "na_counts = data.isnull().sum()\n",
    "\n",
    "print(f\"{'Column Name':<40} | {'# of NAs'}\")\n",
    "print(\"-\" * 40 + \" | \" + \"-\" * 8)\n",
    "\n",
    "for col, count in na_counts.items():\n",
    "    print(f\"{col:<40} | {count}\")"
   ]
  },
  {
   "cell_type": "code",
   "execution_count": 5,
   "id": "813b3146",
   "metadata": {},
   "outputs": [],
   "source": [
    "#Action_taken and action_taken_code NA Handling\n",
    "\n",
    "mask = data['action_taken_code'].isna() & data['action_taken'].isna() #When both are NA (occurs 11233 times), the job is still Open\n",
    "data.loc[mask, 'action_taken_code'] = 'Open_job'\n",
    "data.loc[mask, 'action_taken'] = 'Open_job'\n",
    "\n",
    "#After replacing the 11223 NAs that are associated with open jobs with 'Open_job, there are 597 remaining NAs. \n",
    "#6I and 3B are the input for 474 of the 597 and they do not have a corresponding text column. \n",
    "#Create a new category 'Unknown' for these 597.\n",
    "data['action_taken'] = data['action_taken'].fillna('Unknown')"
   ]
  },
  {
   "cell_type": "code",
   "execution_count": 6,
   "id": "a4284184",
   "metadata": {},
   "outputs": [],
   "source": [
    "#apl NA Handling \n",
    "#86 NAs, replacing with mode\n",
    "data['apl'] = data['apl'].fillna('XSYSTEMITEM')"
   ]
  },
  {
   "cell_type": "code",
   "execution_count": 7,
   "id": "858f6478",
   "metadata": {},
   "outputs": [],
   "source": [
    "#cdm_rin NA Handling \n",
    "#948 NAs\n",
    "#Creating new placeholder value '-----' to replace NAs\n",
    "data['cdm_rin'] = data['cdm_rin'].fillna('-----')"
   ]
  },
  {
   "cell_type": "code",
   "execution_count": 8,
   "id": "c15493c2",
   "metadata": {},
   "outputs": [],
   "source": [
    "#csmp_narrative_summary NA Handling\n",
    "#14 NAs\n",
    "data['csmp_narrative_summary'] = data['csmp_narrative_summary'].fillna('Unknown')"
   ]
  },
  {
   "cell_type": "code",
   "execution_count": 9,
   "id": "3d38348a",
   "metadata": {},
   "outputs": [],
   "source": [
    "#date_closing NA Handling\n",
    "#11223 NAs, represent Open Jobs\n",
    "#errors = 'coerce' replaces Missing Values with NaT (Like NaN, but specifically for dates. Allows for date calculations)\n",
    "data['date_closing'] = data['date_closing'] = pd.to_datetime(data['date_closing'], errors = 'coerce')"
   ]
  },
  {
   "cell_type": "code",
   "execution_count": 10,
   "id": "b7e8bf09",
   "metadata": {},
   "outputs": [],
   "source": [
    "#deferral_reason and deferral_reason_code NA Handling\n",
    "#Both have 13 NAs\n",
    "#35% are code 2: 'Lack of material'\n",
    "#Replace NA with mode\n",
    "\n",
    "data['deferral_reason_code'] = data['deferral_reason_code'].fillna(2.0)\n",
    "data['deferral_reason'] = data['deferral_reason'].fillna('Lack of material')"
   ]
  },
  {
   "cell_type": "code",
   "execution_count": 11,
   "id": "ca34b03f",
   "metadata": {},
   "outputs": [],
   "source": [
    "#due_date NA Handling\n",
    "#27220 NAs \n",
    "data['due_date'] = pd.to_datetime(data['due_date'], errors = 'coerce')"
   ]
  },
  {
   "cell_type": "code",
   "execution_count": 12,
   "id": "844ed871",
   "metadata": {},
   "outputs": [],
   "source": [
    "#eic NA Handling \n",
    "#10 NAs. Replacing with mode, seen 57% of the time\n",
    "data['eic'] = data['eic'].fillna('T200000')"
   ]
  },
  {
   "cell_type": "code",
   "execution_count": 13,
   "id": "f14db489",
   "metadata": {},
   "outputs": [],
   "source": [
    "#equipment_nomenclature NA Handling\n",
    "#1 NA. Filling with mode, seen ~ 50% of the time\n",
    "data['equipment_nomenclature'] = data['equipment_nomenclature'].fillna('VENT NONMCH PRP')"
   ]
  },
  {
   "cell_type": "code",
   "execution_count": 14,
   "id": "bd8f1b0e",
   "metadata": {},
   "outputs": [],
   "source": [
    "#iuc_screening_code and intermediate_unit_commander_screening NA Handling\n",
    "\n",
    "data['iuc_screening_code'] = data['iuc_screening_code'].fillna(0)\n",
    "data['intermediate_unit_commander_screening'] = data['intermediate_unit_commander_screening'].fillna('Unknown')"
   ]
  },
  {
   "cell_type": "code",
   "execution_count": 15,
   "id": "1888e069",
   "metadata": {},
   "outputs": [],
   "source": [
    "#Location NA Handling \n",
    "#176 NAs\n",
    "#Trying to maintain format of location records\n",
    "data['location'] = data['location'].fillna('?-?-?-?')"
   ]
  },
  {
   "cell_type": "code",
   "execution_count": 16,
   "id": "738e9435",
   "metadata": {},
   "outputs": [],
   "source": [
    "#mhr NA Handling\n",
    "#592 NAs. Most records (>80%) have 0\n",
    "data['mhr'] = data['mhr'].fillna(0)"
   ]
  },
  {
   "cell_type": "code",
   "execution_count": 17,
   "id": "002f2096",
   "metadata": {},
   "outputs": [],
   "source": [
    "#priority_code NA Handling\n",
    "#25 NAs. ~ 98% have code 4, replacing with mode\n",
    "data['priority_code'] = data['priority_code'].fillna(4)"
   ]
  },
  {
   "cell_type": "code",
   "execution_count": 18,
   "id": "db9eccc2",
   "metadata": {},
   "outputs": [],
   "source": [
    "#safety_code NA Handling\n",
    "#42702 NAs\n",
    "#Convert to binary variable. NA represents No safety hazard (0) and non-NA are treated as safety hazard (1)\n",
    "data['safety_code'] = data['safety_code'].notna().astype(int)"
   ]
  },
  {
   "cell_type": "code",
   "execution_count": 19,
   "id": "e6e8f800",
   "metadata": {},
   "outputs": [],
   "source": [
    "#status_code NA Handling\n",
    "#1 NA, replace with mode\n",
    "data['status_code'] = data['status_code'].fillna(1)"
   ]
  },
  {
   "cell_type": "code",
   "execution_count": 20,
   "id": "41f7d032",
   "metadata": {},
   "outputs": [],
   "source": [
    "#tycom_screening_code (9026 NA) and tycom_screening (9031) NA handling\n",
    "#Create new category 0\n",
    "data['tycom_screening_code'] = data['tycom_screening_code'].fillna(0)\n",
    "\n",
    "data['tycom_screening'] = data['tycom_screening'].fillna('Unknown')\n"
   ]
  },
  {
   "cell_type": "code",
   "execution_count": 21,
   "id": "5b98e3d2",
   "metadata": {},
   "outputs": [],
   "source": [
    "#type_availability_code NA Handling\n",
    "#25 NAs. Replaced with mode\n",
    "data['type_availability_code'] = data['type_availability_code'].fillna(4)"
   ]
  },
  {
   "cell_type": "code",
   "execution_count": 22,
   "id": "20528dbc",
   "metadata": {},
   "outputs": [],
   "source": [
    "#total_ima_man_hours, total_ship_force_man_hours, total_replacement_cost, total_repair_replacement_cost NA Handling\n",
    "#All have 79 NAs. Replace with median\n",
    "data['total_ima_man_hours'] = data['total_ima_man_hours'].fillna(data['total_ima_man_hours'].median())\n",
    "data['total_ship_force_man_hours'] = data['total_ship_force_man_hours'].fillna(data['total_ship_force_man_hours'].median())\n",
    "data['total_replacement_cost'] = data['total_replacement_cost'].fillna(data['total_replacement_cost'].median())\n",
    "data['total_repair_replacement_cost'] = data['total_repair_replacement_cost'].fillna(data['total_repair_replacement_cost'].median())\n",
    "\n"
   ]
  },
  {
   "cell_type": "code",
   "execution_count": 23,
   "id": "db6c9fd7",
   "metadata": {},
   "outputs": [],
   "source": [
    "#Narrative Column NA Handling\n",
    "#Replacing NAs with 'Unknown', free form text columnns\n",
    "#def_narrative 13501 NA\n",
    "#nondef_narrative 22501 NA\n",
    "#closing_narrative 26364 NA\n",
    "#ima_narrative 46059 NA\n",
    "data['def_narrative'] = data['def_narrative'].fillna('Unknown')\n",
    "data['nondef_narrative'] = data['nondef_narrative'].fillna('Unknown')\n",
    "data['closing_narrative'] = data['closing_narrative'].fillna('Unknown')\n",
    "data['ima_narrative'] = data['ima_narrative'].fillna('Unknown')"
   ]
  },
  {
   "cell_type": "code",
   "execution_count": 24,
   "id": "a3531dbf",
   "metadata": {},
   "outputs": [],
   "source": [
    "#priority NA Handling \n",
    "# Note to self - priority_code is also in the dataset \n",
    "#25 NAs here too. Replace with mode\n",
    "data['priority'] = data['priority'].fillna('Desirable')"
   ]
  },
  {
   "cell_type": "code",
   "execution_count": 25,
   "id": "c738abbd",
   "metadata": {},
   "outputs": [],
   "source": [
    "#component status NA Handling \n",
    "#1 NA. Replace with mode\n",
    "data['component_status'] = data['component_status'].fillna('Operational')"
   ]
  },
  {
   "cell_type": "code",
   "execution_count": 26,
   "id": "45aef0a2",
   "metadata": {},
   "outputs": [],
   "source": [
    "#type_of_availability_needed NA Handling\n",
    "#25 NAs\n",
    "#Replace with mode\n",
    "data['type_of_availability_needed'] = data['type_of_availability_needed'].fillna(\"Ship's force\")"
   ]
  },
  {
   "cell_type": "code",
   "execution_count": 27,
   "id": "2416efa8",
   "metadata": {},
   "outputs": [],
   "source": [
    "#when_discovered NA Handling \n",
    "#2637 NAs \n",
    "#Replace with no failure, pms accomplishment only.\n",
    "#  Every single NA for when_discovered has 9 as the value for when_discovered_code. 9: no failure, pms accomplishment only\n",
    "data['when_discovered'] = data['when_discovered'].fillna('no failure, pms accomplishment only')"
   ]
  },
  {
   "cell_type": "code",
   "execution_count": null,
   "id": "6c73faf8",
   "metadata": {},
   "outputs": [],
   "source": [
    "#Now all NAs handled except \n",
    "#date_closing and due_date: treated as NaT\n",
    "\n",
    "#Next,\n",
    "#Ensure correct data types\n",
    "#Account for irregular inputs ex: negative days_open value\n",
    "#Outlier vs. misinput, normalizating, etc. for numeric columns\n"
   ]
  },
  {
   "cell_type": "markdown",
   "id": "ad069c0b",
   "metadata": {},
   "source": [
    "# Converting Data Types"
   ]
  },
  {
   "cell_type": "code",
   "execution_count": null,
   "id": "ed2727aa",
   "metadata": {},
   "outputs": [],
   "source": [
    "#Strings\n",
    "strings = ['job_seq','apl','cdm_rin','csmp_narrative_summary','eic','equipment_nomenclature','jcn','location','work_center','def_narrative',\n",
    "           'nondef_narrative','closing_narrative','ima_narrative','opening_ship_system','action_taken','intermediate_unit_commander_screening',\n",
    "           'priority','component_status','type_of_availability_needed','tycom_screening','when_discovered','cause','deferral_reason',\n",
    "           'ship','shipname']\n",
    "for col in strings:\n",
    "    data[col] = data[col].astype('string')\n",
    "\n",
    "\n",
    "#Categories\n",
    "categories = ['uic','action_taken_code','cause_code','deferral_reason_code','eswbs_opening','iuc_screening_code','priority_code',\n",
    "              'safety_code','status_code','tycom_screening_code','type_availability_code','type_of_maintenance_action','when_discovered_code', 'job_status']\n",
    "for column in categories:\n",
    "    data[column] = data[column].astype('category')\n",
    "\n",
    "#Datetime\n",
    "data['date_maintenance_action'] = pd.to_datetime(data['date_maintenance_action'], errors = 'coerce')"
   ]
  },
  {
   "cell_type": "markdown",
   "id": "f4ae9dd6",
   "metadata": {},
   "source": [
    "# Data Types Before and After Modifications\n",
    "\n",
    "<pre>\n",
    "\n",
    "Column Name                                  Original Data Type            Data Type After Modification\n",
    "\n",
    "uic                                          object                        Category                                     \n",
    "job_seq                                      int64                         String                                       \n",
    "action_taken_code                            object                        Category                                     \n",
    "apl                                          object                        String                                \n",
    "cause_code                                   int64                         Category                                  \n",
    "cdm_rin                                      object                        String                                \n",
    "csmp_narrative_summary                       object                        String                                  \n",
    "date_closing                                 datetime64[ns]                Good                                \n",
    "date_maintenance_action                      object                        datetime                                    \n",
    "deferral_reason_code                         float64                       Category                                \n",
    "due_date                                     datetime64[ns]                Good                               \n",
    "eic                                          object                        String                                     \n",
    "equipment_nomenclature                       object                        String                                  \n",
    "eswbs_opening                                object                        Category                                  \n",
    "iuc_screening_code                           object                        Category                                \n",
    "jcn                                          object                        String                                  \n",
    "location                                     object                        String                                 \n",
    "mhc                                          int64                         Stayed                                       \n",
    "mho                                          int64                         Good                                    \n",
    "mhr                                          float64                       Good                                  \n",
    "priority_code                                float64                       Category                                       \n",
    "safety_code                                  int32                         Category                                \n",
    "status_code                                  float64                       Category                                  \n",
    "tycom_screening_code                         object                        Category                                \n",
    "type_availability_code                       float64                       Category                                \n",
    "type_of_maintenance_action                   object                        Category                                    \n",
    "when_discovered_code                         int64                         Category                                \n",
    "work_center                                  object                        String                                     \n",
    "total_ima_man_hours                          float64                       Good                                    \n",
    "total_ship_force_man_hours                   float64                       Good                                    \n",
    "total_replacement_cost                       float64                       Good                                    \n",
    "total_repair_replacement_cost                float64                       Good                                    \n",
    "def_narrative                                object                        String                                    \n",
    "nondef_narrative                             object                        String                                  \n",
    "closing_narrative                            object                        String                                  \n",
    "ima_narrative                                object                        String                                  \n",
    "opening_ship_system                          object                        String                                \n",
    "job_status                                   object                        Category                                  \n",
    "days_open                                    int64                         Good                                \n",
    "action_taken                                 object                        String                                    \n",
    "intermediate_unit_commander_screening        object                        String                                  \n",
    "priority                                     object                        String                                     \n",
    "component_status                             object                        String                                  \n",
    "type_of_availability_needed                  object                        String                                  \n",
    "tycom_screening                              object                        String                                  \n",
    "when_discovered                              object                        String                                  \n",
    "cause                                        object                        String                                  \n",
    "deferral_reason                              object                        String                                  \n",
    "feasible_with_ship_inventory                 bool                          Good                                 \n",
    "feasible_with_additional_dla_inventory       bool                          Good                                    \n",
    "ship                                         object                        String                                    \n",
    "shipname                                     object                        String\n",
    "\n",
    "\n",
    "</pre>"
   ]
  },
  {
   "cell_type": "code",
   "execution_count": null,
   "id": "cf42e7a3",
   "metadata": {},
   "outputs": [],
   "source": [
    "#Next, looking at irregularities in data \n",
    "#First, numeric columns \n",
    "\n",
    "#Specifically create new days_open\n",
    "#look at ship_force_man_hours, ima_man_hours, mho, mhc, mhr. \n",
    "\n",
    "#total_replacement_cost, total_repair_replacement_cost\n",
    "\n",
    "#goal: Look at outliers. See how often they occur, determine how likely it is that they are true outliers vs. misinputs"
   ]
  }
 ],
 "metadata": {
  "kernelspec": {
   "display_name": "base",
   "language": "python",
   "name": "python3"
  },
  "language_info": {
   "codemirror_mode": {
    "name": "ipython",
    "version": 3
   },
   "file_extension": ".py",
   "mimetype": "text/x-python",
   "name": "python",
   "nbconvert_exporter": "python",
   "pygments_lexer": "ipython3",
   "version": "3.12.7"
  }
 },
 "nbformat": 4,
 "nbformat_minor": 5
}
