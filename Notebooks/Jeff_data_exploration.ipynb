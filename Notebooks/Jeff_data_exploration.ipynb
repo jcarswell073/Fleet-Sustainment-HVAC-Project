{
 "cells": [
  {
   "cell_type": "code",
   "execution_count": 1,
   "id": "cdf47f90",
   "metadata": {},
   "outputs": [
    {
     "name": "stderr",
     "output_type": "stream",
     "text": [
      "C:\\Users\\carswje\\AppData\\Local\\Temp\\ipykernel_25328\\2244591527.py:2: DtypeWarning: Columns (3,4,20) have mixed types. Specify dtype option on import or set low_memory=False.\n",
      "  jobs = pd.read_csv(\"C:\\\\Users\\\\carswje\\\\OneDrive - HII\\\\Documents\\\\GitHub\\\\Fleet-Sustainment-HVAC-Project\\\\RawData\\\\cvn-hvac-jobs-data.csv\")\n"
     ]
    }
   ],
   "source": [
    "import pandas as pd \n",
    "jobs = pd.read_csv(\"C:\\\\Users\\\\carswje\\\\OneDrive - HII\\\\Documents\\\\GitHub\\\\Fleet-Sustainment-HVAC-Project\\\\RawData\\\\cvn-hvac-jobs-data.csv\")\n",
    "supply = pd.read_csv(\"C:\\\\Users\\\\carswje\\\\OneDrive - HII\\\\Documents\\\\GitHub\\\\Fleet-Sustainment-HVAC-Project\\\\RawData\\\\cvn-hvac-supply-data.csv\")"
   ]
  },
  {
   "cell_type": "code",
   "execution_count": 3,
   "id": "6d2b0649",
   "metadata": {},
   "outputs": [
    {
     "data": {
      "application/vnd.microsoft.datawrangler.viewer.v0+json": {
       "columns": [
        {
         "name": "index",
         "rawType": "int64",
         "type": "integer"
        },
        {
         "name": "length",
         "rawType": "int64",
         "type": "integer"
        },
        {
         "name": "count",
         "rawType": "int64",
         "type": "integer"
        }
       ],
       "ref": "c6e34732-12d8-49cb-b32d-e04da6a74922",
       "rows": [
        [
         "0",
         "9",
         "30663"
        ],
        [
         "1",
         "11",
         "7803"
        ],
        [
         "2",
         "8",
         "4950"
        ],
        [
         "3",
         "10",
         "3227"
        ],
        [
         "4",
         "5",
         "368"
        ],
        [
         "5",
         "4",
         "251"
        ],
        [
         "6",
         "7",
         "2"
        ]
       ],
       "shape": {
        "columns": 2,
        "rows": 7
       }
      },
      "text/html": [
       "<div>\n",
       "<style scoped>\n",
       "    .dataframe tbody tr th:only-of-type {\n",
       "        vertical-align: middle;\n",
       "    }\n",
       "\n",
       "    .dataframe tbody tr th {\n",
       "        vertical-align: top;\n",
       "    }\n",
       "\n",
       "    .dataframe thead th {\n",
       "        text-align: right;\n",
       "    }\n",
       "</style>\n",
       "<table border=\"1\" class=\"dataframe\">\n",
       "  <thead>\n",
       "    <tr style=\"text-align: right;\">\n",
       "      <th></th>\n",
       "      <th>length</th>\n",
       "      <th>count</th>\n",
       "    </tr>\n",
       "  </thead>\n",
       "  <tbody>\n",
       "    <tr>\n",
       "      <th>0</th>\n",
       "      <td>9</td>\n",
       "      <td>30663</td>\n",
       "    </tr>\n",
       "    <tr>\n",
       "      <th>1</th>\n",
       "      <td>11</td>\n",
       "      <td>7803</td>\n",
       "    </tr>\n",
       "    <tr>\n",
       "      <th>2</th>\n",
       "      <td>8</td>\n",
       "      <td>4950</td>\n",
       "    </tr>\n",
       "    <tr>\n",
       "      <th>3</th>\n",
       "      <td>10</td>\n",
       "      <td>3227</td>\n",
       "    </tr>\n",
       "    <tr>\n",
       "      <th>4</th>\n",
       "      <td>5</td>\n",
       "      <td>368</td>\n",
       "    </tr>\n",
       "    <tr>\n",
       "      <th>5</th>\n",
       "      <td>4</td>\n",
       "      <td>251</td>\n",
       "    </tr>\n",
       "    <tr>\n",
       "      <th>6</th>\n",
       "      <td>7</td>\n",
       "      <td>2</td>\n",
       "    </tr>\n",
       "  </tbody>\n",
       "</table>\n",
       "</div>"
      ],
      "text/plain": [
       "   length  count\n",
       "0       9  30663\n",
       "1      11   7803\n",
       "2       8   4950\n",
       "3      10   3227\n",
       "4       5    368\n",
       "5       4    251\n",
       "6       7      2"
      ]
     },
     "execution_count": 3,
     "metadata": {},
     "output_type": "execute_result"
    }
   ],
   "source": [
    "### Proprotions of frequencies table\n",
    "jobs['apl'].value_counts(normalize = 'True').round(2) #Proportions using normalize \n",
    "\n",
    "\n",
    "\n",
    "apl_lengths = [len(s) for s in jobs['apl'].astype('string').dropna()]  #Table displays how often an apl has 8 characters, 9 characters, etc. \n",
    "df = pd.DataFrame({'length':apl_lengths}) \n",
    "table = df['length'].value_counts().reset_index()\n",
    "table "
   ]
  },
  {
   "cell_type": "code",
   "execution_count": null,
   "id": "951a40c3",
   "metadata": {},
   "outputs": [],
   "source": [
    "#looking at components of location\n",
    "sub = jobs[jobs['location'].str.count('-') == 3]\n",
    "components = sub['location'].str.split(\"-\", expand = True)\n",
    "components = components.rename(columns = {0: 'Level', 1: 'Front to Back', 2: 'Distance from Center', 3: 'Purpose'})\n",
    "\n",
    "\n",
    "# components['Level'].value_counts(normalize=True).round(2)\n",
    "# components['Front to Back'].value_counts(normalize=True).round(2)\n",
    "# components['Distance from Center'].value_counts(normalize=True).round(2)\n",
    "# # components['Purpose'].value_counts(normalize=True).round(2)"
   ]
  },
  {
   "cell_type": "markdown",
   "id": "f935a8b1",
   "metadata": {},
   "source": [
    "Supply Data Exploration"
   ]
  },
  {
   "cell_type": "code",
   "execution_count": 4,
   "id": "d3c6dfd8",
   "metadata": {},
   "outputs": [],
   "source": [
    "supply['issue_date'] = pd.to_datetime(supply['issue_date'])   #Creating days_waiting variable that shows long the staff had to wait before receiving a part after requesting it. \n",
    "supply['demand_date'] = pd.to_datetime(supply['demand_date'])\n",
    "supply['days_waiting'] = supply['issue_date'] - supply['demand_date']\n",
    "supply['days_waiting'] = supply['days_waiting'].astype('string')\n",
    "supply['days_waiting'] = supply['days_waiting'].str.split('d', n=1).str[0]\n",
    "supply['days_waiting'] = supply['days_waiting'].dropna().astype('int64')"
   ]
  },
  {
   "cell_type": "code",
   "execution_count": null,
   "id": "fc8d21e8",
   "metadata": {},
   "outputs": [
    {
     "data": {
      "application/vnd.microsoft.datawrangler.viewer.v0+json": {
       "columns": [
        {
         "name": "index",
         "rawType": "object",
         "type": "string"
        },
        {
         "name": "days_waiting",
         "rawType": "float64",
         "type": "float"
        }
       ],
       "ref": "fb2f3e2f-33e9-4dcf-97da-7767411a1f01",
       "rows": [
        [
         "count",
         "34623.0"
        ],
        [
         "mean",
         "40.65"
        ],
        [
         "std",
         "77.76"
        ],
        [
         "min",
         "0.0"
        ],
        [
         "25%",
         "4.0"
        ],
        [
         "50%",
         "11.0"
        ],
        [
         "75%",
         "42.0"
        ],
        [
         "max",
         "1168.0"
        ]
       ],
       "shape": {
        "columns": 1,
        "rows": 8
       }
      },
      "text/plain": [
       "count    34623.00\n",
       "mean        40.65\n",
       "std         77.76\n",
       "min          0.00\n",
       "25%          4.00\n",
       "50%         11.00\n",
       "75%         42.00\n",
       "max       1168.00\n",
       "Name: days_waiting, dtype: float64"
      ]
     },
     "execution_count": 7,
     "metadata": {},
     "output_type": "execute_result"
    }
   ],
   "source": [
    "#Comparing the amount of days waited for different types of parts\n",
    "\n",
    "supply['days_waiting'] = supply['days_waiting'].abs()  #Convert to absolute value. Assuming that negative values are due to dates being recorded in reverse. \n",
    "\n",
    "import matplotlib.pyplot as plt\n",
    "supply['days_waiting'].describe().round(2) #mean 40 vs median 11\n",
    "\n",
    "fig, axs = plt.subplots(1, 3, figsize=(15, 5))\n",
    "\n",
    "supply[supply['niin_nomenclature'] == 'FILTER ELEMENT,AIR'].boxplot(column ='days_waiting', ax=axs[0])  #11.5k records\n",
    "axs[0].set_title('Filter Element, Air')\n",
    "\n",
    "supply[supply['niin_nomenclature'] == 'O-RING'].boxplot(column ='days_waiting', ax=axs[1]) #1.2k records\n",
    "axs[1].set_title('O-Ring')\n",
    "\n",
    "supply[supply['niin_nomenclature'] == 'BELT,V'].boxplot(column ='days_waiting', ax=axs[2]) #900 records\n",
    "axs[2].set_title('Belt, V')\n",
    "\n",
    "plt.tight_layout()\n",
    "plt.show()\n"
   ]
  },
  {
   "cell_type": "code",
   "execution_count": null,
   "id": "58aefc5d",
   "metadata": {},
   "outputs": [],
   "source": [
    "#Goal: \n",
    "#Compare days waiting for different niin_nonenclatures to see if there is any meaningful differences.\n",
    "\n",
    "#First, need days_waiting column to have major outliers filtered out, no negative values. \n",
    "\n",
    "#Now, want to compare plots for these 3 most common niin_nomenclatures"
   ]
  }
 ],
 "metadata": {
  "kernelspec": {
   "display_name": "base",
   "language": "python",
   "name": "python3"
  },
  "language_info": {
   "codemirror_mode": {
    "name": "ipython",
    "version": 3
   },
   "file_extension": ".py",
   "mimetype": "text/x-python",
   "name": "python",
   "nbconvert_exporter": "python",
   "pygments_lexer": "ipython3",
   "version": "3.12.7"
  }
 },
 "nbformat": 4,
 "nbformat_minor": 5
}
