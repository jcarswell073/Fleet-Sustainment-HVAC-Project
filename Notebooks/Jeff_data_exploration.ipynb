{
 "cells": [
  {
   "cell_type": "code",
   "execution_count": 6,
   "id": "cdf47f90",
   "metadata": {},
   "outputs": [
    {
     "name": "stderr",
     "output_type": "stream",
     "text": [
      "C:\\Users\\carswje\\AppData\\Local\\Temp\\ipykernel_24276\\2689457956.py:2: DtypeWarning: Columns (3,4,20) have mixed types. Specify dtype option on import or set low_memory=False.\n",
      "  jobs = pd.read_csv(\"C:\\\\Users\\\\carswje\\\\OneDrive - HII\\\\Documents\\\\GitHub\\\\Fleet-Sustainment-HVAC-Project\\\\RawData\\\\cvn-hvac-jobs-data.csv\")\n"
     ]
    },
    {
     "data": {
      "text/plain": [
       "0        2-200-01-Q\n",
       "1         2-180-0-L\n",
       "2          2-84-0-Q\n",
       "3        03-148-2-Q\n",
       "4         2-165-0-Q\n",
       "            ...    \n",
       "47345    03-171-2-Q\n",
       "47346    NOT APPLIC\n",
       "47347     4-113-0-C\n",
       "47348     3-111-0-L\n",
       "47349    01-156-5-Q\n",
       "Name: location, Length: 47350, dtype: object"
      ]
     },
     "execution_count": 6,
     "metadata": {},
     "output_type": "execute_result"
    }
   ],
   "source": [
    "import pandas as pd \n",
    "jobs = pd.read_csv(\"C:\\\\Users\\\\carswje\\\\OneDrive - HII\\\\Documents\\\\GitHub\\\\Fleet-Sustainment-HVAC-Project\\\\RawData\\\\cvn-hvac-jobs-data.csv\")\n",
    "supply = pd.read_csv(\"C:\\\\Users\\\\carswje\\\\OneDrive - HII\\\\Documents\\\\GitHub\\\\Fleet-Sustainment-HVAC-Project\\\\RawData\\\\cvn-hvac-supply-data.csv\")"
   ]
  },
  {
   "cell_type": "code",
   "execution_count": 3,
   "id": "6d2b0649",
   "metadata": {},
   "outputs": [
    {
     "data": {
      "application/vnd.microsoft.datawrangler.viewer.v0+json": {
       "columns": [
        {
         "name": "index",
         "rawType": "int64",
         "type": "integer"
        },
        {
         "name": "length",
         "rawType": "int64",
         "type": "integer"
        },
        {
         "name": "count",
         "rawType": "int64",
         "type": "integer"
        }
       ],
       "ref": "c6e34732-12d8-49cb-b32d-e04da6a74922",
       "rows": [
        [
         "0",
         "9",
         "30663"
        ],
        [
         "1",
         "11",
         "7803"
        ],
        [
         "2",
         "8",
         "4950"
        ],
        [
         "3",
         "10",
         "3227"
        ],
        [
         "4",
         "5",
         "368"
        ],
        [
         "5",
         "4",
         "251"
        ],
        [
         "6",
         "7",
         "2"
        ]
       ],
       "shape": {
        "columns": 2,
        "rows": 7
       }
      },
      "text/html": [
       "<div>\n",
       "<style scoped>\n",
       "    .dataframe tbody tr th:only-of-type {\n",
       "        vertical-align: middle;\n",
       "    }\n",
       "\n",
       "    .dataframe tbody tr th {\n",
       "        vertical-align: top;\n",
       "    }\n",
       "\n",
       "    .dataframe thead th {\n",
       "        text-align: right;\n",
       "    }\n",
       "</style>\n",
       "<table border=\"1\" class=\"dataframe\">\n",
       "  <thead>\n",
       "    <tr style=\"text-align: right;\">\n",
       "      <th></th>\n",
       "      <th>length</th>\n",
       "      <th>count</th>\n",
       "    </tr>\n",
       "  </thead>\n",
       "  <tbody>\n",
       "    <tr>\n",
       "      <th>0</th>\n",
       "      <td>9</td>\n",
       "      <td>30663</td>\n",
       "    </tr>\n",
       "    <tr>\n",
       "      <th>1</th>\n",
       "      <td>11</td>\n",
       "      <td>7803</td>\n",
       "    </tr>\n",
       "    <tr>\n",
       "      <th>2</th>\n",
       "      <td>8</td>\n",
       "      <td>4950</td>\n",
       "    </tr>\n",
       "    <tr>\n",
       "      <th>3</th>\n",
       "      <td>10</td>\n",
       "      <td>3227</td>\n",
       "    </tr>\n",
       "    <tr>\n",
       "      <th>4</th>\n",
       "      <td>5</td>\n",
       "      <td>368</td>\n",
       "    </tr>\n",
       "    <tr>\n",
       "      <th>5</th>\n",
       "      <td>4</td>\n",
       "      <td>251</td>\n",
       "    </tr>\n",
       "    <tr>\n",
       "      <th>6</th>\n",
       "      <td>7</td>\n",
       "      <td>2</td>\n",
       "    </tr>\n",
       "  </tbody>\n",
       "</table>\n",
       "</div>"
      ],
      "text/plain": [
       "   length  count\n",
       "0       9  30663\n",
       "1      11   7803\n",
       "2       8   4950\n",
       "3      10   3227\n",
       "4       5    368\n",
       "5       4    251\n",
       "6       7      2"
      ]
     },
     "execution_count": 3,
     "metadata": {},
     "output_type": "execute_result"
    }
   ],
   "source": [
    "### Proprotions of frequencies table\n",
    "jobs['apl'].value_counts(normalize = 'True').round(2) #Proportions using normalize \n",
    "\n",
    "\n",
    "\n",
    "apl_lengths = [len(s) for s in jobs['apl'].astype('string').dropna()]  #Table displays how often an apl has 8 characters, 9 characters, etc. \n",
    "df = pd.DataFrame({'length':apl_lengths}) \n",
    "table = df['length'].value_counts().reset_index()\n",
    "table "
   ]
  },
  {
   "cell_type": "code",
   "execution_count": null,
   "id": "951a40c3",
   "metadata": {},
   "outputs": [],
   "source": [
    "#looking at components of location\n",
    "sub = jobs[jobs['location'].str.count('-') == 3]\n",
    "components = sub['location'].str.split(\"-\", expand = True)\n",
    "components = components.rename(columns = {0: 'Level', 1: 'Front to Back', 2: 'Distance from Center', 3: 'Purpose'})\n",
    "\n",
    "\n",
    "# components['Level'].value_counts(normalize=True).round(2)\n",
    "# components['Front to Back'].value_counts(normalize=True).round(2)\n",
    "# components['Distance from Center'].value_counts(normalize=True).round(2)\n",
    "# # components['Purpose'].value_counts(normalize=True).round(2)"
   ]
  }
 ],
 "metadata": {
  "kernelspec": {
   "display_name": "base",
   "language": "python",
   "name": "python3"
  },
  "language_info": {
   "codemirror_mode": {
    "name": "ipython",
    "version": 3
   },
   "file_extension": ".py",
   "mimetype": "text/x-python",
   "name": "python",
   "nbconvert_exporter": "python",
   "pygments_lexer": "ipython3",
   "version": "3.12.7"
  }
 },
 "nbformat": 4,
 "nbformat_minor": 5
}
