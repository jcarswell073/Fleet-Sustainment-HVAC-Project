{
 "cells": [
  {
   "cell_type": "code",
   "execution_count": 7,
   "id": "0d0294b5",
   "metadata": {},
   "outputs": [],
   "source": [
    "import pandas as pd\n",
    "import numpy as np\n",
    "jobs = pd.read_csv(r'Notebooks/jeff-jobs-cleaned-2025.csv')"
   ]
  },
  {
   "cell_type": "markdown",
   "id": "b6acba7a",
   "metadata": {},
   "source": [
    "# Relationship Between Hours Worked and Days Elapsed\n",
    "<pre>\n",
    "There is no linear relationship. \n",
    "\n",
    "This tells that days_elapsed has little to do with the difficulty of the job.\n",
    "Could focus efforts into delays that cause a job to go unfinished.\n",
    "\n",
    "Are these jobs being forgotten about, waiting on supplies, simply deemed unimportant? There are many possibities, but I find this lack of a relationship notable. \n",
    "<pre>"
   ]
  },
  {
   "cell_type": "code",
   "execution_count": null,
   "id": "3ed65cf0",
   "metadata": {},
   "outputs": [],
   "source": [
    "filtered_jobs = jobs[(jobs['days_elapsed_outlier'] != True) & (jobs['hours_worked_flag'] != True) & (jobs['days_elapsed'].notna())] #23311 records \n",
    "filtered_jobs['days_elapsed'].corr(filtered_jobs['total_hours_worked']) #-0.0565"
   ]
  },
  {
   "cell_type": "markdown",
   "id": "2ca05992",
   "metadata": {},
   "source": [
    "# Hours Worked By Equipment Nomenclature"
   ]
  },
  {
   "cell_type": "code",
   "execution_count": 24,
   "id": "ff3bd679",
   "metadata": {},
   "outputs": [
    {
     "data": {
      "application/vnd.microsoft.datawrangler.viewer.v0+json": {
       "columns": [
        {
         "name": "index",
         "rawType": "int64",
         "type": "integer"
        },
        {
         "name": "equipment_nomenclature",
         "rawType": "object",
         "type": "string"
        },
        {
         "name": "frequency",
         "rawType": "int64",
         "type": "integer"
        },
        {
         "name": "median_hours_worked",
         "rawType": "float64",
         "type": "float"
        }
       ],
       "ref": "fca49d23-538a-41ac-867c-10c518760733",
       "rows": [
        [
         "1388",
         "VENT NONMCH PRP",
         "12881",
         "4.0"
        ],
        [
         "1401",
         "VENTILATION SYST",
         "735",
         "5.0"
        ],
        [
         "1001",
         "IC CKT 1MC LOUDS",
         "431",
         "8.0"
        ],
        [
         "364",
         "AIR CONDITIONING",
         "420",
         "10.0"
        ],
        [
         "1283",
         "SVCE STM POTW HT",
         "327",
         "7.0"
        ],
        [
         "1226",
         "NON-MACHINERY SP",
         "300",
         "3.0"
        ],
        [
         "1357",
         "VENT MACH SPCS F",
         "274",
         "8.0"
        ],
        [
         "1399",
         "VENTILATION ACCE",
         "257",
         "4.0"
        ],
        [
         "392",
         "ANNOUNCING SYSTE",
         "240",
         "5.0"
        ],
        [
         "1014",
         "IC CKT 1MC/3MC C",
         "188",
         "11.0"
        ],
        [
         "1190",
         "IM-239/WDQ FC3 R",
         "120",
         "10.5"
        ],
        [
         "950",
         "HEATING SYS CONV",
         "106",
         "4.0"
        ],
        [
         "1108",
         "IC CKT 5MC LOUDS",
         "104",
         "11.0"
        ],
        [
         "1008",
         "IC CKT 1MC MICRO",
         "98",
         "7.0"
        ],
        [
         "1262",
         "SEE CDM FOR INFO",
         "95",
         "7.0"
        ],
        [
         "1362",
         "VENT MACH SPCS S",
         "95",
         "8.0"
        ],
        [
         "973",
         "IC CKT 11VS AFS",
         "89",
         "3.0"
        ],
        [
         "583",
         "CHW SYS DUCT TYP",
         "87",
         "4.0"
        ],
        [
         "14",
         "800 TON AC NO 2",
         "79",
         "11.0"
        ],
        [
         "17",
         "800 TON AC NO 5",
         "72",
         "12.0"
        ],
        [
         "1354",
         "VENT MACH SPCS C",
         "70",
         "6.0"
        ],
        [
         "536",
         "CHW SYS AC PLT N",
         "66",
         "9.0"
        ],
        [
         "1013",
         "IC CKT 1MC/3MC A",
         "64",
         "11.5"
        ],
        [
         "13",
         "800 TON AC NO 1",
         "64",
         "12.0"
        ],
        [
         "977",
         "IC CKT 17HF AIRF",
         "61",
         "8.0"
        ],
        [
         "15",
         "800 TON AC NO 3",
         "59",
         "10.0"
        ],
        [
         "19",
         "800 TON AC PLANT",
         "56",
         "17.0"
        ],
        [
         "719",
         "CHW SYS MONITORI",
         "54",
         "8.0"
        ],
        [
         "16",
         "800 TON AC NO 4",
         "53",
         "12.0"
        ],
        [
         "922",
         "FILTER",
         "50",
         "6.5"
        ],
        [
         "18",
         "800 TON AC NO 6",
         "49",
         "11.0"
        ],
        [
         "1040",
         "IC CKT 2MC AMPLI",
         "49",
         "12.0"
        ],
        [
         "1244",
         "PLENUM, VENTILAT",
         "45",
         "2.0"
        ],
        [
         "1253",
         "PURGE AND PUMPOU",
         "44",
         "10.0"
        ],
        [
         "1263",
         "SELF CONTAINED A",
         "41",
         "6.0"
        ],
        [
         "1415",
         "WR GALY1 GRDL1 V",
         "41",
         "8.0"
        ],
        [
         "1359",
         "VENT MACH SPCS I",
         "38",
         "4.0"
        ],
        [
         "85",
         "AC PLANT 2 SW CI",
         "37",
         "13.0"
        ],
        [
         "1191",
         "IM-239/WDQ RADIA",
         "37",
         "8.0"
        ],
        [
         "1018",
         "IC CKT 1SB DIST",
         "37",
         "13.0"
        ],
        [
         "129",
         "AC PLANT 4 SW CI",
         "36",
         "11.0"
        ],
        [
         "170",
         "AC PLANT 6 SW CI",
         "35",
         "11.0"
        ],
        [
         "105",
         "AC PLANT 3 SW CI",
         "34",
         "13.5"
        ],
        [
         "1172",
         "IC CKT VS MVCS 1",
         "34",
         "10.0"
        ],
        [
         "1163",
         "IC CKT QX BUS FA",
         "33",
         "12.0"
        ],
        [
         "1074",
         "IC CKT 3MC MICRO",
         "32",
         "10.0"
        ],
        [
         "187",
         "AC PLANT 7 SW CI",
         "32",
         "9.5"
        ],
        [
         "207",
         "AC PLANT 8 SW CI",
         "31",
         "11.0"
        ],
        [
         "1364",
         "VENT MACH SPCS U",
         "30",
         "11.5"
        ],
        [
         "149",
         "AC PLANT 5 SW CI",
         "29",
         "10.0"
        ]
       ],
       "shape": {
        "columns": 3,
        "rows": 1441
       }
      },
      "text/html": [
       "<div>\n",
       "<style scoped>\n",
       "    .dataframe tbody tr th:only-of-type {\n",
       "        vertical-align: middle;\n",
       "    }\n",
       "\n",
       "    .dataframe tbody tr th {\n",
       "        vertical-align: top;\n",
       "    }\n",
       "\n",
       "    .dataframe thead th {\n",
       "        text-align: right;\n",
       "    }\n",
       "</style>\n",
       "<table border=\"1\" class=\"dataframe\">\n",
       "  <thead>\n",
       "    <tr style=\"text-align: right;\">\n",
       "      <th></th>\n",
       "      <th>equipment_nomenclature</th>\n",
       "      <th>frequency</th>\n",
       "      <th>median_hours_worked</th>\n",
       "    </tr>\n",
       "  </thead>\n",
       "  <tbody>\n",
       "    <tr>\n",
       "      <th>1388</th>\n",
       "      <td>VENT NONMCH PRP</td>\n",
       "      <td>12881</td>\n",
       "      <td>4.0</td>\n",
       "    </tr>\n",
       "    <tr>\n",
       "      <th>1401</th>\n",
       "      <td>VENTILATION SYST</td>\n",
       "      <td>735</td>\n",
       "      <td>5.0</td>\n",
       "    </tr>\n",
       "    <tr>\n",
       "      <th>1001</th>\n",
       "      <td>IC CKT 1MC LOUDS</td>\n",
       "      <td>431</td>\n",
       "      <td>8.0</td>\n",
       "    </tr>\n",
       "    <tr>\n",
       "      <th>364</th>\n",
       "      <td>AIR CONDITIONING</td>\n",
       "      <td>420</td>\n",
       "      <td>10.0</td>\n",
       "    </tr>\n",
       "    <tr>\n",
       "      <th>1283</th>\n",
       "      <td>SVCE STM POTW HT</td>\n",
       "      <td>327</td>\n",
       "      <td>7.0</td>\n",
       "    </tr>\n",
       "    <tr>\n",
       "      <th>...</th>\n",
       "      <td>...</td>\n",
       "      <td>...</td>\n",
       "      <td>...</td>\n",
       "    </tr>\n",
       "    <tr>\n",
       "      <th>464</th>\n",
       "      <td>CHW SYS 4 CHILLE</td>\n",
       "      <td>1</td>\n",
       "      <td>22.0</td>\n",
       "    </tr>\n",
       "    <tr>\n",
       "      <th>951</th>\n",
       "      <td>HEATING SYS HEAT</td>\n",
       "      <td>1</td>\n",
       "      <td>2.0</td>\n",
       "    </tr>\n",
       "    <tr>\n",
       "      <th>463</th>\n",
       "      <td>CHW SYS 4 CC 1-2</td>\n",
       "      <td>1</td>\n",
       "      <td>6.0</td>\n",
       "    </tr>\n",
       "    <tr>\n",
       "      <th>461</th>\n",
       "      <td>CHW SYS 3 SPLY X</td>\n",
       "      <td>1</td>\n",
       "      <td>2.0</td>\n",
       "    </tr>\n",
       "    <tr>\n",
       "      <th>0</th>\n",
       "      <td>#5 AC MOTOR</td>\n",
       "      <td>1</td>\n",
       "      <td>2.0</td>\n",
       "    </tr>\n",
       "  </tbody>\n",
       "</table>\n",
       "<p>1441 rows × 3 columns</p>\n",
       "</div>"
      ],
      "text/plain": [
       "     equipment_nomenclature  frequency  median_hours_worked\n",
       "1388        VENT NONMCH PRP      12881                  4.0\n",
       "1401       VENTILATION SYST        735                  5.0\n",
       "1001       IC CKT 1MC LOUDS        431                  8.0\n",
       "364        AIR CONDITIONING        420                 10.0\n",
       "1283       SVCE STM POTW HT        327                  7.0\n",
       "...                     ...        ...                  ...\n",
       "464        CHW SYS 4 CHILLE          1                 22.0\n",
       "951        HEATING SYS HEAT          1                  2.0\n",
       "463        CHW SYS 4 CC 1-2          1                  6.0\n",
       "461        CHW SYS 3 SPLY X          1                  2.0\n",
       "0               #5 AC MOTOR          1                  2.0\n",
       "\n",
       "[1441 rows x 3 columns]"
      ]
     },
     "execution_count": 24,
     "metadata": {},
     "output_type": "execute_result"
    }
   ],
   "source": [
    "freq = filtered_jobs['equipment_nomenclature'].value_counts()\n",
    "medians = filtered_jobs.groupby('equipment_nomenclature')['total_hours_worked'].median()\n",
    "\n",
    "result = pd.DataFrame({\n",
    "    'frequency': freq,\n",
    "    'median_hours_worked': medians\n",
    "\n",
    "}).reset_index().sort_values(by='frequency', ascending=False)\n",
    "result"
   ]
  }
 ],
 "metadata": {
  "kernelspec": {
   "display_name": "base",
   "language": "python",
   "name": "python3"
  },
  "language_info": {
   "codemirror_mode": {
    "name": "ipython",
    "version": 3
   },
   "file_extension": ".py",
   "mimetype": "text/x-python",
   "name": "python",
   "nbconvert_exporter": "python",
   "pygments_lexer": "ipython3",
   "version": "3.12.7"
  }
 },
 "nbformat": 4,
 "nbformat_minor": 5
}
