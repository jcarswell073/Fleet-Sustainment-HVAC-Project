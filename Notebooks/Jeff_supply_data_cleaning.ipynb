{
 "cells": [
  {
   "cell_type": "code",
   "execution_count": null,
   "id": "37b95022",
   "metadata": {},
   "outputs": [],
   "source": [
    "import pandas as pd\n",
    "\n",
    "data = pd.read_csv(r'RawData/cvn-hvac-supply-data.csv') #35194 x 23. 14330 unique job_seq"
   ]
  },
  {
   "cell_type": "markdown",
   "id": "a51eab14",
   "metadata": {},
   "source": [
    "# Variables Already Present in Jobs Dataset\n",
    "<pre>\n",
    "job_seq: Will be used for joining purposes\n",
    "jcn\n",
    "uic\n",
    "work_center\n",
    "date_maintenance_action\n",
    "date_closing\n",
    "issue_apl\n",
    "issue_eic\n",
    "\n",
    "<pre>"
   ]
  },
  {
   "cell_type": "markdown",
   "id": "b70c4d17",
   "metadata": {},
   "source": [
    "# Variables Not Present in Jobs Dataset\n",
    "<pre>\n",
    "demand_date\n",
    "issue_date\n",
    "cwt_hours\n",
    "niin\n",
    "niin_nomenclature\n",
    "unit_of_issue\n",
    "supply_pri\n",
    "source_code\n",
    "quantity\n",
    "unit_price\n",
    "total_price\n",
    "<pre>"
   ]
  },
  {
   "cell_type": "markdown",
   "id": "3b698f1d",
   "metadata": {},
   "source": [
    "# Removing Unnecessary Columns"
   ]
  },
  {
   "cell_type": "code",
   "execution_count": null,
   "id": "f55bd36a",
   "metadata": {},
   "outputs": [],
   "source": [
    "#Dimension is now 35194 x 20\n",
    "data = data.drop(['document_number', 'request_num', 'requisition_number'], axis=1) "
   ]
  },
  {
   "cell_type": "markdown",
   "id": "289abb3b",
   "metadata": {},
   "source": [
    "# NA Handling"
   ]
  },
  {
   "cell_type": "code",
   "execution_count": 3,
   "id": "9ecd7829",
   "metadata": {},
   "outputs": [
    {
     "name": "stdout",
     "output_type": "stream",
     "text": [
      "Column Name                              | # of NAs\n",
      "---------------------------------------- | --------\n",
      "jcn                                      | 0\n",
      "uic                                      | 0\n",
      "work_center                              | 0\n",
      "jsn                                      | 0\n",
      "date_maintenance_action                  | 0\n",
      "date_closing                             | 849\n",
      "document_number                          | 2646\n",
      "request_num                              | 2646\n",
      "requisition_number                       | 24708\n",
      "demand_date                              | 571\n",
      "issue_date                               | 0\n",
      "cwt_hours                                | 571\n",
      "issue_apl                                | 0\n",
      "issue_eic                                | 2\n",
      "niin                                     | 631\n",
      "niin_nomenclature                        | 612\n",
      "unit_of_issue                            | 0\n",
      "supply_pri                               | 27\n",
      "source_code                              | 2330\n",
      "quantity                                 | 0\n",
      "unit_price                               | 0\n",
      "total_price                              | 0\n",
      "job_seq                                  | 0\n"
     ]
    }
   ],
   "source": [
    "na_counts = data.isnull().sum()\n",
    "\n",
    "print(f\"{'Column Name':<40} | {'# of NAs'}\")\n",
    "print(\"-\" * 40 + \" | \" + \"-\" * 8)\n",
    "\n",
    "for col, count in na_counts.items():\n",
    "    print(f\"{col:<40} | {count}\")"
   ]
  },
  {
   "cell_type": "code",
   "execution_count": null,
   "id": "f65fecd6",
   "metadata": {},
   "outputs": [],
   "source": [
    "#date_closing NA Handling \n",
    "\n",
    "#849 NAs\n",
    "#NA Represents a job that is still open when the data was collected\n",
    "\n",
    "data['date_closing'] = data['date_closing'] = pd.to_datetime(data['date_closing'], errors = 'coerce') #maintains NAs as NaT\n"
   ]
  },
  {
   "cell_type": "code",
   "execution_count": null,
   "id": "5a156e30",
   "metadata": {},
   "outputs": [],
   "source": [
    "#demand_date NA Handling\n",
    "\n",
    "#Of the 14330 unique job_seq, there are only 265 NA demand date. when considering the 35194 rows, there are 571 NAs\n",
    "\n",
    "data['demand_date'] = pd.to_datetime(data['demand_date'], errors = 'coerce') #maintains NAs as NaT"
   ]
  },
  {
   "cell_type": "code",
   "execution_count": null,
   "id": "77ac51f7",
   "metadata": {},
   "outputs": [],
   "source": [
    "#issue_eic NA Handling \n",
    "\n",
    "#2 NAs. Replace with mode\n",
    "data['issue_eic'] = data['issue_eic'].fillna('T200000')"
   ]
  },
  {
   "cell_type": "code",
   "execution_count": 10,
   "id": "8466e512",
   "metadata": {},
   "outputs": [],
   "source": [
    "#supply_pri NA Handling \n",
    "\n",
    "#27 NAs. Replace with mode\n",
    "\n",
    "data['supply_pri'] = data['supply_pri'].fillna(4.0) #data type will be converted later"
   ]
  },
  {
   "cell_type": "code",
   "execution_count": 12,
   "id": "ca2404bb",
   "metadata": {},
   "outputs": [],
   "source": [
    "#source_code NA Handling \n",
    "\n",
    "#2330 NAs. Create new category'X' that will refer to NAs\n",
    "data['source_code'] = data['source_code'].fillna('X')"
   ]
  },
  {
   "cell_type": "code",
   "execution_count": null,
   "id": "cb5a4c13",
   "metadata": {},
   "outputs": [],
   "source": [
    "#niin and niin_nomenclature NA Handling\n",
    "\n",
    "#631 NAs in niin, 612 NAs in niin_nomenclature\n",
    "\n"
   ]
  },
  {
   "cell_type": "markdown",
   "id": "8d30a5e8",
   "metadata": {},
   "source": [
    "# Converting Data Types"
   ]
  },
  {
   "cell_type": "code",
   "execution_count": 13,
   "id": "89fb5cf0",
   "metadata": {},
   "outputs": [],
   "source": [
    "data['issue_date'] = pd.to_datetime(data['issue_date']) "
   ]
  },
  {
   "cell_type": "markdown",
   "id": "e4230d40",
   "metadata": {},
   "source": [
    "# Data Types Before and After Modifications"
   ]
  },
  {
   "cell_type": "markdown",
   "id": "4739faf9",
   "metadata": {},
   "source": [
    "# Supply Wait Time (Issue Vs. Demand Date) Modifications"
   ]
  },
  {
   "cell_type": "code",
   "execution_count": null,
   "id": "4e01d99f",
   "metadata": {},
   "outputs": [],
   "source": [
    "#Create a flag variable indicating that issue date comes before demand date\n",
    "\n",
    "#(data['cwt_hours'] < 0).mean() #6.3% of cwt_hours are negative. This is likely due to a data entry error.\n",
    "\n",
    "data['issue_before_demand'] = (data['issue_date'] < data['demand_date']) #will still have access to this info. Can subset to exclude these rows later if needed"
   ]
  },
  {
   "cell_type": "code",
   "execution_count": null,
   "id": "00058296",
   "metadata": {},
   "outputs": [],
   "source": [
    "#Create supply_days_waiting: Variable that calculates the number of days between issue date and demand date.\n",
    "\n",
    "data['supply_days_waiting'] = abs(data['issue_date'] - data['demand_date']) #absolute value assumes the entries were entered in the wrong order\n",
    "data['supply_days_waiting'] = data['supply_days_waiting'].dt.days #convert to days\n"
   ]
  },
  {
   "cell_type": "code",
   "execution_count": null,
   "id": "f3b74b8b",
   "metadata": {},
   "outputs": [],
   "source": [
    "#Handling Outliers for supply_days_waiting\n",
    "\n",
    "#Create flag variable signaling a Supply Days Waiting Outlier\n",
    "\n",
    "days_waiting_q1 = data['supply_days_waiting'].quantile(0.25)\n",
    "days_waiting_q3 = data['supply_days_waiting'].quantile(0.75)\n",
    "days_waiting_IQR = days_waiting_q3 - days_waiting_q1\n",
    "\n",
    "data['supply_days_waiting_outlier'] = ((data['supply_days_waiting'] > days_waiting_q3 + 1.5 * days_waiting_IQR)) #Flag variable telling whether supply_days_waiting is an outlier\n",
    "#days_waiting_outliers = data[(data['supply_days_waiting'] < days_waiting_q1 - 1.5 * days_waiting_IQR) | (data['supply_days_waiting'] > days_waiting_q3 + 1.5 * days_waiting_IQR)] \n",
    "#3.7k outliers "
   ]
  },
  {
   "cell_type": "markdown",
   "id": "566ab623",
   "metadata": {},
   "source": [
    "# Notes on Dates For Unique Job Sequences"
   ]
  },
  {
   "cell_type": "markdown",
   "id": "ca04ce20",
   "metadata": {},
   "source": [
    "<pre>\n",
    "Are days waiting the same for all parts associated with a job_seq or differ?\n",
    "\n",
    "issue_date and demand_date can differ. There could be up to 20 unique issue_date and demand_date for a given job_seq\n",
    "\n",
    "date_maintenance_action and date_closing never differ for job_seq\n",
    "<pre>"
   ]
  },
  {
   "cell_type": "code",
   "execution_count": null,
   "id": "c01caef5",
   "metadata": {},
   "outputs": [],
   "source": [
    "# \"\"\"\n",
    "# Cell generated by Data Wrangler. #Shows distinct counts of dates for each job_seq\n",
    "# \"\"\"\n",
    "# def clean_data(data):\n",
    "#     # Performed 4 aggregations grouped on column: 'job_seq'\n",
    "#     data = data.groupby(['job_seq']).agg(date_maintenance_action_nunique=('date_maintenance_action', 'nunique'), date_closing_nunique=('date_closing', 'nunique'), issue_date_nunique=('issue_date', 'nunique'), demand_date_nunique=('demand_date', 'nunique')).reset_index()\n",
    "#     return data\n",
    "\n",
    "# data_clean = clean_data(data.copy())\n",
    "# data_clean.head()"
   ]
  },
  {
   "cell_type": "markdown",
   "id": "da183d68",
   "metadata": {},
   "source": [
    "# Next Steps"
   ]
  },
  {
   "cell_type": "markdown",
   "id": "8f04858d",
   "metadata": {},
   "source": [
    "<pre>\n",
    "niin and niin_nomenclature NA Handling\n",
    "Convert Data Types\n",
    "Make table showing previous and current data types for all columns\n",
    "Save cleaned pkl file\n",
    "\n",
    "Make sure there are no more NAs, outliers have been detected/handled, data types have been apropriately set, \n",
    "useless columns have been removed, supply_days_waiting is accurate, consider how unique job_seq's behave beyond looking at dates as done above\n",
    "\n",
    "After cleaning, can move to supply EDA. \n",
    "Then, merge. Ideally, want each record to uniquely identify a maintenance action.\n",
    "Many rows will not have supply data as there are 47k jobs records and 14k supply records\n",
    "\n",
    "\n",
    "<pre>"
   ]
  }
 ],
 "metadata": {
  "kernelspec": {
   "display_name": "base",
   "language": "python",
   "name": "python3"
  },
  "language_info": {
   "codemirror_mode": {
    "name": "ipython",
    "version": 3
   },
   "file_extension": ".py",
   "mimetype": "text/x-python",
   "name": "python",
   "nbconvert_exporter": "python",
   "pygments_lexer": "ipython3",
   "version": "3.12.7"
  }
 },
 "nbformat": 4,
 "nbformat_minor": 5
}
