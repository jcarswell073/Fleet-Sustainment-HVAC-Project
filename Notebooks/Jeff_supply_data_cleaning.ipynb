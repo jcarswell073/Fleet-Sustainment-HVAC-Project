{
 "cells": [
  {
   "cell_type": "code",
   "execution_count": 1,
   "id": "37b95022",
   "metadata": {},
   "outputs": [],
   "source": [
    "import pandas as pd\n",
    "\n",
    "supply = pd.read_csv(r'RawData/cvn-hvac-supply-data.csv')"
   ]
  },
  {
   "cell_type": "markdown",
   "id": "a51eab14",
   "metadata": {},
   "source": [
    "# Variables Already Present in Jobs Dataset\n",
    "<pre>\n",
    "job_seq: Will be used for joining purposes\n",
    "jcn\n",
    "uic\n",
    "work_center\n",
    "date_maintenance_action\n",
    "date_closing\n",
    "issue_apl\n",
    "issue_aic\n",
    "\n",
    "<pre>"
   ]
  },
  {
   "cell_type": "markdown",
   "id": "b70c4d17",
   "metadata": {},
   "source": [
    "# Variables Not Present in Jobs Dataset\n",
    "<pre>\n",
    "demand_date\n",
    "issue_date\n",
    "cwt_hours\n",
    "niin\n",
    "niin_nomenclature\n",
    "unit_of_issue\n",
    "supply_pri\n",
    "source_code\n",
    "quantity\n",
    "unit_price\n",
    "total_price\n",
    "<pre>"
   ]
  }
 ],
 "metadata": {
  "kernelspec": {
   "display_name": "base",
   "language": "python",
   "name": "python3"
  },
  "language_info": {
   "codemirror_mode": {
    "name": "ipython",
    "version": 3
   },
   "file_extension": ".py",
   "mimetype": "text/x-python",
   "name": "python",
   "nbconvert_exporter": "python",
   "pygments_lexer": "ipython3",
   "version": "3.12.7"
  }
 },
 "nbformat": 4,
 "nbformat_minor": 5
}
