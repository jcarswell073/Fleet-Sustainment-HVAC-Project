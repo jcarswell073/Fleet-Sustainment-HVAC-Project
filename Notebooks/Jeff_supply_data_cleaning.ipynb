{
 "cells": [
  {
   "cell_type": "code",
   "execution_count": 20,
   "id": "37b95022",
   "metadata": {},
   "outputs": [],
   "source": [
    "import pandas as pd\n",
    "\n",
    "data = pd.read_csv(r'RawData/cvn-hvac-supply-data.csv') #35194 x 23. 14330 unique job_seq"
   ]
  },
  {
   "cell_type": "markdown",
   "id": "a51eab14",
   "metadata": {},
   "source": [
    "# Variables Already Present in Jobs Dataset\n",
    "<pre>\n",
    "job_seq: Will be used for joining purposes\n",
    "jcn\n",
    "uic\n",
    "work_center\n",
    "date_maintenance_action\n",
    "date_closing\n",
    "issue_apl\n",
    "issue_eic\n",
    "<pre>"
   ]
  },
  {
   "cell_type": "markdown",
   "id": "b70c4d17",
   "metadata": {},
   "source": [
    "# Variables Not Present in Jobs Dataset\n",
    "<pre>\n",
    "demand_date\n",
    "issue_date\n",
    "cwt_hours\n",
    "niin\n",
    "niin_nomenclature\n",
    "unit_of_issue\n",
    "supply_pri\n",
    "source_code\n",
    "quantity\n",
    "unit_price\n",
    "total_price\n",
    "<pre>"
   ]
  },
  {
   "cell_type": "markdown",
   "id": "3b698f1d",
   "metadata": {},
   "source": [
    "# Removing Unnecessary Columns"
   ]
  },
  {
   "cell_type": "code",
   "execution_count": 21,
   "id": "f55bd36a",
   "metadata": {},
   "outputs": [],
   "source": [
    "#Dimension is now 35194 x 18\n",
    "data = data.drop(['document_number', 'request_num', 'requisition_number', 'cwt_hours', 'total_price'], axis=1) "
   ]
  },
  {
   "cell_type": "markdown",
   "id": "289abb3b",
   "metadata": {},
   "source": [
    "# NA Handling"
   ]
  },
  {
   "cell_type": "code",
   "execution_count": 22,
   "id": "9ecd7829",
   "metadata": {},
   "outputs": [
    {
     "name": "stdout",
     "output_type": "stream",
     "text": [
      "Column Name                              | # of NAs\n",
      "---------------------------------------- | --------\n",
      "jcn                                      | 0\n",
      "uic                                      | 0\n",
      "work_center                              | 0\n",
      "jsn                                      | 0\n",
      "date_maintenance_action                  | 0\n",
      "date_closing                             | 849\n",
      "demand_date                              | 571\n",
      "issue_date                               | 0\n",
      "issue_apl                                | 0\n",
      "issue_eic                                | 2\n",
      "niin                                     | 631\n",
      "niin_nomenclature                        | 612\n",
      "unit_of_issue                            | 0\n",
      "supply_pri                               | 27\n",
      "source_code                              | 2330\n",
      "quantity                                 | 0\n",
      "unit_price                               | 0\n",
      "job_seq                                  | 0\n"
     ]
    }
   ],
   "source": [
    "na_counts = data.isnull().sum()\n",
    "\n",
    "print(f\"{'Column Name':<40} | {'# of NAs'}\")\n",
    "print(\"-\" * 40 + \" | \" + \"-\" * 8)\n",
    "\n",
    "for col, count in na_counts.items():\n",
    "    print(f\"{col:<40} | {count}\")"
   ]
  },
  {
   "cell_type": "code",
   "execution_count": 23,
   "id": "9ea366ff",
   "metadata": {},
   "outputs": [],
   "source": [
    "#niin and niin_nomenclature NA Handling.  Handling these NAs first as there is no sense in imputing values for rows that will be deleted anyway\n",
    "\n",
    "#631 NAs in niin, 612 NAs in niin_nomenclature\n",
    "\n",
    "#Looking at these 631 records, the data appears to be unreliable \n",
    "#~50% have outlier suddy_days_waiting, another 33% have missing supply days waiting \n",
    "#~70% are missing a source_code \n",
    "#~70% have issue before demand date\n",
    "\n",
    "#Because these 631 records appear to be mostly noise/ incorrectly entered, I decided to remove them altogether\n",
    "\n",
    "data = data[data['niin'].notna()] #remove rows with NA for niin\n",
    "\n",
    "#1 NA remains for niin_nomenclature. Remove row\n",
    "data = data[data['niin_nomenclature'].notna()]"
   ]
  },
  {
   "cell_type": "code",
   "execution_count": 24,
   "id": "f65fecd6",
   "metadata": {},
   "outputs": [],
   "source": [
    "#date_closing NA Handling \n",
    "\n",
    "#849 NAs\n",
    "#NA Represents a job that is still open when the data was collected\n",
    "\n",
    "data['date_closing'] = data['date_closing'] = pd.to_datetime(data['date_closing'], errors = 'coerce') #maintains NAs as NaT\n"
   ]
  },
  {
   "cell_type": "code",
   "execution_count": 25,
   "id": "5a156e30",
   "metadata": {},
   "outputs": [],
   "source": [
    "#demand_date NA Handling\n",
    "\n",
    "#Of the 14330 unique job_seq, there are only 265 NA demand date. when considering the 35194 rows, there are 571 NAs\n",
    "\n",
    "data['demand_date'] = pd.to_datetime(data['demand_date'], errors = 'coerce') #maintains NAs as NaT"
   ]
  },
  {
   "cell_type": "code",
   "execution_count": 26,
   "id": "77ac51f7",
   "metadata": {},
   "outputs": [],
   "source": [
    "#issue_eic NA Handling \n",
    "\n",
    "#2 NAs. Replace with mode\n",
    "data['issue_eic'] = data['issue_eic'].fillna('T200000')"
   ]
  },
  {
   "cell_type": "code",
   "execution_count": 27,
   "id": "8466e512",
   "metadata": {},
   "outputs": [],
   "source": [
    "#supply_pri NA Handling \n",
    "\n",
    "#27 NAs. Replace with mode\n",
    "\n",
    "data['supply_pri'] = data['supply_pri'].fillna(4.0) #data type will be converted later"
   ]
  },
  {
   "cell_type": "code",
   "execution_count": 28,
   "id": "ca2404bb",
   "metadata": {},
   "outputs": [],
   "source": [
    "#source_code NA Handling \n",
    "#Refers to item availability at the time of ordering\n",
    "#2330 NAs. Create new category'X' that will refer to NAs\n",
    "data['source_code'] = data['source_code'].fillna('X')"
   ]
  },
  {
   "cell_type": "markdown",
   "id": "8d30a5e8",
   "metadata": {},
   "source": [
    "# Converting Data Types"
   ]
  },
  {
   "cell_type": "code",
   "execution_count": 29,
   "id": "89fb5cf0",
   "metadata": {},
   "outputs": [],
   "source": [
    "#Strings\n",
    "strings = ['jcn','uic','work_center','jsn', 'issue_apl','issue_eic','niin','niin_nomenclature','job_seq']\n",
    "for col in strings:\n",
    "    data[col] = data[col].astype('string')\n",
    "\n",
    "\n",
    "#Categories\n",
    "categories = ['unit_of_issue','supply_pri','source_code']\n",
    "for column in categories:\n",
    "    data[column] = data[column].astype('category')\n",
    "\n",
    "#Datetime\n",
    "data['date_maintenance_action'] = pd.to_datetime(data['date_maintenance_action'], errors = 'coerce')\n",
    "data['date_closing'] = pd.to_datetime(data['date_closing'], errors = 'coerce')\n",
    "data['demand_date'] = pd.to_datetime(data['demand_date'], errors = 'coerce')\n",
    "data['issue_date'] = pd.to_datetime(data['issue_date'], errors = 'coerce')\n"
   ]
  },
  {
   "cell_type": "markdown",
   "id": "8ba94ce5",
   "metadata": {},
   "source": [
    "# Data Types Before and After Modifications\n",
    "<pre>\n",
    "Column Name                                  Original Data Type           Data Type After Modification\n",
    "\n",
    "jcn                                          object                       String                                    \n",
    "uic                                          int64                        String                                       \n",
    "work_center                                  object                       String                                    \n",
    "jsn                                          object                       String                                \n",
    "date_maintenance_action                      object                       datetime64[ns]                                  \n",
    "date_closing                                 object                       datetime64[ns]                               \n",
    "demand_date                                  object                       datetime64[ns]                               \n",
    "issue_date                                   object                       datetime64[ns]                        \n",
    "issue_apl                                    object                       String                                    \n",
    "issue_eic                                    object                       String                                \n",
    "niin                                         float64                      String                             \n",
    "niin_nomenclature                            object                       String                                     \n",
    "unit_of_issue                                object                       Category                                 \n",
    "supply_pri                                   float64                      Category                                  \n",
    "source_code                                  object                       Category                                \n",
    "quantity                                     int64                        Good                                  \n",
    "unit_price                                   float64                      Good                                 \n",
    "total_price                                  float64                      Good                                       \n",
    "job_seq                                      int64                        String                                    \n",
    "\n",
    "\n",
    "------------------------------------------------------------------------------------------\n",
    "Added Variables:\n",
    "\n",
    "issue_before_demand                         None                          bool                                 \n",
    "supply_days_waiting                         None                          int64  \n",
    "tot_price                                   None                          float64                                 \n",
    "supply_days_waiting_outlier                 None                          bool\n",
    "quantity_outlier                            None                          bool\n",
    "unit_price_outlier                          None                          bool\n",
    "<pre>"
   ]
  },
  {
   "cell_type": "markdown",
   "id": "4739faf9",
   "metadata": {},
   "source": [
    "# Supply Wait Time (Issue Vs. Demand Date) Variable Creation"
   ]
  },
  {
   "cell_type": "code",
   "execution_count": 30,
   "id": "4e01d99f",
   "metadata": {},
   "outputs": [],
   "source": [
    "#Create a flag variable indicating that issue date comes before demand date\n",
    "\n",
    "#(data['cwt_hours'] < 0).mean() #6.3% of cwt_hours are negative. This is likely due to a data entry error.\n",
    "\n",
    "data['issue_before_demand'] = (data['issue_date'] < data['demand_date']) #will still have access to this info. Can subset to exclude these rows later if needed"
   ]
  },
  {
   "cell_type": "code",
   "execution_count": 31,
   "id": "00058296",
   "metadata": {},
   "outputs": [],
   "source": [
    "#Create supply_days_waiting: Variable that calculates the number of days between issue date and demand date.\n",
    "\n",
    "data['supply_days_waiting'] = abs(data['issue_date'] - data['demand_date']) #absolute value assumes the entries were entered in the wrong order\n",
    "data['supply_days_waiting'] = data['supply_days_waiting'].dt.days #convert to days\n"
   ]
  },
  {
   "cell_type": "markdown",
   "id": "d1d1a857",
   "metadata": {},
   "source": [
    "# Calculating tot_price Manually"
   ]
  },
  {
   "cell_type": "code",
   "execution_count": 32,
   "id": "bf6dd5af",
   "metadata": {},
   "outputs": [],
   "source": [
    "data['tot_price'] = data['quantity'] * data['unit_price']"
   ]
  },
  {
   "cell_type": "markdown",
   "id": "96ef308d",
   "metadata": {},
   "source": [
    "# Outlier Detection and Handling "
   ]
  },
  {
   "cell_type": "code",
   "execution_count": 33,
   "id": "88059e13",
   "metadata": {},
   "outputs": [],
   "source": [
    "#Handling Outliers for supply_days_waiting\n",
    "\n",
    "#Create flag variable signaling a Supply Days Waiting Outlier\n",
    "\n",
    "days_waiting_q1 = data['supply_days_waiting'].quantile(0.25)\n",
    "days_waiting_q3 = data['supply_days_waiting'].quantile(0.75)\n",
    "days_waiting_IQR = days_waiting_q3 - days_waiting_q1\n",
    "\n",
    "data['supply_days_waiting_outlier'] = ((data['supply_days_waiting'] > days_waiting_q3 + 1.5 * days_waiting_IQR)) #Flag variable telling whether supply_days_waiting is an outlier\n",
    "#days_waiting_outliers = data[(data['supply_days_waiting'] < days_waiting_q1 - 1.5 * days_waiting_IQR) | (data['supply_days_waiting'] > days_waiting_q3 + 1.5 * days_waiting_IQR)] \n",
    "#3.6k outliers "
   ]
  },
  {
   "cell_type": "code",
   "execution_count": 34,
   "id": "ebfeb4cb",
   "metadata": {},
   "outputs": [],
   "source": [
    "#Handling Outliers for quantity\n",
    "\n",
    "data['quantity_outlier'] = ((data['quantity'] > 8)) #Flag variable telling whether quantity is an outlier or not for that record\n",
    "\n",
    "#key: do not want outlier type values to dominate counts\n",
    "\n",
    "#not using IQR here because of the distribution of this column"
   ]
  },
  {
   "cell_type": "code",
   "execution_count": 35,
   "id": "bd31aef9",
   "metadata": {},
   "outputs": [],
   "source": [
    "#Handling Outliers for unit_price\n",
    "\n",
    "#Create flag variable signaling a unit_price Outlier\n",
    "\n",
    "unit_price_q1 = data['unit_price'].quantile(0.25)\n",
    "unit_price_q3 = data['unit_price'].quantile(0.75)\n",
    "unit_price_IQR = unit_price_q3 - unit_price_q1\n",
    "\n",
    "data['unit_price_outlier'] = ((data['unit_price'] > unit_price_q3 + 1.5 * unit_price_IQR)) #Flag variable telling whether unit_price is an outlier\n",
    "#unit_price_outliers = data[(data['unit_price'] < unit_price_q1 - 1.5 * unit_price_IQR) | (data['unit_price'] > unit_price_q3 + 1.5 * unit_price_IQR)] \n",
    "#5.5k outliers \n",
    "\n",
    " \n"
   ]
  },
  {
   "cell_type": "markdown",
   "id": "566ab623",
   "metadata": {},
   "source": [
    "# Notes on Dates For Unique Job Sequences"
   ]
  },
  {
   "cell_type": "markdown",
   "id": "ca04ce20",
   "metadata": {},
   "source": [
    "<pre>\n",
    "Are days waiting the same for all parts associated with a job_seq or differ?\n",
    "\n",
    "issue_date and demand_date can differ. There could be up to 20 unique issue_date and demand_date for a given job_seq\n",
    "\n",
    "date_maintenance_action and date_closing never differ for job_seq\n",
    "<pre>"
   ]
  },
  {
   "cell_type": "code",
   "execution_count": 36,
   "id": "c01caef5",
   "metadata": {},
   "outputs": [],
   "source": [
    "# \"\"\"\n",
    "# Cell generated by Data Wrangler. #Shows distinct counts of dates for each job_seq\n",
    "# \"\"\"\n",
    "# def clean_data(data):\n",
    "#     # Performed 4 aggregations grouped on column: 'job_seq'\n",
    "#     data = data.groupby(['job_seq']).agg(date_maintenance_action_nunique=('date_maintenance_action', 'nunique'), date_closing_nunique=('date_closing', 'nunique'), issue_date_nunique=('issue_date', 'nunique'), demand_date_nunique=('demand_date', 'nunique')).reset_index()\n",
    "#     return data\n",
    "\n",
    "# data_clean = clean_data(data.copy())\n",
    "# data_clean.head()"
   ]
  },
  {
   "cell_type": "markdown",
   "id": "048609a7",
   "metadata": {},
   "source": [
    "<pre>\n",
    "Consider: Job orders could be made for more than 1 job \n",
    "For example, an order with 10+ parts likely is not to satisfy only one job.\n",
    "<pre>"
   ]
  },
  {
   "cell_type": "markdown",
   "id": "8f3f40c2",
   "metadata": {},
   "source": [
    "# Simple Date Validity Check"
   ]
  },
  {
   "cell_type": "code",
   "execution_count": 37,
   "id": "b5cb360d",
   "metadata": {},
   "outputs": [],
   "source": [
    "#Are these dates reliable? \n",
    "#Reliable: date_maintenace_action <= demand_date <= issue_date <= date_closing\n",
    "\n",
    "data['valid_dates'] = ((data['date_maintenance_action'] <= data['demand_date']) & (data['demand_date'] <= data['issue_date'])\n",
    "                         & (data['issue_date'] <= data['date_closing']))"
   ]
  },
  {
   "cell_type": "markdown",
   "id": "577d74a6",
   "metadata": {},
   "source": [
    "# Writing The Cleaned Dataset"
   ]
  },
  {
   "cell_type": "code",
   "execution_count": 38,
   "id": "c4621f78",
   "metadata": {},
   "outputs": [],
   "source": [
    "data.to_pickle('Notebooks/jeff-supply-cleaned-2025.pkl') #34562 x 24 (removed 632 rows containing NA niin_nomenclature, niin values)"
   ]
  }
 ],
 "metadata": {
  "kernelspec": {
   "display_name": "base",
   "language": "python",
   "name": "python3"
  },
  "language_info": {
   "codemirror_mode": {
    "name": "ipython",
    "version": 3
   },
   "file_extension": ".py",
   "mimetype": "text/x-python",
   "name": "python",
   "nbconvert_exporter": "python",
   "pygments_lexer": "ipython3",
   "version": "3.12.7"
  }
 },
 "nbformat": 4,
 "nbformat_minor": 5
}
