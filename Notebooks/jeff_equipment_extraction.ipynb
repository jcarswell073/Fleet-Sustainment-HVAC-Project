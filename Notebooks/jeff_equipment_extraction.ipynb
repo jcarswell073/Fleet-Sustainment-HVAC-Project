{
 "cells": [
  {
   "cell_type": "code",
   "execution_count": 4,
   "id": "8f5d99fb",
   "metadata": {},
   "outputs": [],
   "source": [
    "import pandas as pd\n",
    "jobs = pd.read_pickle(r'Notebooks/jeff-jobs-cleaned-2025.pkl')\n",
    "supply = pd.read_pickle(r'Notebooks/jeff-supply-cleaned-2025.pkl')\n",
    "stages = pd.read_pickle(r'Notebooks/work_breakdown.pkl')"
   ]
  },
  {
   "cell_type": "markdown",
   "id": "b732e50b",
   "metadata": {},
   "source": [
    "# Goal: Identify The Part And The Problem"
   ]
  },
  {
   "cell_type": "code",
   "execution_count": 5,
   "id": "124dfea5",
   "metadata": {},
   "outputs": [
    {
     "data": {
      "application/vnd.microsoft.datawrangler.viewer.v0+json": {
       "columns": [
        {
         "name": "index",
         "rawType": "int64",
         "type": "integer"
        },
        {
         "name": "job_seq",
         "rawType": "string",
         "type": "string"
        },
        {
         "name": "csmp_narrative_summary",
         "rawType": "string",
         "type": "string"
        },
        {
         "name": "equipment_nomenclature",
         "rawType": "string",
         "type": "string"
        },
        {
         "name": "def_narrative",
         "rawType": "string",
         "type": "string"
        }
       ],
       "ref": "ecbcef34-ed22-461e-964f-659262520043",
       "rows": [
        [
         "0",
         "36493414",
         "PARTS MISSING",
         "HOOD VENT  NA-24",
         "Unknown"
        ],
        [
         "1",
         "36493441",
         "PARTS MISSING",
         "CONTROL DE-SMOKE",
         "Unknown"
        ],
        [
         "2",
         "36496418",
         "PARTS MISSING",
         "CONTROL DE-SMOKE",
         "Unknown"
        ],
        [
         "3",
         "36305764",
         "PARTS BROKEN",
         "PUMP UNIT DETERG",
         "Unknown"
        ],
        [
         "4",
         "36962865",
         "DAMPER WILL NOT RESET",
         "SWITCH CONT UNIT",
         "Unknown"
        ],
        [
         "5",
         "37446500",
         "REPLACE TONGUE",
         "CR GALY2 PORT GR",
         "Unknown"
        ],
        [
         "6",
         "37261331",
         "PARTS MISSING",
         "FIRE SWITCH",
         "Unknown"
        ],
        [
         "7",
         "36526232",
         "NO POWER",
         "CR GALY2 FIRE DA",
         "Unknown"
        ],
        [
         "8",
         "37261332",
         "PARTS BROKEN",
         "FIRE SWITCH",
         "Unknown"
        ],
        [
         "9",
         "36958151",
         "PARTS WORN",
         "CONTROL UNIT NGP",
         "Unknown"
        ],
        [
         "10",
         "41073159",
         "VENTILATION DIFFUSERS MISSING",
         "VENT NONMCH PRP",
         "VENTILATION DIFFUSERS MISSING IN COMPARTMENT 2-235-0-L ABOVE RACKS 6 AND 99. OWC WILL ORDER REPLACEMENT DIFFUSERS AND INSTALL UPON RECIEPT."
        ],
        [
         "11",
         "41073164",
         "FCU FILTERS REQ FOR MAINT",
         "VENT NONMCH PRP",
         "FCU 03-206-1 IN 03-205-0-L PASSAGEWAY REQUIRES NEW FILTERS FOR UPCOMING PMS. OWC TO ORDER AND REPLACE FILTERS UPON RECEIPT. NIIN: 105040647"
        ],
        [
         "12",
         "41096244",
         "FILTERS DEGRADED",
         "FILTER",
         "(PMS) FILTERS DEGRADED DURING NORMAL OPERATION. N22: OWC WILL ORDER AND ACQUIRE NEW FILTERS TO REPLACE."
        ],
        [
         "13",
         "41053642",
         "S-1-124-1 SIEZED",
         "VENTILATION SYST",
         "WHILE RESPONDING TO A TROUBLECALL IT WAS DISCOVERED THAT S-1-124-1 WAS SEIZED. OWC TILL TAGOUT AND RETURN MOTOR TO NORMAL REDINESS CONDITION."
        ],
        [
         "14",
         "41042833",
         "TEMP VENTILATION REQUIRED",
         "VENT NONMCH PRP",
         "REQUESTING TEMPORARY VENTILATION IN CVDS LAN ROOM (03-128-4-Q). IN SUPPORT OF KEEPING  VITAL EQUIPMENT COOL FOR DAILY SHIPBOARD OPERATIONS DURING SHIPBOARD VENTILATION OUTAGE. REQUESTING TEMPORARY VENTILATION AND EXHAUST TUBES BE PLACED AND FITTED FOR 03-128-4-Q."
        ],
        [
         "15",
         "41042834",
         "TEMP VENTILATION REQUIRED",
         "VENT NONMCH PRP",
         "REQUESTING TEMPORARY VENTILATION IN DBS(DATA BASE SYSTEMS) 03-119-1-Q. IN SUPPORT OF KEEPING  VITAL EQUIPMENT COOL FOR DAILY SHIPBOARD OPERATIONS DURING SHIPBOARD VENTILATION OUTAGE. REQUESTING TEMPORARY VENTILATION AND EXHAUST TUBES BE PLACED AND FITTED FOR 03-119-1-Q."
        ],
        [
         "16",
         "41070419",
         "1MC SPEAKER NOT MOUNTED",
         "IC CKT 1MC LOUDS",
         "OWC DISCOVERED INOP 1MC SPEAKER DURING A ROUTINE TROUBLECALL. THE NEW 1MC SPEAKER THAT NEEDS TO BE INSTALLED HAS THE INCORRECT SIZE MOUNTING HOLES. THE NEW STYLE OF SPEAKER ALSO HAS THE SPEAKER WIRE HOLE ON THE INCORRECT SIDE OF THE SPEAKER. RESPECTFULLY REQUESTING ER04 TO DRILL OUT THE THREE MOUNTING HOLES IN THE BACK OF THE SPEAKER ASSEMBLY TO 1/4 OF AN INCH. REQUESTING A NEW 1/4 INCH HOLE TO BE DRILLED IN THE TOP OF THE SPEAKER, TO ALLOW FOR THE SPEAKER WIRE TO REACH THE TRANSFORMER."
        ],
        [
         "17",
         "41046545",
         "BROKEN FAN MOTOR",
         "VENT NONMCH PRP",
         "DURING NORMAL OPERATIONS IT WAS DISCOVERED MOTOR FAN WAS OOC IN 2-175-1-A N22: REQUEST OWC TO ORDER AND REPLACE PARTS"
        ],
        [
         "18",
         "41077526",
         "CORROSION",
         "CHW SYS MAGAZINE",
         "DURING INSPECTION OF COMPARTMENT 2-84-1-L IT WAS DISCOVERED THAT GAUGE 2-84-3 HAS CORROSION BUILT UP. OWC WILL PRIME AND REPAINT GAUGE 2-84-3 TO GET RID OF CORROSION."
        ],
        [
         "19",
         "41030527",
         "PRESSURE SWITCH OUT OF CAL",
         "VENT NONMCH PRP",
         "OWC DISCOVERED MAC UNIT PRESSURE SENSOR SWITCHES 171D8WC-S-DC, SERIAL NUMBER CVN7803946,  WAS OUT OF CALIBRATION. OWC WILL TURN PRESSURE SWITCH THAT IS OUT OF CALIBRATION INTO THE CALIBRATION LAB FOR OFF STATION MARMC CALIBRATION"
        ],
        [
         "20",
         "40977233",
         "DIRTY FILTERS",
         "VENT NONMCH PRP",
         "DURING NORMAL OPERATIONS IT WAS DISCOVERED THAT THE FILTERS IN FCU 03-176-1 WERE DIRTY AND DID NOT PASS THE LIGHT TEST WHEN M-4 CHECK WAS CONDUCTED. N22: OWC WILL ORDER FILTERS AND REPLACE THEM."
        ],
        [
         "21",
         "41030699",
         "VENT. SLEEVE SUPPORT BROKEN",
         "VENTILATION SYST",
         "IN COMPARTMENT 03-161-2-L (STATEROOM) NEXT TO THE RACKS, IT WAS DISCOVERED THAT THE SUPPORT BEAM THAT HOLDS THE VENTILATION SLEEVE BECAME DETACHED FROM OVERHEAD SUPPORT. ER01 ASSESS SUPPORT AND RESECURE THE BEAM TO OVERHEAD."
        ],
        [
         "22",
         "40979858",
         "REPLACE FCU VENT VALVES",
         "VENT NONMCH PRP",
         "VENT VALVES ON FCU ARE LEAKING CAUSING WATER ON THE DECK. OWC WILL ORDER AND REPLACE NEW VENT VALVES ON FAN COIL UNITS."
        ],
        [
         "23",
         "40976207",
         "DIRTY AIR FILTER",
         "VENTILATION SYST",
         "DURING NORMAL OPERATIONS OWC NOTICED EXCESSIVLY DIRTY AIR FILTERS IN COMPATRMENT 01-49-3-Q. OWC WILL ORDER AND REPLACE AIR FILTERS."
        ],
        [
         "24",
         "40976319",
         "REPLACEMENT OF FILTERS",
         "VENT NONMCH PRP",
         "DURING PMS OF MIP 5121/029 MRC 61 H1KT Y, IT WAS DISCOVERED THAT FILTERS WERE DIRTY AND NEEDED REPLACING. OWC WILL REORDER FILTER AND REPLACE IAW MIP 5121/029."
        ],
        [
         "25",
         "40967528",
         "VLV MISSING LABEL",
         "CHW SYS 3 FCU 3-",
         "DURING INSPECTION OF COMPARTMENT 3-165-4-L, IT WAS DISCOVERED THAT VALVE 3-174-2 WAS MISSING A LABEL. OWC WILL ORDER NEW VALVE LABELS FROM ENGRAVING SHOP."
        ],
        [
         "26",
         "40963795",
         "SEIZED BASKET",
         "AC PLANT 9 SW PU",
         "WHILE CONDUCTING PMS CHECK 5000/015 R-2W, FLUSH HELLAN STRAINER ON #9 A/C, IT WAS DISCOVERED THAT THE HANDWHEELS FAILED TO TURN, INDICATING A CLOGGED/DAMAGED BASKET. S/F WILL ORDER AND REPLACE INTERNALS IAW S6437-BJ-MMC-010."
        ],
        [
         "27",
         "40948755",
         "INOPERABLE 1MC",
         "IC CKT 1MC LOUDS",
         "WHILE TROUBLESHOOTING IT WAS DISCOVERED THAT 1MC LOUDSPEAKER WAS INOP. NO REPAIR PARTS ONBOARD. OWC WILL INSTALL NEW LOUDSPEAKER"
        ],
        [
         "28",
         "40977193",
         "LOW STOCK",
         "VENT NONMCH PRP",
         "OWC STOCK LOW AFTER REPLACMENT OF  A27 V BELTS ORDER 15 UNITS FOR UNDERWAY"
        ],
        [
         "29",
         "40977194",
         "LOW STOCK",
         "VENT NONMCH PRP",
         "OWC STOCK LOW ON A27 V BELTS ORDER 15 UNITS FOR UNDERWAY"
        ],
        [
         "30",
         "40947715",
         "FILTER REPLACEMENT",
         "VENT NONMCH PRP",
         "IN SUPPORT OF UPCOMING MAINTENANCE CS47 WILL BE ORDERING FILTERS IN ORDER TO SUPPORT MAINTENANCE OWC WILL COMPLETE S-7 UPON RECEIPT OF FILTERS"
        ],
        [
         "31",
         "40949381",
         "FCU REPAIR",
         "VENT NONMCH PRP",
         "FCU 03-206-1 IN COMPARTMENT 03-205-1-L WAS LEAKING IN THE PASSAGEWAY AND CAUSING MINOR FLOODING DUE TO INEFFECTIVE DRAINING SYSTEM. SF REMOVED MISALIGNED DRAINAGE PIPE AND FUNNEL REPLACED WITH PARTS ON HAND."
        ],
        [
         "32",
         "40939825",
         "EXHAUST 01-161-2",
         "VENTILATION SYST",
         "DURING INSPECTION EXHAUST 01-161-2 WAS DISCOVERED TO BE CORRODED AND DETERIORATED. **FY 22 PIA** REQUEST OUTSIDE ACTIVITY TO SERVICE/REPLACE COOLING COIL AND HOUSING FILTER 01-161-2"
        ],
        [
         "33",
         "40955338",
         "DEFECTIVE RELAY",
         "VENT NONMCH PRP",
         "DURING TROUBLESHOOTING, IT WAS DISCOVERED THE RELAY WAS NO LONGER FUNCTIONAL. OWC TO ORDER PART, REPLACE PART, AND RESTORE EQUIPMENT TO NORMAL OPERATIONAL CONDITION."
        ],
        [
         "34",
         "40936110",
         "PARTS NEED FOR HEATER 3-176-1",
         "VENT NONMCH PRP",
         "WHILE CONDUCTING PMS CHECK MRC: 5121/100 MRC: A-1. IT DISCOVERD THAT MULTIPLY MISSING PARTS WAS REMOVED MAKING EQUIPMENT NON OPERATIONAL OWC WILL PROCURE AND INSTALL  ALL MISSING PARTS TO MAKE EQUIPMENT OPERATIONAL."
        ],
        [
         "35",
         "40936128",
         "VENT DIFFUSERS",
         "VENTILATION SYST",
         "SPACE 03-09-0-L CREW BERTHING HAS (2) DAMAGED VENT DIFFUSERS. ORDER AND REPLACCE AFTER NEW PARTS ARRIVE."
        ],
        [
         "36",
         "40938693",
         "PARTS REQUIRED FOR PMS",
         "VENT NONMCH PRP",
         "PART REQUIRED FOR PMS IAW MRC Q-1. OWC WILL ORDER AND INSTALL PARTS UPON RECIEPT."
        ],
        [
         "37",
         "40928790",
         "MAC UNIT FILTERS DIRTY",
         "VENT NONMCH PRP",
         "DURING PMS OWC DISCOVERED THAT FILTERS IN MAC UNIT WERE DIRTY AND REQUIRE REPLACMENT. OWC WILL ORDER AND REPLACE FILTERS IN MAC UNIT #16CD AND #17CD. MAC UNIT TAKES ONE OF EACH SIZE FILTER."
        ],
        [
         "38",
         "40937804",
         "FAN COIL INOP",
         "VENT NONMCH PRP",
         "IT WAS DISCOVERED IN COMPARTMENT 03-175-10 CAG ADP THAT THE ON/OFF SWITCH ON THE MARLO FAN COIL UNIT IS INOP. AIR CONDITION IS NONEXISTENT DUE TO NO BEING ABLE TO POWER FAN. REQUEST EE02 TO REPLACE ON/OFF SWITCH ONCE OWC RECIEVES PART ON ORDER"
        ],
        [
         "39",
         "40949525",
         "03-88-4 CASTLE NUT FABRICATION",
         "VENT NONMCH PRP",
         "IT WAS DISCOVERED DURING INSPECTION THAT THE ORIGINAL CASTLE NUT OF THE ORIGINAL MOTOR FOR SUPPLY 03-88-4, WAS CORRODED AND WOULD THEREFORE NOT FIT THE SHAFT OF THE NEW MOTOR TO BE INSTALLED. RESPECTFULLY REQUEST ER01 TO FABRICATE A NEW CASTLE NUT THAT WILL FIT ON THE THREADS OF THE SHAFT OF THE NEWLY ACQUIRED MOTOR FOR JOB EE02-1289. EM2 NUNEZROBLERO JDIAL: 5590"
        ],
        [
         "40",
         "40917965",
         "FCU AIR FILTER DEGRADED",
         "VENT NONMCH PRP",
         "DURING NORAML OPERATIONS IT WAS DISCOVER THAT THE AIR FILTER IN VENT NONMCH PRP FCU R-2-46-2 WAS DEGRADED AND NEEDS TO BE REPLACED. OWC WILL ORDER NEW AIR FILTER AND REPLACE."
        ],
        [
         "41",
         "40918946",
         "MAC UNIT BELTS BROKEN",
         "VENT NONMCH PRP",
         "MAC UNIT 01-196-2 BECAME INOP ON 10 MAR 2022. TROUBLE SHOOTING LED TO SEVERAL ELECTRICAL ISSUES WHICH REQUIRED REWIRING.  NEW MOTOR IS INSTALLED AND ALL ELECTRICAL DEFICIENCIES SUCCESSFULLY CORRECTED.  TWO BELTS ARE BROKEN FROM THE PREVIOUS MOTOR AND REQUIRE REPLACEMENT TO RESTORE SYSTEM FUNCTIONALITY. OWC PROCURE AND REPLACE TWO BELTS."
        ],
        [
         "42",
         "40926239",
         "DEGRADED FILTERS",
         "VENT NONMCH PRP",
         "DURING PMS FILTERS WERE FOUND TO BE DEGRADED OWC WILL ORDER AND REPLACE FILTERS"
        ],
        [
         "43",
         "40902723",
         "ORDER FILTER",
         "VENT NONMCH PRP",
         "DURING COMPLETION OF MIP 5121 MRC 21 A1JW N   DURING 1.A.(5) OWC PRESSURE GAUGE READING IN RED ORDER FILTER NSN: 9B 4130 015009572"
        ],
        [
         "44",
         "40907745",
         "INSUFFICIENT PARTS",
         "VENT NONMCH PRP",
         "DURING ZONE WALKTHROUGH PERSONNEL FOUND THAT FAN COIL UNIT WAS MISSING SCREWS. OWC NEEDS TO RESTOCK TOOL ROOM."
        ],
        [
         "45",
         "40917963",
         "NO 6 AC SUB CLR DRAIN LEAK",
         "AC PLANT NO. 6 S",
         "800 TON AC NO 6 SUB-CLR IS LEAKING FROM DRAIN LINE FLANGE. OWC WILL ORDER GASKET AND INSTALL IN FLANGE TO DRAIN LINE."
        ],
        [
         "46",
         "40918531",
         "LAGGING RIPPED",
         "CHW SYS MAC 446",
         "OWC CS11 DISCOVERED THAT THE CHW RTN AND SPLY LOCATED IN 03-64-02-L FRAME 88-90 WAS SEVERLY CUT. REQUEST SHIPS LAGGING TEAM REPAIRED CUT SECTIONS OF LAGGING."
        ],
        [
         "47",
         "40922374",
         "LOW SURVEY SUPPLIES",
         "HD-732()/UD, 1-8",
         "DURING THE WEEKLY INSPECTION OF THE STOREROOM IT WAS DISCOVERED THAT SOME OF THE REQUIRED SURVEY MATERIAL FOR CASUALTY RESPONSE WERE LOW OH. OWC WILL ORDER SUPPLIES FROM SUPPLY."
        ],
        [
         "48",
         "40902823",
         "FILTER REPLACEMENT",
         "VENT NONMCH PRP",
         "IT WAS DISCOVERED DURING PMS THAT MULTIPLE FCUS REQUIRE FILTER REPLACEMENTS. OWC WILL ORDER AND INSTALL UPON RECEIPT OF PARTS."
        ],
        [
         "49",
         "40898382",
         "DEGRADED HOOD SOLENOID",
         "CONG GALY NO2 GA",
         "DURING NORMAL OPERATIONS A VENTILATION HOOD DAMPNER WAS FOUND TO BE DEGRADED. OWC WILL REPLACE PART AND RESTORE TO READINESS CONDITION."
        ]
       ],
       "shape": {
        "columns": 4,
        "rows": 47350
       }
      },
      "text/html": [
       "<div>\n",
       "<style scoped>\n",
       "    .dataframe tbody tr th:only-of-type {\n",
       "        vertical-align: middle;\n",
       "    }\n",
       "\n",
       "    .dataframe tbody tr th {\n",
       "        vertical-align: top;\n",
       "    }\n",
       "\n",
       "    .dataframe thead th {\n",
       "        text-align: right;\n",
       "    }\n",
       "</style>\n",
       "<table border=\"1\" class=\"dataframe\">\n",
       "  <thead>\n",
       "    <tr style=\"text-align: right;\">\n",
       "      <th></th>\n",
       "      <th>job_seq</th>\n",
       "      <th>csmp_narrative_summary</th>\n",
       "      <th>equipment_nomenclature</th>\n",
       "      <th>def_narrative</th>\n",
       "    </tr>\n",
       "  </thead>\n",
       "  <tbody>\n",
       "    <tr>\n",
       "      <th>0</th>\n",
       "      <td>36493414</td>\n",
       "      <td>PARTS MISSING</td>\n",
       "      <td>HOOD VENT  NA-24</td>\n",
       "      <td>Unknown</td>\n",
       "    </tr>\n",
       "    <tr>\n",
       "      <th>1</th>\n",
       "      <td>36493441</td>\n",
       "      <td>PARTS MISSING</td>\n",
       "      <td>CONTROL DE-SMOKE</td>\n",
       "      <td>Unknown</td>\n",
       "    </tr>\n",
       "    <tr>\n",
       "      <th>2</th>\n",
       "      <td>36496418</td>\n",
       "      <td>PARTS MISSING</td>\n",
       "      <td>CONTROL DE-SMOKE</td>\n",
       "      <td>Unknown</td>\n",
       "    </tr>\n",
       "    <tr>\n",
       "      <th>3</th>\n",
       "      <td>36305764</td>\n",
       "      <td>PARTS BROKEN</td>\n",
       "      <td>PUMP UNIT DETERG</td>\n",
       "      <td>Unknown</td>\n",
       "    </tr>\n",
       "    <tr>\n",
       "      <th>4</th>\n",
       "      <td>36962865</td>\n",
       "      <td>DAMPER WILL NOT RESET</td>\n",
       "      <td>SWITCH CONT UNIT</td>\n",
       "      <td>Unknown</td>\n",
       "    </tr>\n",
       "    <tr>\n",
       "      <th>...</th>\n",
       "      <td>...</td>\n",
       "      <td>...</td>\n",
       "      <td>...</td>\n",
       "      <td>...</td>\n",
       "    </tr>\n",
       "    <tr>\n",
       "      <th>47345</th>\n",
       "      <td>41094097</td>\n",
       "      <td>SF FY23 PIA CLEAN VENT SYSTEM</td>\n",
       "      <td>VENT NONMCH PRP</td>\n",
       "      <td>COOLING COIL SYSTEMS 03-173-2 AND 03-174-2 IN ...</td>\n",
       "    </tr>\n",
       "    <tr>\n",
       "      <th>47346</th>\n",
       "      <td>41100681</td>\n",
       "      <td>VENTILATION DETERIORATED</td>\n",
       "      <td>VENTILATION SYST</td>\n",
       "      <td>DURING INSPECTION, INSPECTOR DISCOVERED VENTIL...</td>\n",
       "    </tr>\n",
       "    <tr>\n",
       "      <th>47347</th>\n",
       "      <td>36922139</td>\n",
       "      <td>FAULTY MIXER</td>\n",
       "      <td>IC CKT 2MC AMPLI</td>\n",
       "      <td>Unknown</td>\n",
       "    </tr>\n",
       "    <tr>\n",
       "      <th>47348</th>\n",
       "      <td>41109742</td>\n",
       "      <td>PLATE BENT</td>\n",
       "      <td>VENT NONMCH PRP</td>\n",
       "      <td>*P-OMMS RX40-0010Y* UPON REPLACING DRIVE BELT ...</td>\n",
       "    </tr>\n",
       "    <tr>\n",
       "      <th>47349</th>\n",
       "      <td>41111973</td>\n",
       "      <td>SPACE REQUIRES PRESERVATION.</td>\n",
       "      <td>PLENUM, VENTILAT</td>\n",
       "      <td>EDL 08972.  01-156-5-Q REQUIRES PRESERVATION. ...</td>\n",
       "    </tr>\n",
       "  </tbody>\n",
       "</table>\n",
       "<p>47350 rows × 4 columns</p>\n",
       "</div>"
      ],
      "text/plain": [
       "        job_seq         csmp_narrative_summary equipment_nomenclature  \\\n",
       "0      36493414                  PARTS MISSING       HOOD VENT  NA-24   \n",
       "1      36493441                  PARTS MISSING       CONTROL DE-SMOKE   \n",
       "2      36496418                  PARTS MISSING       CONTROL DE-SMOKE   \n",
       "3      36305764                   PARTS BROKEN       PUMP UNIT DETERG   \n",
       "4      36962865          DAMPER WILL NOT RESET       SWITCH CONT UNIT   \n",
       "...         ...                            ...                    ...   \n",
       "47345  41094097  SF FY23 PIA CLEAN VENT SYSTEM        VENT NONMCH PRP   \n",
       "47346  41100681       VENTILATION DETERIORATED       VENTILATION SYST   \n",
       "47347  36922139                   FAULTY MIXER       IC CKT 2MC AMPLI   \n",
       "47348  41109742                     PLATE BENT        VENT NONMCH PRP   \n",
       "47349  41111973   SPACE REQUIRES PRESERVATION.       PLENUM, VENTILAT   \n",
       "\n",
       "                                           def_narrative  \n",
       "0                                                Unknown  \n",
       "1                                                Unknown  \n",
       "2                                                Unknown  \n",
       "3                                                Unknown  \n",
       "4                                                Unknown  \n",
       "...                                                  ...  \n",
       "47345  COOLING COIL SYSTEMS 03-173-2 AND 03-174-2 IN ...  \n",
       "47346  DURING INSPECTION, INSPECTOR DISCOVERED VENTIL...  \n",
       "47347                                            Unknown  \n",
       "47348  *P-OMMS RX40-0010Y* UPON REPLACING DRIVE BELT ...  \n",
       "47349  EDL 08972.  01-156-5-Q REQUIRES PRESERVATION. ...  \n",
       "\n",
       "[47350 rows x 4 columns]"
      ]
     },
     "execution_count": 5,
     "metadata": {},
     "output_type": "execute_result"
    }
   ],
   "source": [
    "jobs_sub = jobs[['job_seq','csmp_narrative_summary','equipment_nomenclature','def_narrative']]\n",
    "jobs_sub"
   ]
  },
  {
   "cell_type": "markdown",
   "id": "1e44baed",
   "metadata": {},
   "source": [
    "# Using Equipment Nomenclature to Extract Equipment System"
   ]
  },
  {
   "cell_type": "markdown",
   "id": "4ca46465",
   "metadata": {},
   "source": [
    "# Systems: Count [30 Manually Tagged]\n",
    "<pre>\n",
    "Ventilation System: 8\n",
    "AC System: 7\n",
    "MC System: 7\n",
    "Heating System: 2\n",
    "Chilled Water System: 3\n",
    "Unknown: 3\n"
   ]
  },
  {
   "cell_type": "code",
   "execution_count": 19,
   "id": "86d72cf2",
   "metadata": {},
   "outputs": [
    {
     "data": {
      "application/vnd.microsoft.datawrangler.viewer.v0+json": {
       "columns": [
        {
         "name": "equipment_nomenclature",
         "rawType": "string",
         "type": "string"
        },
        {
         "name": "count",
         "rawType": "Int64",
         "type": "integer"
        }
       ],
       "ref": "07fc6294-47bc-45e0-8202-bfe7c5e82c65",
       "rows": [
        [
         "VENT NONMCH PRP",
         "23687"
        ],
        [
         "VENTILATION SYST",
         "1406"
        ],
        [
         "VENT MACH SPCS F",
         "1078"
        ],
        [
         "AIR CONDITIONING",
         "980"
        ],
        [
         "NON-MACHINERY SP",
         "749"
        ],
        [
         "ANNOUNCING SYSTE",
         "693"
        ],
        [
         "SVCE STM POTW HT",
         "639"
        ],
        [
         "IC CKT 1MC LOUDS",
         "603"
        ],
        [
         "VENTILATION ACCE",
         "388"
        ],
        [
         "IC CKT 1MC/3MC A",
         "308"
        ],
        [
         "PLENUM, VENTILAT",
         "241"
        ],
        [
         "IC CKT 5MC LOUDS",
         "233"
        ],
        [
         "HEATING SYS CONV",
         "229"
        ],
        [
         "IC CKT 1MC/3MC C",
         "222"
        ],
        [
         "VENT MACH SPCS S",
         "204"
        ],
        [
         "CHW SYS DRINKING",
         "203"
        ],
        [
         "SEE CDM FOR INFO",
         "202"
        ],
        [
         "CHW SYS DUCT TYP",
         "198"
        ],
        [
         "IM-239/WDQ FC3 R",
         "174"
        ],
        [
         "ANCG SYS LOUDSPE",
         "164"
        ],
        [
         "800 TON AC NO 5",
         "160"
        ],
        [
         "VENT MACH SPCS O",
         "159"
        ],
        [
         "800 TON AC PLANT",
         "148"
        ],
        [
         "800 TON AC NO 2",
         "148"
        ],
        [
         "VENT MACH SPCS I",
         "137"
        ],
        [
         "800 TON AC NO 1",
         "131"
        ],
        [
         "IC CKT 1MC MICRO",
         "128"
        ],
        [
         "CONDENSER",
         "123"
        ],
        [
         "800 TON AC NO 6",
         "119"
        ],
        [
         "CHW SYS AC PLT N",
         "119"
        ],
        [
         "800 TON AC NO 3",
         "110"
        ],
        [
         "800 TON AC NO 4",
         "109"
        ],
        [
         "AC PLANT 4 SW CI",
         "106"
        ],
        [
         "AC PLANT 3 SW CI",
         "105"
        ],
        [
         "AC PLANT 6 SW CI",
         "104"
        ],
        [
         "CHW SYS MONITORI",
         "101"
        ],
        [
         "PURGE AND PUMPOU",
         "95"
        ],
        [
         "CHILLED WTR CLG",
         "93"
        ],
        [
         "AC PLANT 2 SW CI",
         "91"
        ],
        [
         "VENT MACH SPCS C",
         "91"
        ],
        [
         "IC CKT 11VS AFS",
         "90"
        ],
        [
         "AC PLANT 5 SW CI",
         "90"
        ],
        [
         "AC PLANT 8 SW CI",
         "85"
        ],
        [
         "IC CKT 2MC AMPLI",
         "84"
        ],
        [
         "AC PLANT 7 SW CI",
         "84"
        ],
        [
         "AC PLANT 1 SW CI",
         "80"
        ],
        [
         "AC PLANT 3 COMPR",
         "80"
        ],
        [
         "VENT MACH SPCS U",
         "75"
        ],
        [
         "IC CKT 17HF AIRF",
         "74"
        ],
        [
         "MACHINERY SPACE",
         "74"
        ]
       ],
       "shape": {
        "columns": 1,
        "rows": 2142
       }
      },
      "text/plain": [
       "equipment_nomenclature\n",
       "VENT NONMCH PRP     23687\n",
       "VENTILATION SYST     1406\n",
       "VENT MACH SPCS F     1078\n",
       "AIR CONDITIONING      980\n",
       "NON-MACHINERY SP      749\n",
       "                    ...  \n",
       "TILE & PLATE SET        1\n",
       "VENT  S4-114-2          1\n",
       "CHW SYS 8 AC PLA        1\n",
       "CHW SYS FCU 02-7        1\n",
       "SPRG SYS SW UNIV        1\n",
       "Name: count, Length: 2142, dtype: Int64"
      ]
     },
     "execution_count": 19,
     "metadata": {},
     "output_type": "execute_result"
    }
   ],
   "source": [
    "jobs['equipment_nomenclature'].value_counts()"
   ]
  },
  {
   "cell_type": "code",
   "execution_count": null,
   "id": "d6fc2583",
   "metadata": {},
   "outputs": [],
   "source": [
    "equipment_nomenclature = { #33973 records included when looking at first 30. Added ~ 19 more  \n",
    "    'VENT NONMCH PRP': 'Ventilation System',\n",
    "    'VENTILATION SYST': 'Ventilation System',\n",
    "    'VENT MACH SPCS F': 'Ventilation System',\n",
    "    'AIR CONDITIONING': 'AC System',\n",
    "    'NON-MACHINERY SP': 'Unknown',\n",
    "    'ANNOUNCING SYSTE': 'MC System',\n",
    "    'SVCE STM POTW HT': 'Heating System',\n",
    "    'IC CKT 1MC LOUDS': 'MC System',\n",
    "    'VENTILATION ACCE' : 'Ventilation System',\n",
    "    'IC CKT 1MC/3MC A': 'MC System',\n",
    "    'PLENUM, VENTILAT': 'Ventilation System',\n",
    "    'IC CKT 5MC LOUDS': 'MC System',\n",
    "    'HEATING SYS CONV': 'Heating System',\n",
    "    'IC CKT 1MC/3MC C': 'MC System',\n",
    "    'VENT MACH SPCS S' : 'Ventilation System',\n",
    "    'CHW SYS DRINKING': 'Chilled Water System',\n",
    "    'CHW SYS DUCT TYP': 'Chilled Water System',\n",
    "    'SEE CDM FOR INFO': 'Unknown',\n",
    "    'IM-239/WDQ FC3 R': 'Unknown',\n",
    "    'ANCG SYS LOUDSPE': 'MC System',\n",
    "    '800 TON AC NO 5' : 'AC System',\n",
    "    'VENT MACH SPCS O': 'Ventilation System',\n",
    "    '800 TON AC PLANT': 'AC System',\n",
    "    '800 TON AC NO 2': 'AC System',\n",
    "    'VENT MACH SPCS I': 'Ventilation System',\n",
    "    '800 TON AC NO 1' : 'AC System',\n",
    "    'IC CKT 1MC MICRO': 'MC System',\n",
    "    'Condenser': 'AC System',\n",
    "    '800 TON AC NO 6': 'AC System',\n",
    "    'CHW SYS AC PLT N' : 'Chilled Water System',\n",
    "    '800 TON AC NO 3': 'AC System',\n",
    "    '800 TON AC NO 4': 'AC System',\n",
    "    'AC PLANT 4 SW CI': 'AC System',\n",
    "    'AC PLANT 3 SW CI': 'AC System',\n",
    "    'AC PLANT 6 SW CI': 'AC System',\n",
    "    'CHW SYS MONITORI': 'Chilled Water System',\n",
    "    'CHILLED WTR CLG': 'Chilled Water System',\n",
    "    'AC PLANT 2 SW CI': 'AC System',\n",
    "    'VENT MACH SPCS C': 'Ventilation System',\n",
    "    'IC CKT 11VS AFS': 'MC System',\n",
    "    'AC PLANT 5 SW CI': 'AC System',\n",
    "    'AC PLANT 8 SW CI': 'AC System',\n",
    "    'IC CKT 2MC AMPLI': 'MC System',\n",
    "    'AC PLANT 7 SW CI': 'AC System',\n",
    "    'AC PLANT 1 SW CI': 'AC System',\n",
    "    'AC PLANT 3 COMPR': 'AC System',\n",
    "    'VENT MACH SPCS U': 'Ventilation System',\n",
    "    'IC CKT 17HF AIRF': 'MC System'  \n",
    "}"
   ]
  },
  {
   "cell_type": "markdown",
   "id": "5f345c67",
   "metadata": {},
   "source": [
    "# Notes\n",
    "<pre>\n",
    "MC: Main Communication\n",
    "1MC: General Announcing System\n",
    "3MC: Damage Control Announcing System\n",
    "5MC: Flight Deck Announcing System\n",
    "IC: Intercom System"
   ]
  }
 ],
 "metadata": {
  "kernelspec": {
   "display_name": "base",
   "language": "python",
   "name": "python3"
  },
  "language_info": {
   "codemirror_mode": {
    "name": "ipython",
    "version": 3
   },
   "file_extension": ".py",
   "mimetype": "text/x-python",
   "name": "python",
   "nbconvert_exporter": "python",
   "pygments_lexer": "ipython3",
   "version": "3.12.7"
  }
 },
 "nbformat": 4,
 "nbformat_minor": 5
}
