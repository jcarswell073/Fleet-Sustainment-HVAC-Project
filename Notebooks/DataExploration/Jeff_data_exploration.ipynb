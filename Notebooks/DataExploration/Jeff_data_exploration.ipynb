{
 "cells": [
  {
   "cell_type": "code",
   "execution_count": null,
   "id": "cdf47f90",
   "metadata": {},
   "outputs": [
    {
     "name": "stderr",
     "output_type": "stream",
     "text": [
      "C:\\Users\\jcars\\AppData\\Local\\Temp\\ipykernel_31304\\2446524492.py:2: DtypeWarning: Columns (3,4,20) have mixed types. Specify dtype option on import or set low_memory=False.\n",
      "  jobs = pd.read_csv(\"C:\\\\Users\\\\jcars\\\\OneDrive\\\\HII_internshipProject\\\\Fleet-Sustainment-HVAC-Project\\\\RawData\\\\cvn-hvac-jobs-data.csv\")\n"
     ]
    }
   ],
   "source": [
    "import pandas as pd \n",
    "jobs = pd.read_csv(\"C:\\\\Users\\\\jcars\\\\OneDrive\\\\HII_internshipProject\\\\Fleet-Sustainment-HVAC-Project\\\\RawData\\\\cvn-hvac-jobs-data.csv\")\n",
    "supply = pd.read_csv(\"C:\\\\Users\\\\jcars\\\\OneDrive\\\\HII_internshipProject\\\\Fleet-Sustainment-HVAC-Project\\\\RawData\\\\cvn-hvac-supply-data.csv\")\n",
    "\n",
    "jobs"
   ]
  },
  {
   "cell_type": "markdown",
   "id": "9d3544eb",
   "metadata": {},
   "source": [
    "job_seq: Uniquely identifies a job record (47350 unique values)"
   ]
  },
  {
   "cell_type": "markdown",
   "id": "7943202b",
   "metadata": {},
   "source": [
    "action_taken_code: Action taken by sailor due to failure of malfunction of equipment\n",
    "~95% of observed entries are 1,3,4,2\n",
    "About 11k NAs"
   ]
  },
  {
   "cell_type": "markdown",
   "id": "a71b1872",
   "metadata": {},
   "source": [
    "apl: Allowance Parts List \n",
    "2763 unique values \n",
    "~31000 have length 9, 8k length 11, 5k length 8, 3k length 10"
   ]
  },
  {
   "cell_type": "code",
   "execution_count": null,
   "id": "6d2b0649",
   "metadata": {},
   "outputs": [
    {
     "data": {
      "application/vnd.microsoft.datawrangler.viewer.v0+json": {
       "columns": [
        {
         "name": "index",
         "rawType": "int64",
         "type": "integer"
        },
        {
         "name": "length",
         "rawType": "int64",
         "type": "integer"
        },
        {
         "name": "count",
         "rawType": "int64",
         "type": "integer"
        }
       ],
       "ref": "c4bd2b57-bb33-492f-8b7a-b49704b33fc3",
       "rows": [
        [
         "0",
         "9",
         "30663"
        ],
        [
         "1",
         "11",
         "7803"
        ],
        [
         "2",
         "8",
         "4950"
        ],
        [
         "3",
         "10",
         "3227"
        ],
        [
         "4",
         "5",
         "368"
        ],
        [
         "5",
         "4",
         "251"
        ],
        [
         "6",
         "7",
         "2"
        ]
       ],
       "shape": {
        "columns": 2,
        "rows": 7
       }
      },
      "text/html": [
       "<div>\n",
       "<style scoped>\n",
       "    .dataframe tbody tr th:only-of-type {\n",
       "        vertical-align: middle;\n",
       "    }\n",
       "\n",
       "    .dataframe tbody tr th {\n",
       "        vertical-align: top;\n",
       "    }\n",
       "\n",
       "    .dataframe thead th {\n",
       "        text-align: right;\n",
       "    }\n",
       "</style>\n",
       "<table border=\"1\" class=\"dataframe\">\n",
       "  <thead>\n",
       "    <tr style=\"text-align: right;\">\n",
       "      <th></th>\n",
       "      <th>length</th>\n",
       "      <th>count</th>\n",
       "    </tr>\n",
       "  </thead>\n",
       "  <tbody>\n",
       "    <tr>\n",
       "      <th>0</th>\n",
       "      <td>9</td>\n",
       "      <td>30663</td>\n",
       "    </tr>\n",
       "    <tr>\n",
       "      <th>1</th>\n",
       "      <td>11</td>\n",
       "      <td>7803</td>\n",
       "    </tr>\n",
       "    <tr>\n",
       "      <th>2</th>\n",
       "      <td>8</td>\n",
       "      <td>4950</td>\n",
       "    </tr>\n",
       "    <tr>\n",
       "      <th>3</th>\n",
       "      <td>10</td>\n",
       "      <td>3227</td>\n",
       "    </tr>\n",
       "    <tr>\n",
       "      <th>4</th>\n",
       "      <td>5</td>\n",
       "      <td>368</td>\n",
       "    </tr>\n",
       "    <tr>\n",
       "      <th>5</th>\n",
       "      <td>4</td>\n",
       "      <td>251</td>\n",
       "    </tr>\n",
       "    <tr>\n",
       "      <th>6</th>\n",
       "      <td>7</td>\n",
       "      <td>2</td>\n",
       "    </tr>\n",
       "  </tbody>\n",
       "</table>\n",
       "</div>"
      ],
      "text/plain": [
       "   length  count\n",
       "0       9  30663\n",
       "1      11   7803\n",
       "2       8   4950\n",
       "3      10   3227\n",
       "4       5    368\n",
       "5       4    251\n",
       "6       7      2"
      ]
     },
     "execution_count": 5,
     "metadata": {},
     "output_type": "execute_result"
    }
   ],
   "source": [
    "\n",
    "jobs['apl'].value_counts(normalize = 'True').round(2) #Proportions using normalize \n",
    "\n",
    "\n",
    "\n",
    "apl_lengths = [len(s) for s in jobs['apl'].astype('string').dropna()]  #Table displays how often an apl has 8 characters, 9 characters, etc. \n",
    "df = pd.DataFrame({'length':apl_lengths}) \n",
    "table = df['length'].value_counts().reset_index()\n",
    "table \n",
    "#~31000 have length 9, 8k length 11, 5k length 8, 3k length 10. "
   ]
  },
  {
   "cell_type": "markdown",
   "id": "2f5d2da7",
   "metadata": {},
   "source": [
    "cause_code: Most are code 7 (56%) or 0 (34%)\n",
    "\n",
    "7: Normal wear and tear\n",
    "0: No malfunction\n",
    "Some others showing up ~1-2% of the time:\n",
    "8: Corrosion\n",
    "6: Inadequate design\n",
    "1: Abnormal enviornment"
   ]
  },
  {
   "cell_type": "markdown",
   "id": "94ba5d0f",
   "metadata": {},
   "source": [
    "cdm_rin:\n",
    "All but 16 records have length 5\n",
    "Configuration of the ship. Describes changes from the design of the ship to the final build. It is an identifier for that subsystem or system at that point in time."
   ]
  },
  {
   "cell_type": "markdown",
   "id": "a4342e40",
   "metadata": {},
   "source": [
    "csmp_narrative_summary: Condensed description of the problem, limited to 30 characters"
   ]
  },
  {
   "cell_type": "markdown",
   "id": "0922f852",
   "metadata": {},
   "source": [
    "date_maintenace_action: Ranging from 11/1/2017 to 5/31/2022\n",
    "\n",
    "date_closing: Ranging from 11/1/2017 to 6/16/2022\n",
    "~11k NAs. Believed to be unfinished jobs at the time the maintenance data stopped being updated\n",
    "\n",
    "One possible idea could be to fit 2 models. One with a time sequential train/test split and another split randomly to see if this influences\n",
    "performance .\n"
   ]
  },
  {
   "cell_type": "markdown",
   "id": "c549c02d",
   "metadata": {},
   "source": [
    "deferral_reason_code: \n",
    "Identifies the reason for deferring the maintenance action [Percentage of recorded entries for this column]\n",
    "    0: OTHER/ NA [14%]\n",
    "    1: Due to ship's force work backlog/ operational priority [24%]\n",
    "    2: Lack of material [35%]\n",
    "    3: No formal training for this equipment \n",
    "    4: Formal training inadequate for this equipment\n",
    "    5: Inadequate school practical training\n",
    "    6: Lack of facilities/ capabilities [13%]\n",
    "    7: Not authorized for ship's force accomplishment\n",
    "    8: For ship's force overhaul or availability work list [10%]\n",
    "    9: Lack of technical documentation\n",
    "    "
   ]
  },
  {
   "cell_type": "markdown",
   "id": "9322ffbb",
   "metadata": {},
   "source": [
    "due_date:\n",
    "The latest possible day for completion of the maintenance action received by ships force. Reported or deferral only. \n",
    "~ 43% are non empty "
   ]
  },
  {
   "cell_type": "markdown",
   "id": "065503d8",
   "metadata": {},
   "source": [
    "eic: Equipment Identification Code\n",
    "7 character code. *Not available in appendix\n",
    "    1: system\n",
    "    2: subsystem\n",
    "    3 and 4: equipment category in system \n",
    "    - Last 3 digits: Greater detail"
   ]
  },
  {
   "cell_type": "markdown",
   "id": "76c265b0",
   "metadata": {},
   "source": [
    "equipment_nomenclature: Description of the equipment as reported by the person involved in the Maintenance Action. \n",
    "~ Half are 'Vent nonmch Prp'"
   ]
  },
  {
   "cell_type": "markdown",
   "id": "eb211f75",
   "metadata": {},
   "source": [
    "eswbs_opening: Expanded Ship Work Breakdown Structure (ESWBS) reported by the ships force during the opening of the Deferral or Non Deferral. \n",
    " *eswbs_opening and eswbs_closing are almost always the same. eswbs_closing is not recorded for Unfinished jobs\n",
    "21 distinct values for eswbs_opening\n",
    "\n",
    "First 3 identify the section of the MIL-STD-1399\n",
    "Last 2 distinguish sections relatedd to the same primary ESWBS element in case of subject duplication; however, around 85% end with \"11\"\n",
    "\n",
    "512: 60%\n",
    "514: 20%\n",
    "433: 7%\n",
    "513: 7%\n",
    "436: 3%\n",
    "511: 2%"
   ]
  },
  {
   "cell_type": "markdown",
   "id": "2fc653e6",
   "metadata": {},
   "source": [
    "identification_number_closing: The ID/EQUIPMENT SERIAL NUMBER of the equipment reported at the closing of the Deferral MA. \n",
    "    - Non-Deferral/IMA MAs will be \"NULL\".\n",
    "\n",
    "Does not uniquely identify equipment. Filtered to include with value '12AF. Gave results on different ships and in different locations. \n"
   ]
  },
  {
   "cell_type": "markdown",
   "id": "debd460a",
   "metadata": {},
   "source": [
    "jcn: uic (ship identifier) + work center + job sequence number \n",
    "First 5 digits - UIC. Next 4 digits - Cognizant Work Center. Last 4 digits - Job Sequence Number"
   ]
  },
  {
   "cell_type": "markdown",
   "id": "8c3c197d",
   "metadata": {},
   "source": [
    "location: \n",
    "    1: level (up/down relative to main deck)\n",
    "    2: front of the ship to the back of the ship\n",
    "    3: distance from center line parallel to the ship (even: left, odd: right)\n",
    "    4: purpose (Q,L,M) Machine Area, Living Area, Engineering Rooms, etc.\n",
    "\n",
    "\n",
    "    A     Supply and stowage\n",
    "    AA   Cargo holds \n",
    "    C     Control centers (such as the combat information center) \n",
    "    E     Engineering (machinery) \n",
    "    F     Fuel stowage (for use by the ship; that is, not as cargo) \n",
    "    FF   Fuel stowage compartments (when cargo) \n",
    "    J     Jet (aviation) fuel for use by embarked aircraft \n",
    "    JJ    Jet (aviation) fuel as cargo \n",
    "    K    Chemicals and dangerous materials\n",
    "    L     Living spaces\n",
    "    M    Ammunition spaces\n",
    "    Q    Miscellaneous spaces\n",
    "    T     Vertical access or escape trunks \n",
    "    V     Void (spaces that are normally empty)\n",
    "    W    Water Stowage"
   ]
  },
  {
   "cell_type": "markdown",
   "id": "946c6690",
   "metadata": {},
   "source": [
    "Location Frequencies:\n",
    "\n",
    "Front of the ship to the back of the ship: \n",
    "No spot has more than 5% of observed records.\n",
    "Wide distribution of maintenance reports. "
   ]
  },
  {
   "cell_type": "code",
   "execution_count": null,
   "id": "951a40c3",
   "metadata": {},
   "outputs": [],
   "source": [
    "#looking at components of location\n",
    "sub = jobs[jobs['location'].str.count('-') == 3]\n",
    "components = sub['location'].str.split(\"-\", expand = True)\n",
    "components = components.rename(columns = {0: 'Level', 1: 'Front to Back', 2: 'Distance from Center', 3: 'Purpose'})\n",
    "\n",
    "\n",
    "# components['Level'].value_counts(normalize=True).round(2)\n",
    "# components['Front to Back'].value_counts(normalize=True).round(2)\n",
    "# components['Distance from Center'].value_counts(normalize=True).round(2)\n",
    "# components['Purpose'].value_counts(normalize=True).round(2)"
   ]
  },
  {
   "cell_type": "markdown",
   "id": "ba0f8abe",
   "metadata": {},
   "source": [
    "mhc - man hours closing\n",
    "    total man-hours expended by all ship's force personnel involved in the defferal closing or non defferal MA\n",
    "\n",
    "mho - man hours opening\n",
    "    total man-hours expended by all sf personnel involved in the deferral action up to the time of defferal\n",
    "\n",
    "mhr - man hours remaining\n",
    "    the estimated number of ship's force man-hours remianing to complete the deferred maintainance action"
   ]
  },
  {
   "cell_type": "markdown",
   "id": "f4da81f6",
   "metadata": {},
   "source": [
    "priority_code:\n",
    "the precendence of the deferred maintenance action\n",
    "    1 - MANDATORY\n",
    "    2 - ESSENTIAL\n",
    "    3 - HIGHLY DESIRABLE\n",
    "    4 - DESIRABLE\n",
    "\n",
    "99% of Jobs are Desireable"
   ]
  },
  {
   "cell_type": "markdown",
   "id": "063c13b3",
   "metadata": {},
   "source": [
    "safety_code: Filled values represent some form of perceived safety risk. 90/10% split with most having no safety risk"
   ]
  },
  {
   "cell_type": "markdown",
   "id": "818179b1",
   "metadata": {},
   "source": [
    "status_code - condition of the equipment at time when_discovered \n",
    "    many engineering users consider MAs with STATUS CODE 2/3 to be 'failures' and use for R M and A computations/analysis\n",
    "    1 - OPERATIONAL [47%]\n",
    "    2 - NON-OPERATIONAL [14%]\n",
    "    3 - REDUCED CAPABILITY [21%]\n",
    "    0 - NOT APPLICABLE (TO BE USED WHEN REPORTING PRINTING SERVICES, ETC.) [18%]"
   ]
  }
 ],
 "metadata": {
  "kernelspec": {
   "display_name": "Python 3",
   "language": "python",
   "name": "python3"
  },
  "language_info": {
   "codemirror_mode": {
    "name": "ipython",
    "version": 3
   },
   "file_extension": ".py",
   "mimetype": "text/x-python",
   "name": "python",
   "nbconvert_exporter": "python",
   "pygments_lexer": "ipython3",
   "version": "3.11.9"
  }
 },
 "nbformat": 4,
 "nbformat_minor": 5
}
